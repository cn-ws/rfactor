{
 "cells": [
  {
   "cell_type": "code",
   "execution_count": 16,
   "metadata": {},
   "outputs": [
    {
     "name": "stdout",
     "output_type": "stream",
     "text": [
      "The autoreload extension is already loaded. To reload it, use:\n",
      "  %reload_ext autoreload\n"
     ]
    }
   ],
   "source": [
    "%load_ext autoreload\n",
    "%autoreload 2"
   ]
  },
  {
   "cell_type": "markdown",
   "metadata": {},
   "source": [
    "## Aim\n",
    "\n",
    "Scripts to compute and analyse the R-factor of the RUSLE-equation. The\n",
    "R-factor is a measure for the total erosivity of a number of rainfall events\n",
    "within a defined timeframe (year, month, number of days). The factor is\n",
    "computed by calculating the yearly sum of -for every rainfall event- the sum\n",
    "of the depth of rainfall (mm) and the kinetic energy, and taking the mean\n",
    "over all years. For the formula's, we refer to the [CN-WS Pascal model documentation](https://docs.fluves.net/cnws-pascal/watem-sedem.html#rusle-factors)"
   ]
  },
  {
   "cell_type": "markdown",
   "metadata": {},
   "source": [
    "## Imports\n",
    "Main imports"
   ]
  },
  {
   "cell_type": "code",
   "execution_count": 17,
   "metadata": {},
   "outputs": [],
   "source": [
    "import matplotlib.pyplot as plt \n",
    "import pandas as pd\n",
    "import numpy as np\n",
    "from pathlib import Path\n",
    "import sys;\n",
    "import os"
   ]
  },
  {
   "cell_type": "markdown",
   "metadata": {},
   "source": [
    "Package imports"
   ]
  },
  {
   "cell_type": "code",
   "execution_count": 18,
   "metadata": {},
   "outputs": [],
   "source": [
    "from rfactor.process import (ErosivityData, compute_rainfall_statistics, compute_rainfall_statistics)\n",
    "from rfactor.rfactor import compute_rfactor"
   ]
  },
  {
   "cell_type": "markdown",
   "metadata": {},
   "source": [
    "Working directory"
   ]
  },
  {
   "cell_type": "code",
   "execution_count": 19,
   "metadata": {},
   "outputs": [],
   "source": [
    "cwd = Path().resolve()"
   ]
  },
  {
   "cell_type": "markdown",
   "metadata": {},
   "source": [
    "**Set folders**  \n",
    "The input files are defined by text files (extension: .txt) that hold non-zero rainfall timeseries. The data are split per station and per year with a specific datafile tag:  \n",
    "\n",
    "KMI_6414_2004.txt  \n",
    "KMI_6414_2005.txt  \n",
    "...  \n",
    "KMI_6434_2003.txt  \n",
    "KMI_6434_2004.txt  \n",
    "...  "
   ]
  },
  {
   "cell_type": "code",
   "execution_count": 20,
   "metadata": {},
   "outputs": [],
   "source": [
    "fmap_rainfall=  Path(r\"../../tests/data/test_rainfalldata\")\n",
    "fmap_erosivity = Path(r\"../../src/rfactor/results\")\n",
    "fmap_results = Path.cwd() / \"results\""
   ]
  },
  {
   "cell_type": "code",
   "execution_count": 21,
   "metadata": {},
   "outputs": [
    {
     "data": {
      "text/plain": [
       "WindowsPath('c:/users/sachagobeyn/github/rfactor/src/rfactor/results')"
      ]
     },
     "execution_count": 21,
     "metadata": {},
     "output_type": "execute_result"
    }
   ],
   "source": [
    "fmap_results"
   ]
  },
  {
   "cell_type": "markdown",
   "metadata": {},
   "source": [
    "**Rainfall files summary file**  \n",
    "An overview of the present datafiles for the analysis is saved in a  `files.csv` file (example in *./tests/data*). This file can be used to remove specific files from the analysis (column `consider`):\n",
    "\n",
    "   | source        | datafile      | consider  |\n",
    "  | ------------- |:-------------:| ---------:|\n",
    "  | KMI\t          | KMI_6414_2004 | 0         |\n",
    "  | KMI\t          | KMI_6414_2005 | 1         |\n",
    "  | KMI\t          | KMI_6414_2006 | 1         |\n",
    "  | ...           | ...           | ...       |\n"
   ]
  },
  {
   "cell_type": "code",
   "execution_count": 22,
   "metadata": {},
   "outputs": [
    {
     "data": {
      "text/plain": [
       "False"
      ]
     },
     "execution_count": 22,
     "metadata": {},
     "output_type": "execute_result"
    }
   ],
   "source": [
    "txt_files=  Path(r\"data\\belgium\\files.csv\")\n",
    "txt_files.exists()"
   ]
  },
  {
   "cell_type": "markdown",
   "metadata": {},
   "source": [
    "**Run Model**  \n",
    "The current implemenation makes use of a Matlab engine, which requires Matlab to be installed. Future versions of this package will use Python. Results are \n",
    "written to the *./src/rfactor/results*-folder."
   ]
  },
  {
   "cell_type": "code",
   "execution_count": 26,
   "metadata": {},
   "outputs": [
    {
     "name": "stdout",
     "output_type": "stream",
     "text": [
      "> \u001b[1;32mc:\\users\\sachagobeyn\\github\\rfactor\\src\\rfactor\\rfactor.py\u001b[0m(35)\u001b[0;36mcompute_rfactor\u001b[1;34m()\u001b[0m\n",
      "\u001b[1;32m     33 \u001b[1;33m        ]\n",
      "\u001b[0m\u001b[1;32m     34 \u001b[1;33m        \u001b[1;32mimport\u001b[0m \u001b[0mpdb\u001b[0m\u001b[1;33m;\u001b[0m\u001b[0mpdb\u001b[0m\u001b[1;33m.\u001b[0m\u001b[0mset_trace\u001b[0m\u001b[1;33m(\u001b[0m\u001b[1;33m)\u001b[0m\u001b[1;33m\u001b[0m\u001b[1;33m\u001b[0m\u001b[0m\n",
      "\u001b[0m\u001b[1;32m---> 35 \u001b[1;33m        \u001b[0mcheck_call\u001b[0m\u001b[1;33m(\u001b[0m\u001b[0mcmd\u001b[0m\u001b[1;33m)\u001b[0m\u001b[1;33m\u001b[0m\u001b[1;33m\u001b[0m\u001b[0m\n",
      "\u001b[0m\u001b[1;32m     36 \u001b[1;33m    \u001b[1;32melse\u001b[0m\u001b[1;33m:\u001b[0m\u001b[1;33m\u001b[0m\u001b[1;33m\u001b[0m\u001b[0m\n",
      "\u001b[0m\u001b[1;32m     37 \u001b[1;33m        \u001b[0mrfactor_python\u001b[0m\u001b[1;33m(\u001b[0m\u001b[0mrainfall_inputdata_folder\u001b[0m\u001b[1;33m)\u001b[0m\u001b[1;33m\u001b[0m\u001b[1;33m\u001b[0m\u001b[0m\n",
      "\u001b[0m\n"
     ]
    },
    {
     "name": "stdin",
     "output_type": "stream",
     "text": [
      "ipdb>  cmd\n"
     ]
    },
    {
     "name": "stdout",
     "output_type": "stream",
     "text": [
      "['matlab', '-nodesktop', '-r', \"main('('C:\\\\\\\\Users\\\\\\\\SachaGobeyn\\\\\\\\GitHub\\\\\\\\rfactor\\\\\\\\tests\\\\\\\\data\\\\\\\\test_rainfalldata', 'c:\\\\\\\\users\\\\\\\\sachagobeyn\\\\\\\\github\\\\\\\\rfactor\\\\\\\\src\\\\\\\\rfactor\\\\\\\\results')');exit;\"]\n"
     ]
    },
    {
     "name": "stdin",
     "output_type": "stream",
     "text": [
      "ipdb>  f\"main('{rainfall_inputdata_folder.resolve(),str(results_folder)}')\n"
     ]
    },
    {
     "name": "stdout",
     "output_type": "stream",
     "text": [
      "*** SyntaxError: EOL while scanning string literal\n"
     ]
    },
    {
     "name": "stdin",
     "output_type": "stream",
     "text": [
      "ipdb>  str(rainfall_inputdata_folder.resolve())\n"
     ]
    },
    {
     "name": "stdout",
     "output_type": "stream",
     "text": [
      "'C:\\\\Users\\\\SachaGobeyn\\\\GitHub\\\\rfactor\\\\tests\\\\data\\\\test_rainfalldata'\n"
     ]
    },
    {
     "name": "stdin",
     "output_type": "stream",
     "text": [
      "ipdb>  cmd\n"
     ]
    },
    {
     "name": "stdout",
     "output_type": "stream",
     "text": [
      "['matlab', '-nodesktop', '-r', \"main('('C:\\\\\\\\Users\\\\\\\\SachaGobeyn\\\\\\\\GitHub\\\\\\\\rfactor\\\\\\\\tests\\\\\\\\data\\\\\\\\test_rainfalldata', 'c:\\\\\\\\users\\\\\\\\sachagobeyn\\\\\\\\github\\\\\\\\rfactor\\\\\\\\src\\\\\\\\rfactor\\\\\\\\results')');exit;\"]\n"
     ]
    },
    {
     "name": "stdin",
     "output_type": "stream",
     "text": [
      "ipdb>  f\"main('{str(rainfall_inputdata_folder.resolve()),str(results_folder)}');exit;\"\n"
     ]
    },
    {
     "name": "stdout",
     "output_type": "stream",
     "text": [
      "\"main('('C:\\\\\\\\Users\\\\\\\\SachaGobeyn\\\\\\\\GitHub\\\\\\\\rfactor\\\\\\\\tests\\\\\\\\data\\\\\\\\test_rainfalldata', 'c:\\\\\\\\users\\\\\\\\sachagobeyn\\\\\\\\github\\\\\\\\rfactor\\\\\\\\src\\\\\\\\rfactor\\\\\\\\results')');exit;\"\n"
     ]
    },
    {
     "name": "stdin",
     "output_type": "stream",
     "text": [
      "ipdb>  f\"main('{str(rainfall_inputdata_folder.resolve())},{str(results_folder)}');exit;\"\n"
     ]
    },
    {
     "name": "stdout",
     "output_type": "stream",
     "text": [
      "\"main('C:\\\\Users\\\\SachaGobeyn\\\\GitHub\\\\rfactor\\\\tests\\\\data\\\\test_rainfalldata,c:\\\\users\\\\sachagobeyn\\\\github\\\\rfactor\\\\src\\\\rfactor\\\\results');exit;\"\n"
     ]
    },
    {
     "name": "stdin",
     "output_type": "stream",
     "text": [
      "ipdb>  exit\n"
     ]
    },
    {
     "ename": "BdbQuit",
     "evalue": "",
     "output_type": "error",
     "traceback": [
      "\u001b[1;31m---------------------------------------------------------------------------\u001b[0m",
      "\u001b[1;31mBdbQuit\u001b[0m                                   Traceback (most recent call last)",
      "\u001b[1;32m<ipython-input-26-761109c50c4b>\u001b[0m in \u001b[0;36m<module>\u001b[1;34m\u001b[0m\n\u001b[1;32m----> 1\u001b[1;33m \u001b[0mcompute_rfactor\u001b[0m\u001b[1;33m(\u001b[0m\u001b[0mfmap_rainfall\u001b[0m\u001b[1;33m,\u001b[0m\u001b[0mfmap_results\u001b[0m\u001b[1;33m,\u001b[0m\u001b[1;34m\"matlab\"\u001b[0m\u001b[1;33m)\u001b[0m\u001b[1;33m\u001b[0m\u001b[1;33m\u001b[0m\u001b[0m\n\u001b[0m",
      "\u001b[1;32mc:\\users\\sachagobeyn\\github\\rfactor\\src\\rfactor\\rfactor.py\u001b[0m in \u001b[0;36mcompute_rfactor\u001b[1;34m(rainfall_inputdata_folder, results_folder, engine)\u001b[0m\n\u001b[0;32m     33\u001b[0m         ]\n\u001b[0;32m     34\u001b[0m         \u001b[1;32mimport\u001b[0m \u001b[0mpdb\u001b[0m\u001b[1;33m;\u001b[0m\u001b[0mpdb\u001b[0m\u001b[1;33m.\u001b[0m\u001b[0mset_trace\u001b[0m\u001b[1;33m(\u001b[0m\u001b[1;33m)\u001b[0m\u001b[1;33m\u001b[0m\u001b[1;33m\u001b[0m\u001b[0m\n\u001b[1;32m---> 35\u001b[1;33m         \u001b[0mcheck_call\u001b[0m\u001b[1;33m(\u001b[0m\u001b[0mcmd\u001b[0m\u001b[1;33m)\u001b[0m\u001b[1;33m\u001b[0m\u001b[1;33m\u001b[0m\u001b[0m\n\u001b[0m\u001b[0;32m     36\u001b[0m     \u001b[1;32melse\u001b[0m\u001b[1;33m:\u001b[0m\u001b[1;33m\u001b[0m\u001b[1;33m\u001b[0m\u001b[0m\n\u001b[0;32m     37\u001b[0m         \u001b[0mrfactor_python\u001b[0m\u001b[1;33m(\u001b[0m\u001b[0mrainfall_inputdata_folder\u001b[0m\u001b[1;33m)\u001b[0m\u001b[1;33m\u001b[0m\u001b[1;33m\u001b[0m\u001b[0m\n",
      "\u001b[1;32mc:\\users\\sachagobeyn\\github\\rfactor\\src\\rfactor\\rfactor.py\u001b[0m in \u001b[0;36mcompute_rfactor\u001b[1;34m(rainfall_inputdata_folder, results_folder, engine)\u001b[0m\n\u001b[0;32m     33\u001b[0m         ]\n\u001b[0;32m     34\u001b[0m         \u001b[1;32mimport\u001b[0m \u001b[0mpdb\u001b[0m\u001b[1;33m;\u001b[0m\u001b[0mpdb\u001b[0m\u001b[1;33m.\u001b[0m\u001b[0mset_trace\u001b[0m\u001b[1;33m(\u001b[0m\u001b[1;33m)\u001b[0m\u001b[1;33m\u001b[0m\u001b[1;33m\u001b[0m\u001b[0m\n\u001b[1;32m---> 35\u001b[1;33m         \u001b[0mcheck_call\u001b[0m\u001b[1;33m(\u001b[0m\u001b[0mcmd\u001b[0m\u001b[1;33m)\u001b[0m\u001b[1;33m\u001b[0m\u001b[1;33m\u001b[0m\u001b[0m\n\u001b[0m\u001b[0;32m     36\u001b[0m     \u001b[1;32melse\u001b[0m\u001b[1;33m:\u001b[0m\u001b[1;33m\u001b[0m\u001b[1;33m\u001b[0m\u001b[0m\n\u001b[0;32m     37\u001b[0m         \u001b[0mrfactor_python\u001b[0m\u001b[1;33m(\u001b[0m\u001b[0mrainfall_inputdata_folder\u001b[0m\u001b[1;33m)\u001b[0m\u001b[1;33m\u001b[0m\u001b[1;33m\u001b[0m\u001b[0m\n",
      "\u001b[1;32m~\\miniconda3\\envs\\rfactor\\lib\\bdb.py\u001b[0m in \u001b[0;36mtrace_dispatch\u001b[1;34m(self, frame, event, arg)\u001b[0m\n\u001b[0;32m     86\u001b[0m             \u001b[1;32mreturn\u001b[0m \u001b[1;31m# None\u001b[0m\u001b[1;33m\u001b[0m\u001b[1;33m\u001b[0m\u001b[0m\n\u001b[0;32m     87\u001b[0m         \u001b[1;32mif\u001b[0m \u001b[0mevent\u001b[0m \u001b[1;33m==\u001b[0m \u001b[1;34m'line'\u001b[0m\u001b[1;33m:\u001b[0m\u001b[1;33m\u001b[0m\u001b[1;33m\u001b[0m\u001b[0m\n\u001b[1;32m---> 88\u001b[1;33m             \u001b[1;32mreturn\u001b[0m \u001b[0mself\u001b[0m\u001b[1;33m.\u001b[0m\u001b[0mdispatch_line\u001b[0m\u001b[1;33m(\u001b[0m\u001b[0mframe\u001b[0m\u001b[1;33m)\u001b[0m\u001b[1;33m\u001b[0m\u001b[1;33m\u001b[0m\u001b[0m\n\u001b[0m\u001b[0;32m     89\u001b[0m         \u001b[1;32mif\u001b[0m \u001b[0mevent\u001b[0m \u001b[1;33m==\u001b[0m \u001b[1;34m'call'\u001b[0m\u001b[1;33m:\u001b[0m\u001b[1;33m\u001b[0m\u001b[1;33m\u001b[0m\u001b[0m\n\u001b[0;32m     90\u001b[0m             \u001b[1;32mreturn\u001b[0m \u001b[0mself\u001b[0m\u001b[1;33m.\u001b[0m\u001b[0mdispatch_call\u001b[0m\u001b[1;33m(\u001b[0m\u001b[0mframe\u001b[0m\u001b[1;33m,\u001b[0m \u001b[0marg\u001b[0m\u001b[1;33m)\u001b[0m\u001b[1;33m\u001b[0m\u001b[1;33m\u001b[0m\u001b[0m\n",
      "\u001b[1;32m~\\miniconda3\\envs\\rfactor\\lib\\bdb.py\u001b[0m in \u001b[0;36mdispatch_line\u001b[1;34m(self, frame)\u001b[0m\n\u001b[0;32m    111\u001b[0m         \u001b[1;32mif\u001b[0m \u001b[0mself\u001b[0m\u001b[1;33m.\u001b[0m\u001b[0mstop_here\u001b[0m\u001b[1;33m(\u001b[0m\u001b[0mframe\u001b[0m\u001b[1;33m)\u001b[0m \u001b[1;32mor\u001b[0m \u001b[0mself\u001b[0m\u001b[1;33m.\u001b[0m\u001b[0mbreak_here\u001b[0m\u001b[1;33m(\u001b[0m\u001b[0mframe\u001b[0m\u001b[1;33m)\u001b[0m\u001b[1;33m:\u001b[0m\u001b[1;33m\u001b[0m\u001b[1;33m\u001b[0m\u001b[0m\n\u001b[0;32m    112\u001b[0m             \u001b[0mself\u001b[0m\u001b[1;33m.\u001b[0m\u001b[0muser_line\u001b[0m\u001b[1;33m(\u001b[0m\u001b[0mframe\u001b[0m\u001b[1;33m)\u001b[0m\u001b[1;33m\u001b[0m\u001b[1;33m\u001b[0m\u001b[0m\n\u001b[1;32m--> 113\u001b[1;33m             \u001b[1;32mif\u001b[0m \u001b[0mself\u001b[0m\u001b[1;33m.\u001b[0m\u001b[0mquitting\u001b[0m\u001b[1;33m:\u001b[0m \u001b[1;32mraise\u001b[0m \u001b[0mBdbQuit\u001b[0m\u001b[1;33m\u001b[0m\u001b[1;33m\u001b[0m\u001b[0m\n\u001b[0m\u001b[0;32m    114\u001b[0m         \u001b[1;32mreturn\u001b[0m \u001b[0mself\u001b[0m\u001b[1;33m.\u001b[0m\u001b[0mtrace_dispatch\u001b[0m\u001b[1;33m\u001b[0m\u001b[1;33m\u001b[0m\u001b[0m\n\u001b[0;32m    115\u001b[0m \u001b[1;33m\u001b[0m\u001b[0m\n",
      "\u001b[1;31mBdbQuit\u001b[0m: "
     ]
    }
   ],
   "source": [
    "compute_rfactor(fmap_rainfall,fmap_results,\"matlab\")"
   ]
  },
  {
   "cell_type": "markdown",
   "metadata": {},
   "source": [
    "**Set-up analysis**  \n",
    "Create a erosivitydata object, build the data set with the *files.csv* file and load the rainfall and EI30 data.  \n",
    "__NOTE__: \n",
    "1. Set the director back to the location of this file\n",
    "2. If the <ins>**Matlab**</ins> is used, make sure **to first let the simulation end before executing the next line!!!!!**"
   ]
  },
  {
   "cell_type": "code",
   "execution_count": null,
   "metadata": {},
   "outputs": [],
   "source": [
    "os.chdir(cwd)\n",
    "data = ErosivityData(fmap_rainfall,fmap_erosivity)\n",
    "df_files = data.build_data_set(txt_files)\n",
    "data.load_data(df_files)\n",
    "df_files.to_csv(\"overview_files_stations.csv\")"
   ]
  },
  {
   "cell_type": "markdown",
   "metadata": {},
   "source": [
    "**Rainfall statistics**  \n",
    "Compute rainfall statistics"
   ]
  },
  {
   "cell_type": "code",
   "execution_count": null,
   "metadata": {},
   "outputs": [],
   "source": [
    "compute_rainfall_statistics(data.load_rainfall(),pd.read_csv(\"data/belgium/stations.csv\"))"
   ]
  },
  {
   "cell_type": "markdown",
   "metadata": {},
   "source": [
    "## Ukkel  \n",
    "Compute R-value for specific years for Ukkel (KMI_6447 and KMI_F3)"
   ]
  },
  {
   "cell_type": "code",
   "execution_count": null,
   "metadata": {},
   "outputs": [],
   "source": [
    "timeseries = [range(1898,2003,1),\n",
    "              range(2003,2021,1),\n",
    "              range(1898,2021,1),\n",
    "              range(1996,2021,1),\n",
    "              range(1991,2021,1),\n",
    "              range(1990,2001,1),\n",
    "              range(2000,2021,1)]\n",
    "for i in timeseries:\n",
    "    print(i)\n",
    "    df_R=data.load_R([\"KMI_6447\",\"KMI_FS3\"], i)\n",
    "    print(np.mean(df_R[\"value\"]))"
   ]
  },
  {
   "cell_type": "code",
   "execution_count": null,
   "metadata": {},
   "outputs": [],
   "source": [
    "len(data.stations)"
   ]
  },
  {
   "cell_type": "markdown",
   "metadata": {},
   "source": [
    "## Flanders and Belgium\n",
    "**All stations expect Ukkel**"
   ]
  },
  {
   "cell_type": "code",
   "execution_count": null,
   "metadata": {},
   "outputs": [],
   "source": [
    "stations_belgium_excl_ukkel = [station for station in data.stations if station not in [\"KMI_6447\",\"KMI_FS3\"]]\n",
    "df_R=data.load_R(stations_belgium_excl_ukkel)\n",
    "print(np.mean(df_R[\"value\"]))\n",
    "len(stations_belgium_excl_ukkel)"
   ]
  },
  {
   "cell_type": "markdown",
   "metadata": {},
   "source": [
    "**All stations except Ukkel and Wallonia**"
   ]
  },
  {
   "cell_type": "code",
   "execution_count": null,
   "metadata": {},
   "outputs": [],
   "source": [
    "stations_flanders_excl_ukkel = [station for station in data.stations if station not in  [\"KMI_6447\",\"KMI_FS3\",\"KMI_6455\",\"KMI_6459\",\"KMI_6472\",\"KMI_6494\",\"KMI_6484\"]]\n",
    "df_R=data.load_R(stations_flanders_excl_ukkel, i)\n",
    "print(np.mean(df_R[\"value\"]))\n",
    "len(stations_flanders_excl_ukkel)"
   ]
  },
  {
   "cell_type": "markdown",
   "metadata": {},
   "source": [
    "**Plot the distribution of all R-values for Belgium, excluding the data from Ukkel**"
   ]
  },
  {
   "cell_type": "code",
   "execution_count": null,
   "metadata": {},
   "outputs": [],
   "source": [
    "stations_flanders_excl_ukkel = [station for station in data.stations if station not in  [\"KMI_6447\",\"KMI_FS3\"]]\n",
    "df_R=data.load_R(stations_flanders_excl_ukkel, i)\n",
    "print(np.mean(df_R[\"value\"]))\n",
    "len(stations_flanders_excl_ukkel)\n",
    "plt.hist(df_R[\"value\"],20,color=[0.8]*3,label=r\"Jaarlijkse waarden voor alle 55 stations in België\")\n",
    "plt.plot([1239,1239],[0,120],color=[0.2]*3,ls=\":\",label=\"Ukkel (30-jaar referentie periode)\")\n",
    "plt.ylabel(r\"#\")\n",
    "plt.xlabel(r\"R-value [MJ mm ha$^{-1}$ h$^{-1}$ jaar$^{-1}$]\")\n",
    "plt.ylim([0,130])\n",
    "plt.legend()"
   ]
  },
  {
   "cell_type": "markdown",
   "metadata": {},
   "source": [
    "**All stations of the VMM (Flanders)**"
   ]
  },
  {
   "cell_type": "code",
   "execution_count": null,
   "metadata": {},
   "outputs": [],
   "source": [
    "stations_flanders_excl_ukkel = [station for station in data.stations if \"KMI\" not in station]\n",
    "df_R=data.load_R(stations_flanders_excl_ukkel, i)\n",
    "print(np.mean(df_R[\"value\"]))\n",
    "len(stations_flanders_excl_ukkel)"
   ]
  },
  {
   "cell_type": "markdown",
   "metadata": {},
   "source": [
    "**Compute values per year over all stations**"
   ]
  },
  {
   "cell_type": "code",
   "execution_count": null,
   "metadata": {},
   "outputs": [],
   "source": [
    "df_R.groupby(\"station\").aggregate({\"value\":[np.mean,np.std],\"year\":lambda x:len(x)}).sort_values(('year', '<lambda>'),ascending=False).reset_index()"
   ]
  },
  {
   "cell_type": "markdown",
   "metadata": {},
   "source": [
    "## Monthly analysis\n",
    "Get the EI30-values for 2018 based on two Ukkel station (\"KMI_6447\",\"KMI_FS3\")  "
   ]
  },
  {
   "cell_type": "code",
   "execution_count": null,
   "metadata": {},
   "outputs": [],
   "source": [
    "df_EI30 = data.load_EI30([\"KMI_6447\",\"KMI_FS3\"],range(1898,2021,1))"
   ]
  },
  {
   "cell_type": "markdown",
   "metadata": {},
   "source": [
    "**Data formatting**"
   ]
  },
  {
   "cell_type": "code",
   "execution_count": null,
   "metadata": {},
   "outputs": [],
   "source": [
    "df_EI30[\"m\"] = df_EI30.index.strftime(\"%m%d\")\n",
    "df_EI30.loc[df_EI30[\"m\"]==\"0229\",\"m\"] = \"0228\"\n",
    "df_m = df_EI30.groupby(\"m\").aggregate({\"value\":[np.mean,np.std,lambda x:np.percentile(x,25),lambda x:np.percentile(x,75)]})\n",
    "df_m[\"mean\"] = df_m[(\"value\",\"mean\")];df_m[\"std\"] = df_m[(\"value\",\"std\")];df_m[\"p25\"] = df_m[('value', '<lambda_0>')];df_m[\"p75\"] = df_m[('value', '<lambda_1>')];df_m[\"p25_e\"] = df_m[\"mean\"]-df_m['p25'];df_m[\"p75_e\"] = df_m['p75']-df_m[\"mean\"]"
   ]
  },
  {
   "cell_type": "markdown",
   "metadata": {},
   "source": [
    "**Plot**"
   ]
  },
  {
   "cell_type": "code",
   "execution_count": null,
   "metadata": {},
   "outputs": [],
   "source": [
    "fig = plt.figure(figsize=(8,4))\n",
    "x = np.arange(len(df_m))\n",
    "y_gv = [26,20,24,27,70,77,144,102,68,50,37,32]\n",
    "plt.bar(x-0.225,df_m[\"mean\"],yerr=df_m[[\"p25_e\",\"p75_e\"]].T.values,color=[0.80]*3,width=0.45,label=\"Ukkel (1898-2020))\")\n",
    "plt.bar(x+0.225,y_gv,width=0.45,color=[0.5]*3,label=\"Verstraeten $\\it{et. al}$ (2001)\")\n",
    "plt.ylabel(\"R-value\")\n",
    "ax = fig.axes\n",
    "plt.xticks(x,[\"Januari\",\"Februari\",\"Maart\",\"April\",\"Mei\",\"Juni\",\"Juli\",\"Augustus\",\"September\",\"Oktober\",\"November\",\"December\"],rotation=45)\n",
    "plt.legend(loc=2,facecolor =\"white\")\n",
    "plt.ylabel(r\"R-waarde [MJ mm ha$^{-1}$ h$^{-1}$ maand$^{-1}$]\")"
   ]
  }
 ],
 "metadata": {
  "kernelspec": {
   "display_name": "Python [conda env:rfactor]",
   "language": "python",
   "name": "conda-env-rfactor-py"
  },
  "language_info": {
   "codemirror_mode": {
    "name": "ipython",
    "version": 3
   },
   "file_extension": ".py",
   "mimetype": "text/x-python",
   "name": "python",
   "nbconvert_exporter": "python",
   "pygments_lexer": "ipython3",
   "version": "3.9.2"
  },
  "toc": {
   "base_numbering": 1,
   "nav_menu": {},
   "number_sections": true,
   "sideBar": true,
   "skip_h1_title": false,
   "title_cell": "Table of Contents",
   "title_sidebar": "Contents",
   "toc_cell": false,
   "toc_position": {},
   "toc_section_display": true,
   "toc_window_display": false
  },
  "varInspector": {
   "cols": {
    "lenName": 16,
    "lenType": 16,
    "lenVar": 40
   },
   "kernels_config": {
    "python": {
     "delete_cmd_postfix": "",
     "delete_cmd_prefix": "del ",
     "library": "var_list.py",
     "varRefreshCmd": "print(var_dic_list())"
    },
    "r": {
     "delete_cmd_postfix": ") ",
     "delete_cmd_prefix": "rm(",
     "library": "var_list.r",
     "varRefreshCmd": "cat(var_dic_list()) "
    }
   },
   "types_to_exclude": [
    "module",
    "function",
    "builtin_function_or_method",
    "instance",
    "_Feature"
   ],
   "window_display": false
  }
 },
 "nbformat": 4,
 "nbformat_minor": 4
}
