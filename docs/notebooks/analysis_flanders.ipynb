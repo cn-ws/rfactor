{
 "cells": [
  {
   "cell_type": "markdown",
   "metadata": {},
   "source": [
    "# Analysis Flanders"
   ]
  },
  {
   "cell_type": "markdown",
   "metadata": {},
   "source": [
    "## Aim\n",
    "\n",
    "Implementation to compute and analyse the R-factor of the RUSLE-equation. The\n",
    "R-factor is a measure for the total erosivity of a number of rainfall events\n",
    "within a defined timeframe (year, month, number of days). The factor is\n",
    "computed by calculating the yearly sum of -for every rainfall event- the sum\n",
    "of the depth of rainfall (mm) and the kinetic energy, and taking the mean\n",
    "over all years.\n",
    "\n",
    "---\n",
    "__NOTE__\n",
    "\n",
    "This notebook does not include the erosivity computation based on the Royal \n",
    "Meteorological Institute of Belgium (RMI) rainfall data, as the data is not \n",
    "available as open data. One can contact RMI to obtain the rainfall input data. \n",
    "Alternatively, the results of the computation of the erosivity values based on the RMI data are provided in this notebook as well as other rainfall input data, so one can proceed with the analysis.\n",
    "\n",
    "---"
   ]
  },
  {
   "cell_type": "markdown",
   "metadata": {},
   "source": [
    "## Package imports"
   ]
  },
  {
   "cell_type": "code",
   "execution_count": null,
   "metadata": {},
   "outputs": [],
   "source": [
    "from pathlib import Path\n",
    "\n",
    "import numpy as np\n",
    "import pandas as pd\n",
    "import matplotlib.pyplot as plt"
   ]
  },
  {
   "cell_type": "markdown",
   "metadata": {},
   "source": [
    "Load the `rfactor` package functionalities"
   ]
  },
  {
   "cell_type": "code",
   "execution_count": null,
   "metadata": {},
   "outputs": [],
   "source": [
    "from rfactor import compute_erosivity, maximum_intensity, maximum_intensity_matlab_clone\n",
    "from rfactor.process import load_rain_folder, compute_rainfall_statistics, get_rfactor_station_year"
   ]
  },
  {
   "cell_type": "markdown",
   "metadata": {},
   "source": [
    "## Input data and compute erosivity\n",
    "\n",
    "__Set folders__\n",
    "\n",
    "The main function `compute_erosivity` requires a [pandas DataFrame](https://pandas.pydata.org/docs/index.html) containing __non-zero__ rainfall data with the following columns:\n",
    "\n",
    "- datetime (pd.Timestamp): Time stamp\n",
    "- rain_mm (float): Rain in mm\n",
    "- station (str): Measurement station identifier\n",
    "\n",
    "However, the legacy format of the input files used in the original Matlab implementation is still supported as well. For this format, te input files are defined by text files (extension: `txt`) that hold __non-zero rainfall__ timeseries. The data are split per station and per year with a specific data file tag `STATION_YYYY`:  \n",
    "\n",
    "```\n",
    "KMI_6414_2004.txt  \n",
    "KMI_6414_2005.txt  \n",
    "...  \n",
    "KMI_6434_2003.txt  \n",
    "KMI_6434_2004.txt  \n",
    "...  \n",
    "```\n",
    "\n",
    "__Note__: the files in `tests/data/test_rainfalldata` are an incomplete data set for Belgium (RMI rainfall data are not included), an alternative is provided in the section 'Analysis'."
   ]
  },
  {
   "cell_type": "code",
   "execution_count": null,
   "metadata": {},
   "outputs": [],
   "source": [
    "fmap_rainfall =  Path(r\"../../tests/data/test_rainfalldata\")\n",
    "fmap_erosivity = Path(r\"../../tests/data/test_erosivitydata\")"
   ]
  },
  {
   "cell_type": "markdown",
   "metadata": {},
   "source": [
    "Use the `load_rain_folder` function to read all rain data in a folder:"
   ]
  },
  {
   "cell_type": "code",
   "execution_count": null,
   "metadata": {},
   "outputs": [
    {
     "name": "stderr",
     "output_type": "stream",
     "text": [
      "100%|███████████████████████████████████████████████████████████████████████████████████████████████████████████████████████████████████████████████████████████████████████████████████████████████████████████████████████████████████████| 581/581 [00:13<00:00, 43.37it/s]\n"
     ]
    }
   ],
   "source": [
    "all_rainfall = load_rain_folder(fmap_rainfall)"
   ]
  },
  {
   "cell_type": "markdown",
   "metadata": {},
   "source": [
    "**Compute rainfall statistics** (and add station metadata)"
   ]
  },
  {
   "cell_type": "code",
   "execution_count": null,
   "metadata": {},
   "outputs": [
    {
     "data": {
      "text/html": [
       "<div>\n",
       "<style scoped>\n",
       "    .dataframe tbody tr th:only-of-type {\n",
       "        vertical-align: middle;\n",
       "    }\n",
       "\n",
       "    .dataframe tbody tr th {\n",
       "        vertical-align: top;\n",
       "    }\n",
       "\n",
       "    .dataframe thead th {\n",
       "        text-align: right;\n",
       "    }\n",
       "</style>\n",
       "<table border=\"1\" class=\"dataframe\">\n",
       "  <thead>\n",
       "    <tr style=\"text-align: right;\">\n",
       "      <th></th>\n",
       "      <th>year</th>\n",
       "      <th>station</th>\n",
       "      <th>x</th>\n",
       "      <th>y</th>\n",
       "      <th>records</th>\n",
       "      <th>min</th>\n",
       "      <th>median</th>\n",
       "      <th>max</th>\n",
       "    </tr>\n",
       "  </thead>\n",
       "  <tbody>\n",
       "    <tr>\n",
       "      <th>0</th>\n",
       "      <td>[2018]</td>\n",
       "      <td>P01_001</td>\n",
       "      <td>NaN</td>\n",
       "      <td>NaN</td>\n",
       "      <td>2718</td>\n",
       "      <td>0.01</td>\n",
       "      <td>0.09</td>\n",
       "      <td>5.05</td>\n",
       "    </tr>\n",
       "    <tr>\n",
       "      <th>1</th>\n",
       "      <td>[2005, 2006, 2007, 2008, 2009, 2010, 2011, 201...</td>\n",
       "      <td>P01_003</td>\n",
       "      <td>51907.0</td>\n",
       "      <td>191193.0</td>\n",
       "      <td>56546</td>\n",
       "      <td>0.01</td>\n",
       "      <td>0.10</td>\n",
       "      <td>24.32</td>\n",
       "    </tr>\n",
       "    <tr>\n",
       "      <th>2</th>\n",
       "      <td>[2005, 2006, 2007, 2008, 2009, 2010, 2011, 201...</td>\n",
       "      <td>P01_010</td>\n",
       "      <td>45836.0</td>\n",
       "      <td>171260.0</td>\n",
       "      <td>54543</td>\n",
       "      <td>0.01</td>\n",
       "      <td>0.10</td>\n",
       "      <td>22.75</td>\n",
       "    </tr>\n",
       "    <tr>\n",
       "      <th>3</th>\n",
       "      <td>[2005, 2006, 2007, 2008, 2009, 2010, 2011, 201...</td>\n",
       "      <td>P01_015</td>\n",
       "      <td>37391.0</td>\n",
       "      <td>203053.0</td>\n",
       "      <td>52304</td>\n",
       "      <td>0.01</td>\n",
       "      <td>0.10</td>\n",
       "      <td>21.61</td>\n",
       "    </tr>\n",
       "    <tr>\n",
       "      <th>4</th>\n",
       "      <td>[2009, 2010, 2011, 2012, 2013, 2014, 2015, 201...</td>\n",
       "      <td>P01_029</td>\n",
       "      <td>25566.0</td>\n",
       "      <td>198775.0</td>\n",
       "      <td>36628</td>\n",
       "      <td>0.01</td>\n",
       "      <td>0.12</td>\n",
       "      <td>15.75</td>\n",
       "    </tr>\n",
       "  </tbody>\n",
       "</table>\n",
       "</div>"
      ],
      "text/plain": [
       "                                                year  station        x  \\\n",
       "0                                             [2018]  P01_001      NaN   \n",
       "1  [2005, 2006, 2007, 2008, 2009, 2010, 2011, 201...  P01_003  51907.0   \n",
       "2  [2005, 2006, 2007, 2008, 2009, 2010, 2011, 201...  P01_010  45836.0   \n",
       "3  [2005, 2006, 2007, 2008, 2009, 2010, 2011, 201...  P01_015  37391.0   \n",
       "4  [2009, 2010, 2011, 2012, 2013, 2014, 2015, 201...  P01_029  25566.0   \n",
       "\n",
       "          y  records   min  median    max  \n",
       "0       NaN     2718  0.01    0.09   5.05  \n",
       "1  191193.0    56546  0.01    0.10  24.32  \n",
       "2  171260.0    54543  0.01    0.10  22.75  \n",
       "3  203053.0    52304  0.01    0.10  21.61  \n",
       "4  198775.0    36628  0.01    0.12  15.75  "
      ]
     },
     "execution_count": null,
     "metadata": {},
     "output_type": "execute_result"
    }
   ],
   "source": [
    "stations = pd.read_csv(\"data/belgium/stations.csv\")\n",
    "\n",
    "rain_stats = compute_rainfall_statistics(all_rainfall, stations)\n",
    "rain_stats.head()"
   ]
  },
  {
   "cell_type": "markdown",
   "metadata": {},
   "source": [
    "**Select stations to compute erosivity for**"
   ]
  },
  {
   "cell_type": "code",
   "execution_count": null,
   "metadata": {},
   "outputs": [],
   "source": [
    "consider_stations = pd.read_csv(\"../../tests/data/files_tests.csv\")\n",
    "\n",
    "sel_rainfall = all_rainfall.loc[all_rainfall[\"tag\"].isin(consider_stations[\"datafile\"])]"
   ]
  },
  {
   "cell_type": "code",
   "execution_count": null,
   "metadata": {},
   "outputs": [
    {
     "data": {
      "text/html": [
       "<div>\n",
       "<style scoped>\n",
       "    .dataframe tbody tr th:only-of-type {\n",
       "        vertical-align: middle;\n",
       "    }\n",
       "\n",
       "    .dataframe tbody tr th {\n",
       "        vertical-align: top;\n",
       "    }\n",
       "\n",
       "    .dataframe thead th {\n",
       "        text-align: right;\n",
       "    }\n",
       "</style>\n",
       "<table border=\"1\" class=\"dataframe\">\n",
       "  <thead>\n",
       "    <tr style=\"text-align: right;\">\n",
       "      <th></th>\n",
       "      <th>minutes_since</th>\n",
       "      <th>rain_mm</th>\n",
       "      <th>datetime</th>\n",
       "      <th>station</th>\n",
       "      <th>year</th>\n",
       "      <th>tag</th>\n",
       "    </tr>\n",
       "  </thead>\n",
       "  <tbody>\n",
       "    <tr>\n",
       "      <th>0</th>\n",
       "      <td>130</td>\n",
       "      <td>0.27</td>\n",
       "      <td>2018-01-01 02:10:00</td>\n",
       "      <td>P01_001</td>\n",
       "      <td>2018</td>\n",
       "      <td>P01_001_2018</td>\n",
       "    </tr>\n",
       "    <tr>\n",
       "      <th>1</th>\n",
       "      <td>140</td>\n",
       "      <td>0.02</td>\n",
       "      <td>2018-01-01 02:20:00</td>\n",
       "      <td>P01_001</td>\n",
       "      <td>2018</td>\n",
       "      <td>P01_001_2018</td>\n",
       "    </tr>\n",
       "    <tr>\n",
       "      <th>2</th>\n",
       "      <td>190</td>\n",
       "      <td>0.48</td>\n",
       "      <td>2018-01-01 03:10:00</td>\n",
       "      <td>P01_001</td>\n",
       "      <td>2018</td>\n",
       "      <td>P01_001_2018</td>\n",
       "    </tr>\n",
       "    <tr>\n",
       "      <th>3</th>\n",
       "      <td>460</td>\n",
       "      <td>0.22</td>\n",
       "      <td>2018-01-01 07:40:00</td>\n",
       "      <td>P01_001</td>\n",
       "      <td>2018</td>\n",
       "      <td>P01_001_2018</td>\n",
       "    </tr>\n",
       "    <tr>\n",
       "      <th>4</th>\n",
       "      <td>470</td>\n",
       "      <td>0.09</td>\n",
       "      <td>2018-01-01 07:50:00</td>\n",
       "      <td>P01_001</td>\n",
       "      <td>2018</td>\n",
       "      <td>P01_001_2018</td>\n",
       "    </tr>\n",
       "  </tbody>\n",
       "</table>\n",
       "</div>"
      ],
      "text/plain": [
       "   minutes_since  rain_mm            datetime  station  year           tag\n",
       "0            130     0.27 2018-01-01 02:10:00  P01_001  2018  P01_001_2018\n",
       "1            140     0.02 2018-01-01 02:20:00  P01_001  2018  P01_001_2018\n",
       "2            190     0.48 2018-01-01 03:10:00  P01_001  2018  P01_001_2018\n",
       "3            460     0.22 2018-01-01 07:40:00  P01_001  2018  P01_001_2018\n",
       "4            470     0.09 2018-01-01 07:50:00  P01_001  2018  P01_001_2018"
      ]
     },
     "execution_count": null,
     "metadata": {},
     "output_type": "execute_result"
    }
   ],
   "source": [
    "sel_rainfall.head()"
   ]
  },
  {
   "cell_type": "markdown",
   "metadata": {},
   "source": [
    "**Run Model**  "
   ]
  },
  {
   "cell_type": "markdown",
   "metadata": {},
   "source": [
    "By default, the erosivity is calculated with the `maximum_intensity` method implemented in Python, which follows a slightly different approach to the original Matlab implementation. However, one can opt to use the `matlab_clone` method as well, which is a Python implementation mimicking the original Matlab one:"
   ]
  },
  {
   "cell_type": "code",
   "execution_count": null,
   "metadata": {},
   "outputs": [],
   "source": [
    "erosivity = compute_erosivity(sel_rainfall, maximum_intensity_matlab_clone)\n",
    "erosivity.head()"
   ]
  },
  {
   "cell_type": "markdown",
   "metadata": {},
   "source": [
    "## Analysis\n",
    "\n",
    "If one does not have acces to the RMI data, the output erosivity from the computation with the full data set is provided in this repository as an alternative:"
   ]
  },
  {
   "cell_type": "code",
   "execution_count": null,
   "metadata": {},
   "outputs": [],
   "source": [
    "erosivity = pd.read_csv(\"data/erosivity_belgium.csv\", parse_dates=[0, 1], index_col=0)\n",
    "erosivity.head()"
   ]
  },
  {
   "cell_type": "markdown",
   "metadata": {},
   "source": [
    "**Ukkel**  \n",
    "\n",
    "Compute R-factor for specific periods for Ukkel (KMI_6447 and KMI_F3)."
   ]
  },
  {
   "cell_type": "code",
   "execution_count": null,
   "metadata": {},
   "outputs": [],
   "source": [
    "timeseries = [range(1898, 2003, 1),\n",
    "              range(2003, 2021, 1),\n",
    "              range(1898, 2021, 1),\n",
    "              range(1996, 2021, 1),\n",
    "              range(1991, 2021, 1),\n",
    "              range(1990, 2001, 1),\n",
    "              range(2000, 2021, 1)]\n",
    "\n",
    "for period in timeseries:\n",
    "    rfactor = get_rfactor_station_year(erosivity,[\"KMI_6447\",\"KMI_FS3\"], period)\n",
    "    print(f\"R-factor for period from {period[0]} till {period[-1]} is: {rfactor['erosivity_cum'].mean():.2f}\")"
   ]
  },
  {
   "cell_type": "markdown",
   "metadata": {},
   "source": [
    "**Make figure for Ukkel**"
   ]
  },
  {
   "cell_type": "code",
   "execution_count": null,
   "metadata": {},
   "outputs": [],
   "source": [
    "rfactor_all= get_rfactor_station_year(erosivity, stations=[\"KMI_FS3\", \"KMI_6447\"]).sort_values(\"year\")"
   ]
  },
  {
   "cell_type": "code",
   "execution_count": null,
   "metadata": {},
   "outputs": [],
   "source": [
    "fig, ax = plt.subplots(figsize=(12, 7.5))\n",
    "\n",
    "rfactor_fs3 = get_rfactor_station_year(erosivity, [\"KMI_FS3\"])\n",
    "rfactor_fs3 = rfactor_fs3[~(rfactor_fs3[\"erosivity_cum\"].isnull())].sort_values(\"year\")\n",
    "\n",
    "rfactor_6447 = get_rfactor_station_year(erosivity, [\"KMI_6447\"])\n",
    "rfactor_6447 = rfactor_6447[~(rfactor_6447[\"erosivity_cum\"].isnull())].sort_values(\"year\")\n",
    "\n",
    "# add first line of KMI6447 to end of KMI FS3 in order to make a continuous timeseries on the plot\n",
    "rfactor_fs3 = rfactor_fs3.append(rfactor_6447.iloc[0])\n",
    "\n",
    "ax.plot(rfactor_fs3[\"year\"], rfactor_fs3[\"erosivity_cum\"], label=\"KMI_FS3 (1898-2002)\")\n",
    "\n",
    "\n",
    "ax.plot(rfactor_6447[\"year\"], rfactor_6447[\"erosivity_cum\"], label=\"KMI_6447 (2003-2020)\")\n",
    "\n",
    "# rolling mean\n",
    "rfactor_all = get_rfactor_station_year(erosivity, stations=[\"KMI_FS3\", \"KMI_6447\"]).sort_values(\"year\")\n",
    "windows  = [10, 20, 30]\n",
    "for window in windows:\n",
    "    y = rfactor_all.rolling(window)[\"erosivity_cum\"].mean()\n",
    "    ax.plot(rfactor_all[\"year\"], y, ls=':', lw=3, \n",
    "            label=f\"Moving average ({window} year window)\")\n",
    "    \n",
    "\n",
    "ax.set_ylim([0,3500])\n",
    "ax.set_xlim([1890,2020])\n",
    "ax.tick_params(axis='both', which='major', labelsize=14)\n",
    "ax.set_xlabel(r'Year',fontsize=16)\n",
    "ax.set_ylabel(r'Yearly R-factor [MJ mm ha$^{-1}$ h$^{-1}$ year$^{-1}$]',fontsize=16)\n",
    "ax.legend(prop={'size':16})"
   ]
  },
  {
   "cell_type": "markdown",
   "metadata": {},
   "source": [
    "**All stations expect Ukkel**"
   ]
  },
  {
   "cell_type": "code",
   "execution_count": null,
   "metadata": {},
   "outputs": [],
   "source": [
    "stations_belgium_excl_ukkel = [station for station in stations[\"station\"] \n",
    "                               if station not in [\"KMI_6447\",\"KMI_FS3\", \"KMI1990_2002\", \"KMI2003_nu_v2\"]]\n",
    "years = range(1898, 2021, 1)\n",
    "years = [year for year in years if year in \n",
    "         erosivity[erosivity[\"station\"].isin(stations_belgium_excl_ukkel)][\"year\"].unique()]\n",
    "\n",
    "rfactor_non_ukkel = get_rfactor_station_year(erosivity, \n",
    "                                             stations=stations_belgium_excl_ukkel, \n",
    "                                             years=years)\n",
    "print(rfactor_non_ukkel[\"erosivity_cum\"].mean())\n",
    "len(rfactor_non_ukkel[\"station\"].unique())"
   ]
  },
  {
   "cell_type": "markdown",
   "metadata": {},
   "source": [
    "**All stations flanders**"
   ]
  },
  {
   "cell_type": "code",
   "execution_count": null,
   "metadata": {},
   "outputs": [],
   "source": [
    "stations_flanders = [station for station in stations[\"station\"] \n",
    "                     if station not in  [\"KMI_6447\", \"KMI_FS3\", \"KMI_6455\", \"KMI_6459\",\n",
    "                                         \"KMI_6472\", \"KMI_6494\", \"KMI_6484\", \"KMI1990_2002\", \"KMI2003_nu_v2\"]]\n",
    "years = range(1898, 2021, 1)\n",
    "years = [year for year in years if year in \n",
    "         erosivity[erosivity[\"station\"].isin(stations_flanders)][\"year\"].unique()]\n",
    "\n",
    "rfactor_flanders = get_rfactor_station_year(erosivity,stations_flanders, years)\n",
    "print(rfactor_flanders[\"erosivity_cum\"].mean())\n",
    "len(rfactor_flanders[\"station\"].unique())"
   ]
  },
  {
   "cell_type": "markdown",
   "metadata": {},
   "source": [
    "**Plot the distribution of all R-values for Belgium, excluding the data from Ukkel**"
   ]
  },
  {
   "cell_type": "code",
   "execution_count": null,
   "metadata": {},
   "outputs": [],
   "source": [
    "years = [year for year in range(1991, 2021) if year in \n",
    "         erosivity[erosivity[\"station\"].isin(stations_belgium_excl_ukkel)][\"year\"].unique()]\n",
    "\n",
    "rfactor_non_ukkel = get_rfactor_station_year(erosivity, stations_belgium_excl_ukkel, years)\n",
    "\n",
    "fig, ax = plt.subplots()\n",
    "ax.hist(rfactor_non_ukkel[\"erosivity_cum\"], bins=20, color=[0.8]*3,\n",
    "        label=r\"Jaarlijkse waarden voor alle 55 stations in België\")\n",
    "ax.plot([1239, 1239], [0, 120], color=[0.2]*3, ls=\":\", label=\"Ukkel (30-jaar referentie periode)\")\n",
    "ax.set_ylabel(r\"#\")\n",
    "ax.set_xlabel(r\"R-waarde [MJ mm ha$^{-1}$ h$^{-1}$ jaar$^{-1}$]\")\n",
    "ax.set_ylim([0,130])\n",
    "ax.legend()"
   ]
  },
  {
   "cell_type": "markdown",
   "metadata": {},
   "source": [
    "**All stations of the VMM (Flanders)**"
   ]
  },
  {
   "cell_type": "code",
   "execution_count": null,
   "metadata": {},
   "outputs": [],
   "source": [
    "stations_vmm = [station for station in stations[\"station\"] if \"KMI\" not in station]\n",
    "\n",
    "rfactor_vmm = get_rfactor_station_year(erosivity, stations_vmm)\n",
    "\n",
    "print(rfactor_vmm[\"erosivity_cum\"].mean())\n",
    "len(rfactor_vmm[\"station\"].unique())"
   ]
  },
  {
   "cell_type": "markdown",
   "metadata": {},
   "source": [
    "**Compute values per year over all stations**"
   ]
  },
  {
   "cell_type": "code",
   "execution_count": null,
   "metadata": {},
   "outputs": [],
   "source": [
    "(get_rfactor_station_year(erosivity)\n",
    " .groupby(\"station\")\n",
    " .aggregate(\n",
    "    {\"erosivity_cum\":[np.mean, np.std],\n",
    "     \"year\": \"count\"})\n",
    " .sort_values(('year', 'count'), ascending=False)\n",
    " .reset_index()\n",
    ")"
   ]
  },
  {
   "cell_type": "markdown",
   "metadata": {},
   "source": [
    "## Analysis (monthly resolution)\n",
    "Get the EI30-values for 2018 based on two Ukkel station (\"KMI_6447\",\"KMI_FS3\")  "
   ]
  },
  {
   "cell_type": "code",
   "execution_count": null,
   "metadata": {},
   "outputs": [],
   "source": [
    "erosivity_monthly = (erosivity.loc[erosivity[\"station\"].isin([\"KMI_6447\", \"KMI_FS3\"]), \"erosivity\"]\n",
    "                     .resample(\"M\")\n",
    "                     .sum()\n",
    "                     .to_frame())\n",
    "erosivity_monthly[\"month\"] = erosivity_monthly.index.month\n",
    "erosivity_monthly.head()"
   ]
  },
  {
   "cell_type": "markdown",
   "metadata": {},
   "source": [
    "Get mean and interquartile range of monthly R-factor"
   ]
  },
  {
   "cell_type": "code",
   "execution_count": null,
   "metadata": {},
   "outputs": [],
   "source": [
    "em = (erosivity_monthly\n",
    "      .groupby(\"month\")\n",
    "      .aggregate({\n",
    "          \"erosivity\":[np.mean, \n",
    "                       lambda x: np.percentile(x, 25), \n",
    "                       lambda x: np.percentile(x,75)]\n",
    "      }))"
   ]
  },
  {
   "cell_type": "code",
   "execution_count": null,
   "metadata": {},
   "outputs": [],
   "source": [
    "em[\"mean\"] = em[\"erosivity\"][\"mean\"]\n",
    "em[\"l_e\"] = em[\"erosivity\"][\"mean\"] - em[\"erosivity\"][\"<lambda_0>\"]\n",
    "em[\"u_e\"] = em[\"erosivity\"][\"<lambda_1>\"] - em[\"erosivity\"][\"mean\"]"
   ]
  },
  {
   "cell_type": "markdown",
   "metadata": {},
   "source": [
    "**Plot**"
   ]
  },
  {
   "cell_type": "code",
   "execution_count": null,
   "metadata": {},
   "outputs": [],
   "source": [
    "fig = plt.figure(figsize=(8, 4))\n",
    "\n",
    "x = np.arange(len(em))\n",
    "y_gv = [26, 20, 24, 27, 70, 77, 144, 102, 68, 50, 37, 32]\n",
    "y_gv2 = [35, 27, 32, 36, 86, 96, 177, 135, 89, 66, 48, 43]\n",
    "plt.bar(x-0.3,em[\"mean\"],yerr=em[[\"l_e\",\"u_e\"]].T.values,color=[0.80]*3,width=0.3,label=\"Ukkel (1898-2020))\")\n",
    "plt.bar(x,y_gv,width=0.3,color=[0.5]*3,label=\"Verstraeten $\\it{et. al}$ (2001)\")\n",
    "plt.bar(x+0.3,y_gv2,width=0.3,color=[0.2]*3,label=\"Verstraeten $\\it{et. al}$ (2006)\")\n",
    "plt.ylabel(\"R-value\")\n",
    "ax = fig.axes\n",
    "plt.xticks(x,[\"Januari\",\"Februari\",\"Maart\",\"April\",\"Mei\",\"Juni\",\"Juli\",\"Augustus\",\"September\",\"Oktober\",\"November\",\"December\"],rotation=45)\n",
    "plt.legend(loc=2,facecolor =\"white\")\n",
    "plt.ylabel(r\"R-waarde [MJ mm ha$^{-1}$ h$^{-1}$ maand$^{-1}$]\");"
   ]
  },
  {
   "cell_type": "markdown",
   "metadata": {},
   "source": [
    "## Additional: monthly analysis (detail)\n",
    "\n",
    "**Evolution monthly R-value**\n",
    "\n",
    "Generate plot to analyse evolution of montly R over the years"
   ]
  },
  {
   "cell_type": "code",
   "execution_count": null,
   "metadata": {},
   "outputs": [],
   "source": [
    "def subplot_montlhy_R(df,ax,ind1,ind2):\n",
    "    \n",
    "    if (ind1==0) & (ind2==2):\n",
    "        ax.plot(df[\"year\"],df[\"erosivity\"],color=[0.1]*3,alpha=0.5,label=\"EI30\")\n",
    "    else:\n",
    "        ax.plot(df[\"year\"],df[\"erosivity\"],color=[0.1]*3,alpha=0.5)\n",
    "    ax.fill_between([1998,2021], 0,500,facecolor='grey', alpha=0.3)    \n",
    "    # rolling mean\n",
    "    scales  = [10,20,30]\n",
    "    for scale in scales:\n",
    "        y = df[\"erosivity\"].reset_index().rolling(scale).mean()\n",
    "        if scale==10:\n",
    "            y_max=np.nanmax(y.values)*1.1\n",
    "        x = y.index+1898\n",
    "        ax.plot(x,y,lw=2,label=f'voortschrijdend gemiddelde ({scale} jaar)')\n",
    "    if ind1!=3:\n",
    "        ax.set_xticks([])\n",
    "    else:\n",
    "        if ind2==1:\n",
    "            ax.set_xlabel(r'Jaar (-)',fontsize=16)\n",
    "    ax.set_ylim([0,500])\n",
    "    ax.set_title(name)\n",
    "    ax.tick_params(axis='y', which='major', labelsize=12,rotation=90)\n",
    "    ax.tick_params(axis='x', which='major', labelsize=12)\n",
    "    if ind2!=0:\n",
    "        ax.set_yticklabels([])\n",
    "    else:\n",
    "        if ind1==2:\n",
    "            ax.set_ylabel('\\t\\t\\t Maandelijkse R [MJ mm ha$^{-1}$ h$^{-1}$ maand$^{-1}$]',fontsize=16)\n",
    "    if (ind1==0) & (ind2==2):\n",
    "        ax.legend(ncol=2)\n",
    "        \n",
    "fig,ax = plt.subplots(4,3,figsize=[9,9])\n",
    "months = [\"Januari\",\"Februari\",\"Maart\",\"April\",\"Mei\",\"Juni\",\"Juli\",\"Augustus\",\"September\",\"Oktober\",\"November\",\"December\"]\n",
    "erosivity_monthly[\"year\"] = erosivity_monthly.index.year\n",
    "\n",
    "for month,name in enumerate(months):\n",
    "    ind1=int(np.floor((month)/3))\n",
    "    ind2=np.mod(month,3)\n",
    "    df_plot = erosivity_monthly.loc[erosivity_monthly[\"month\"]==month+1]\n",
    "    df_plot  = df_plot [~np.isnan(df_plot[\"erosivity\"])].sort_values(\"year\")\n",
    "    subplot_montlhy_R(df_plot,ax[ind1,ind2],ind1,ind2)\n",
    "\n"
   ]
  }
 ],
 "metadata": {
  "keep_output": true,
  "kernelspec": {
   "display_name": "Python [conda env:rfactor]",
   "language": "python",
   "name": "conda-env-rfactor-py"
  },
  "language_info": {
   "codemirror_mode": {
    "name": "ipython",
    "version": 3
   },
   "file_extension": ".py",
   "mimetype": "text/x-python",
   "name": "python",
   "nbconvert_exporter": "python",
   "pygments_lexer": "ipython3",
   "version": "3.9.5"
  },
  "toc": {
   "base_numbering": 1,
   "nav_menu": {},
   "number_sections": true,
   "sideBar": true,
   "skip_h1_title": false,
   "title_cell": "Table of Contents",
   "title_sidebar": "Contents",
   "toc_cell": false,
   "toc_position": {},
   "toc_section_display": true,
   "toc_window_display": false
  },
  "varInspector": {
   "cols": {
    "lenName": 16,
    "lenType": 16,
    "lenVar": 40
   },
   "kernels_config": {
    "python": {
     "delete_cmd_postfix": "",
     "delete_cmd_prefix": "del ",
     "library": "var_list.py",
     "varRefreshCmd": "print(var_dic_list())"
    },
    "r": {
     "delete_cmd_postfix": ") ",
     "delete_cmd_prefix": "rm(",
     "library": "var_list.r",
     "varRefreshCmd": "cat(var_dic_list()) "
    }
   },
   "types_to_exclude": [
    "module",
    "function",
    "builtin_function_or_method",
    "instance",
    "_Feature"
   ],
   "window_display": false
  }
 },
 "nbformat": 4,
 "nbformat_minor": 4
}
