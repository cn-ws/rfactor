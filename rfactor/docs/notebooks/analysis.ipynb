{
 "cells": [
  {
   "cell_type": "code",
   "execution_count": 41,
   "metadata": {},
   "outputs": [
    {
     "name": "stdout",
     "output_type": "stream",
     "text": [
      "The autoreload extension is already loaded. To reload it, use:\n",
      "  %reload_ext autoreload\n"
     ]
    }
   ],
   "source": [
    "%load_ext autoreload\n",
    "%autoreload 2"
   ]
  },
  {
   "cell_type": "markdown",
   "metadata": {},
   "source": [
    "## Aim"
   ]
  },
  {
   "cell_type": "markdown",
   "metadata": {},
   "source": [
    "## Imports\n",
    "Main imports"
   ]
  },
  {
   "cell_type": "code",
   "execution_count": 42,
   "metadata": {},
   "outputs": [],
   "source": [
    "import matplotlib.pyplot as plt \n",
    "import pandas as pd\n",
    "import numpy as np\n",
    "from pathlib import Path\n",
    "import sys"
   ]
  },
  {
   "cell_type": "markdown",
   "metadata": {},
   "source": [
    "Package imports"
   ]
  },
  {
   "cell_type": "code",
   "execution_count": 43,
   "metadata": {},
   "outputs": [],
   "source": [
    "sys.path.append(r\"C:\\Users\\SachaGobeyn\\GitHub\\rfactor\")\n",
    "from rfactor.src.flanders.data_processing import (load_input_data,\n",
    "                                                  reformat_resolution,\n",
    "                                                  compute_statistics_inputdata,\n",
    "                                                  get_files_rfactor_script,\n",
    "                                                  load_cumulative_erosivity,\n",
    "                                                  load_data_completeness_file,\n",
    "                                                  ErosivityData,\n",
    "                                                 load_R) "
   ]
  },
  {
   "cell_type": "markdown",
   "metadata": {},
   "source": [
    "Load completeness per station\n",
    "Compute completeness for every station for every year\n",
    "1. Remove each set (year, station) if no data are reported for December or Januari (value: -1)\n",
    "2. Compute the number of non-NA-values on the non-zero data series (%) (value in [0,1])\n",
    "\n",
    "__NOTE__: These values are computed based on the original rainfall timeseries of KMI and VMM"
   ]
  },
  {
   "cell_type": "code",
   "execution_count": 57,
   "metadata": {},
   "outputs": [
    {
     "name": "stderr",
     "output_type": "stream",
     "text": [
      "[autoreload of rfactor.src.flanders.data_processing failed: Traceback (most recent call last):\n",
      "  File \"C:\\Users\\SachaGobeyn\\miniconda3\\envs\\cnws\\lib\\site-packages\\IPython\\extensions\\autoreload.py\", line 245, in check\n",
      "    superreload(m, reload, self.old_objects)\n",
      "  File \"C:\\Users\\SachaGobeyn\\miniconda3\\envs\\cnws\\lib\\site-packages\\IPython\\extensions\\autoreload.py\", line 410, in superreload\n",
      "    update_generic(old_obj, new_obj)\n",
      "  File \"C:\\Users\\SachaGobeyn\\miniconda3\\envs\\cnws\\lib\\site-packages\\IPython\\extensions\\autoreload.py\", line 347, in update_generic\n",
      "    update(a, b)\n",
      "  File \"C:\\Users\\SachaGobeyn\\miniconda3\\envs\\cnws\\lib\\site-packages\\IPython\\extensions\\autoreload.py\", line 292, in update_class\n",
      "    if (old_obj == new_obj) is True:\n",
      "  File \"C:\\Users\\SachaGobeyn\\miniconda3\\envs\\cnws\\lib\\site-packages\\pandas\\core\\generic.py\", line 1442, in __nonzero__\n",
      "    f\"The truth value of a {type(self).__name__} is ambiguous. \"\n",
      "ValueError: The truth value of a DataFrame is ambiguous. Use a.empty, a.bool(), a.item(), a.any() or a.all().\n",
      "]\n"
     ]
    }
   ],
   "source": [
    "fmap_rainfall=  Path(r\"C:\\Users\\SachaGobeyn\\Dropbox (Fluves)\\FLUVES\\PROJECTS\\FL_P_2020_DepO_CNWSMod_1\\07_results\\2019_rfactor\\data\\v0_rain_data_set_20201201\")\n",
    "fmap_erosivity = Path(r\"C:\\Users\\SachaGobeyn\\GitHub\\rfactor\\rfactor\\src\\rfactor\\results\")\n",
    "path_data_flanders = Path(\"..\",\"..\",\"src\",\"flanders\",\"data\")\n",
    "txt_files= path_data_flanders / \"datafiles_completeness.csv\""
   ]
  },
  {
   "cell_type": "code",
   "execution_count": 58,
   "metadata": {},
   "outputs": [],
   "source": [
    "data = ErosivityData(fmap_rainfall,fmap_erosivity)"
   ]
  },
  {
   "cell_type": "code",
   "execution_count": 59,
   "metadata": {},
   "outputs": [],
   "source": [
    "df_files = data.build_data_set(txt_files)"
   ]
  },
  {
   "cell_type": "code",
   "execution_count": 60,
   "metadata": {},
   "outputs": [
    {
     "name": "stderr",
     "output_type": "stream",
     "text": [
      "100%|██████████████████████████████████████████████████████████████████████████████████| 56/56 [00:19<00:00,  2.90it/s]\n"
     ]
    }
   ],
   "source": [
    "data.load_data(df_files)"
   ]
  },
  {
   "cell_type": "code",
   "execution_count": 40,
   "metadata": {},
   "outputs": [],
   "source": [
    "df_files.to_csv(\"overview_files_stations.csv\")"
   ]
  },
  {
   "cell_type": "markdown",
   "metadata": {},
   "source": [
    "## Ukkel"
   ]
  },
  {
   "cell_type": "code",
   "execution_count": 61,
   "metadata": {},
   "outputs": [
    {
     "name": "stdout",
     "output_type": "stream",
     "text": [
      "range(1898, 2003)\n",
      "958.1058095238096\n",
      "range(2003, 2020)\n",
      "1313.013125\n",
      "range(1898, 2020)\n",
      "1005.0357024793389\n",
      "range(1996, 2020)\n",
      "1260.6330434782608\n",
      "range(1990, 2020)\n",
      "1244.8975862068964\n",
      "range(1990, 2001)\n",
      "1094.6436363636365\n",
      "range(2000, 2020)\n",
      "1302.7794736842104\n"
     ]
    }
   ],
   "source": [
    "timeseries = [range(1898,2003,1),\n",
    "              range(2003,2020,1),\n",
    "              range(1898,2020,1),\n",
    "              range(1996,2020,1),\n",
    "              range(1990,2020,1),\n",
    "              range(1990,2001,1),\n",
    "              range(2000,2020,1)]\n",
    "for i in timeseries:\n",
    "    print(i)\n",
    "    df_R=data.load_R([\"KMI_6447\",\"KMI_FS3\"], i)\n",
    "    print(np.mean(df_R[\"value\"]))"
   ]
  },
  {
   "cell_type": "code",
   "execution_count": 62,
   "metadata": {},
   "outputs": [
    {
     "data": {
      "text/plain": [
       "56"
      ]
     },
     "execution_count": 62,
     "metadata": {},
     "output_type": "execute_result"
    }
   ],
   "source": [
    "len(data.stations)"
   ]
  },
  {
   "cell_type": "markdown",
   "metadata": {},
   "source": [
    "## Flanders and Belgium\n",
    "**All stations expect Ukkel**"
   ]
  },
  {
   "cell_type": "code",
   "execution_count": 63,
   "metadata": {},
   "outputs": [
    {
     "name": "stdout",
     "output_type": "stream",
     "text": [
      "1263.2720860927154\n"
     ]
    },
    {
     "data": {
      "text/plain": [
       "54"
      ]
     },
     "execution_count": 63,
     "metadata": {},
     "output_type": "execute_result"
    }
   ],
   "source": [
    "stations_belgium_excl_ukkel = [station for station in data.stations if station not in [\"KMI_6447\",\"KMI_FS3\"]]\n",
    "df_R=data.load_R(stations_belgium_excl_ukkel, i)\n",
    "print(np.mean(df_R[\"value\"]))\n",
    "len(stations_belgium_excl_ukkel)"
   ]
  },
  {
   "cell_type": "markdown",
   "metadata": {},
   "source": [
    "**All stations except Ukkel and Wallonia**"
   ]
  },
  {
   "cell_type": "code",
   "execution_count": 67,
   "metadata": {},
   "outputs": [
    {
     "name": "stdout",
     "output_type": "stream",
     "text": [
      "1235.2283858267717\n"
     ]
    },
    {
     "data": {
      "text/plain": [
       "49"
      ]
     },
     "execution_count": 67,
     "metadata": {},
     "output_type": "execute_result"
    }
   ],
   "source": [
    "stations_flanders_excl_ukkel = [station for station in data.stations if station not in  [\"KMI_6447\",\"KMI_FS3\",\"KMI_6455\",\"KMI_6459\",\"KMI_6472\",\"KMI_6494\",\"KMI_6484\"]]\n",
    "df_R=data.load_R(stations_flanders_excl_ukkel, i)\n",
    "print(np.mean(df_R[\"value\"]))\n",
    "len(stations_flanders_excl_ukkel)"
   ]
  },
  {
   "cell_type": "markdown",
   "metadata": {},
   "source": [
    "## EXTRA"
   ]
  },
  {
   "cell_type": "code",
   "execution_count": 65,
   "metadata": {},
   "outputs": [],
   "source": [
    "df_stations_KMI= pd.read_csv(path_data_flanders / \"geoinfo_KMI.csv\", delimiter=\";\")\n",
    "df_stations_VMM = pd.read_csv(path_data_flanders / \"geoinfo_VMM.csv\", delimiter=\",\")\n",
    "df_stations = df_stations_KMI.append(df_stations_VMM)"
   ]
  },
  {
   "cell_type": "code",
   "execution_count": 66,
   "metadata": {},
   "outputs": [
    {
     "data": {
      "text/html": [
       "<div>\n",
       "<style scoped>\n",
       "    .dataframe tbody tr th:only-of-type {\n",
       "        vertical-align: middle;\n",
       "    }\n",
       "\n",
       "    .dataframe tbody tr th {\n",
       "        vertical-align: top;\n",
       "    }\n",
       "\n",
       "    .dataframe thead th {\n",
       "        text-align: right;\n",
       "    }\n",
       "</style>\n",
       "<table border=\"1\" class=\"dataframe\">\n",
       "  <thead>\n",
       "    <tr style=\"text-align: right;\">\n",
       "      <th></th>\n",
       "      <th>station</th>\n",
       "      <th>locatie</th>\n",
       "      <th>x</th>\n",
       "      <th>y</th>\n",
       "      <th>Unnamed: 0</th>\n",
       "    </tr>\n",
       "  </thead>\n",
       "  <tbody>\n",
       "    <tr>\n",
       "      <th>0</th>\n",
       "      <td>KMI_6472</td>\n",
       "      <td>Humain</td>\n",
       "      <td>213458.0</td>\n",
       "      <td>98067.0</td>\n",
       "      <td>NaN</td>\n",
       "    </tr>\n",
       "    <tr>\n",
       "      <th>1</th>\n",
       "      <td>KMI_6484</td>\n",
       "      <td>Buzenol</td>\n",
       "      <td>238183.0</td>\n",
       "      <td>34949.0</td>\n",
       "      <td>NaN</td>\n",
       "    </tr>\n",
       "    <tr>\n",
       "      <th>2</th>\n",
       "      <td>KMI_6447</td>\n",
       "      <td>Ukkel</td>\n",
       "      <td>149377.0</td>\n",
       "      <td>165077.0</td>\n",
       "      <td>NaN</td>\n",
       "    </tr>\n",
       "    <tr>\n",
       "      <th>3</th>\n",
       "      <td>KMI_6455</td>\n",
       "      <td>Dourbes</td>\n",
       "      <td>166282.0</td>\n",
       "      <td>87083.0</td>\n",
       "      <td>NaN</td>\n",
       "    </tr>\n",
       "    <tr>\n",
       "      <th>4</th>\n",
       "      <td>KMI_6439</td>\n",
       "      <td>Sint-Katelijne-Waver</td>\n",
       "      <td>161253.0</td>\n",
       "      <td>195183.0</td>\n",
       "      <td>NaN</td>\n",
       "    </tr>\n",
       "    <tr>\n",
       "      <th>5</th>\n",
       "      <td>KMI_6414</td>\n",
       "      <td>Beitem</td>\n",
       "      <td>62433.0</td>\n",
       "      <td>177770.0</td>\n",
       "      <td>NaN</td>\n",
       "    </tr>\n",
       "    <tr>\n",
       "      <th>6</th>\n",
       "      <td>KMI_6464</td>\n",
       "      <td>Retie</td>\n",
       "      <td>196134.0</td>\n",
       "      <td>212533.0</td>\n",
       "      <td>NaN</td>\n",
       "    </tr>\n",
       "    <tr>\n",
       "      <th>7</th>\n",
       "      <td>KMI_6494</td>\n",
       "      <td>MontRigi</td>\n",
       "      <td>271048.0</td>\n",
       "      <td>134673.0</td>\n",
       "      <td>NaN</td>\n",
       "    </tr>\n",
       "    <tr>\n",
       "      <th>8</th>\n",
       "      <td>KMI_6418</td>\n",
       "      <td>Zeebrugge</td>\n",
       "      <td>68311.0</td>\n",
       "      <td>227035.0</td>\n",
       "      <td>NaN</td>\n",
       "    </tr>\n",
       "    <tr>\n",
       "      <th>9</th>\n",
       "      <td>KMI_6477</td>\n",
       "      <td>Diepenbeek</td>\n",
       "      <td>226166.0</td>\n",
       "      <td>178859.0</td>\n",
       "      <td>NaN</td>\n",
       "    </tr>\n",
       "    <tr>\n",
       "      <th>10</th>\n",
       "      <td>KMI_6434</td>\n",
       "      <td>Melle</td>\n",
       "      <td>111863.0</td>\n",
       "      <td>185117.0</td>\n",
       "      <td>NaN</td>\n",
       "    </tr>\n",
       "    <tr>\n",
       "      <th>11</th>\n",
       "      <td>KMI_6431</td>\n",
       "      <td>Zelzate</td>\n",
       "      <td>110942.0</td>\n",
       "      <td>207931.0</td>\n",
       "      <td>NaN</td>\n",
       "    </tr>\n",
       "    <tr>\n",
       "      <th>12</th>\n",
       "      <td>KMI_FS3</td>\n",
       "      <td>Ukkel</td>\n",
       "      <td>149377.0</td>\n",
       "      <td>165077.0</td>\n",
       "      <td>NaN</td>\n",
       "    </tr>\n",
       "    <tr>\n",
       "      <th>13</th>\n",
       "      <td>KMI_6459</td>\n",
       "      <td>Ernage</td>\n",
       "      <td>172864.0</td>\n",
       "      <td>141211.0</td>\n",
       "      <td>NaN</td>\n",
       "    </tr>\n",
       "    <tr>\n",
       "      <th>14</th>\n",
       "      <td>KMI2003_nu_v2</td>\n",
       "      <td>Ukkel</td>\n",
       "      <td>149377.0</td>\n",
       "      <td>165077.0</td>\n",
       "      <td>NaN</td>\n",
       "    </tr>\n",
       "    <tr>\n",
       "      <th>15</th>\n",
       "      <td>KMI1990_2002</td>\n",
       "      <td>Ukkel</td>\n",
       "      <td>149377.0</td>\n",
       "      <td>165077.0</td>\n",
       "      <td>NaN</td>\n",
       "    </tr>\n",
       "    <tr>\n",
       "      <th>0</th>\n",
       "      <td>P01_003</td>\n",
       "      <td>Zarren</td>\n",
       "      <td>51907.0</td>\n",
       "      <td>191193.0</td>\n",
       "      <td>0.0</td>\n",
       "    </tr>\n",
       "    <tr>\n",
       "      <th>1</th>\n",
       "      <td>P01_010</td>\n",
       "      <td>Ieper</td>\n",
       "      <td>45836.0</td>\n",
       "      <td>171260.0</td>\n",
       "      <td>1.0</td>\n",
       "    </tr>\n",
       "    <tr>\n",
       "      <th>2</th>\n",
       "      <td>P01_015</td>\n",
       "      <td>Sint-Joris</td>\n",
       "      <td>37391.0</td>\n",
       "      <td>203053.0</td>\n",
       "      <td>2.0</td>\n",
       "    </tr>\n",
       "    <tr>\n",
       "      <th>3</th>\n",
       "      <td>P01_029</td>\n",
       "      <td>De Panne</td>\n",
       "      <td>25566.0</td>\n",
       "      <td>198775.0</td>\n",
       "      <td>3.0</td>\n",
       "    </tr>\n",
       "    <tr>\n",
       "      <th>4</th>\n",
       "      <td>P01_037</td>\n",
       "      <td>Poperinge</td>\n",
       "      <td>30383.0</td>\n",
       "      <td>169639.0</td>\n",
       "      <td>4.0</td>\n",
       "    </tr>\n",
       "    <tr>\n",
       "      <th>5</th>\n",
       "      <td>P02_004</td>\n",
       "      <td>Oostkamp</td>\n",
       "      <td>71934.0</td>\n",
       "      <td>203046.0</td>\n",
       "      <td>5.0</td>\n",
       "    </tr>\n",
       "    <tr>\n",
       "      <th>6</th>\n",
       "      <td>P02_008</td>\n",
       "      <td>Klemskerke</td>\n",
       "      <td>54903.0</td>\n",
       "      <td>213712.0</td>\n",
       "      <td>6.0</td>\n",
       "    </tr>\n",
       "    <tr>\n",
       "      <th>7</th>\n",
       "      <td>P02_030</td>\n",
       "      <td>Dudzele</td>\n",
       "      <td>73428.0</td>\n",
       "      <td>219889.0</td>\n",
       "      <td>7.0</td>\n",
       "    </tr>\n",
       "    <tr>\n",
       "      <th>8</th>\n",
       "      <td>P03_041</td>\n",
       "      <td>Ertvelde</td>\n",
       "      <td>107553.0</td>\n",
       "      <td>206313.0</td>\n",
       "      <td>8.0</td>\n",
       "    </tr>\n",
       "    <tr>\n",
       "      <th>9</th>\n",
       "      <td>P03_017</td>\n",
       "      <td>Boekhoute</td>\n",
       "      <td>102378.0</td>\n",
       "      <td>217610.0</td>\n",
       "      <td>9.0</td>\n",
       "    </tr>\n",
       "    <tr>\n",
       "      <th>10</th>\n",
       "      <td>P03_036</td>\n",
       "      <td>Stekene</td>\n",
       "      <td>126793.0</td>\n",
       "      <td>209790.0</td>\n",
       "      <td>10.0</td>\n",
       "    </tr>\n",
       "    <tr>\n",
       "      <th>11</th>\n",
       "      <td>P03_005</td>\n",
       "      <td>Vinderhoute</td>\n",
       "      <td>100117.0</td>\n",
       "      <td>197676.0</td>\n",
       "      <td>11.0</td>\n",
       "    </tr>\n",
       "    <tr>\n",
       "      <th>12</th>\n",
       "      <td>P04_027</td>\n",
       "      <td>Wilrijk</td>\n",
       "      <td>150532.0</td>\n",
       "      <td>204061.0</td>\n",
       "      <td>12.0</td>\n",
       "    </tr>\n",
       "    <tr>\n",
       "      <th>13</th>\n",
       "      <td>P04_001</td>\n",
       "      <td>Melsele</td>\n",
       "      <td>142966.0</td>\n",
       "      <td>214911.0</td>\n",
       "      <td>13.0</td>\n",
       "    </tr>\n",
       "    <tr>\n",
       "      <th>14</th>\n",
       "      <td>P04_020</td>\n",
       "      <td>Massemen</td>\n",
       "      <td>115584.0</td>\n",
       "      <td>185349.0</td>\n",
       "      <td>14.0</td>\n",
       "    </tr>\n",
       "    <tr>\n",
       "      <th>15</th>\n",
       "      <td>P05_038</td>\n",
       "      <td>Geluwe</td>\n",
       "      <td>59622.0</td>\n",
       "      <td>167497.0</td>\n",
       "      <td>15.0</td>\n",
       "    </tr>\n",
       "    <tr>\n",
       "      <th>16</th>\n",
       "      <td>P05_019</td>\n",
       "      <td>Waregem</td>\n",
       "      <td>82616.0</td>\n",
       "      <td>172798.0</td>\n",
       "      <td>16.0</td>\n",
       "    </tr>\n",
       "    <tr>\n",
       "      <th>17</th>\n",
       "      <td>P05_039</td>\n",
       "      <td>Roeselare</td>\n",
       "      <td>65867.0</td>\n",
       "      <td>181510.0</td>\n",
       "      <td>17.0</td>\n",
       "    </tr>\n",
       "    <tr>\n",
       "      <th>18</th>\n",
       "      <td>P06_040</td>\n",
       "      <td>Zingem</td>\n",
       "      <td>99800.0</td>\n",
       "      <td>177500.0</td>\n",
       "      <td>18.0</td>\n",
       "    </tr>\n",
       "    <tr>\n",
       "      <th>19</th>\n",
       "      <td>P06_014</td>\n",
       "      <td>Maarke-Kerkem</td>\n",
       "      <td>100828.0</td>\n",
       "      <td>167846.0</td>\n",
       "      <td>19.0</td>\n",
       "    </tr>\n",
       "    <tr>\n",
       "      <th>20</th>\n",
       "      <td>P07_022</td>\n",
       "      <td>Denderbelle</td>\n",
       "      <td>130619.0</td>\n",
       "      <td>188456.0</td>\n",
       "      <td>20.0</td>\n",
       "    </tr>\n",
       "    <tr>\n",
       "      <th>21</th>\n",
       "      <td>P07_006</td>\n",
       "      <td>Liedekerke</td>\n",
       "      <td>130730.0</td>\n",
       "      <td>175177.0</td>\n",
       "      <td>21.0</td>\n",
       "    </tr>\n",
       "    <tr>\n",
       "      <th>22</th>\n",
       "      <td>P07_021</td>\n",
       "      <td>Moerbeke</td>\n",
       "      <td>116794.0</td>\n",
       "      <td>159224.0</td>\n",
       "      <td>22.0</td>\n",
       "    </tr>\n",
       "    <tr>\n",
       "      <th>23</th>\n",
       "      <td>P08_028</td>\n",
       "      <td>Rotselaar</td>\n",
       "      <td>173437.0</td>\n",
       "      <td>181832.0</td>\n",
       "      <td>23.0</td>\n",
       "    </tr>\n",
       "    <tr>\n",
       "      <th>24</th>\n",
       "      <td>P08_013</td>\n",
       "      <td>Korbeek-Dijle</td>\n",
       "      <td>169338.0</td>\n",
       "      <td>169563.0</td>\n",
       "      <td>24.0</td>\n",
       "    </tr>\n",
       "    <tr>\n",
       "      <th>25</th>\n",
       "      <td>P08_031</td>\n",
       "      <td>Heverlee</td>\n",
       "      <td>170944.0</td>\n",
       "      <td>174177.0</td>\n",
       "      <td>25.0</td>\n",
       "    </tr>\n",
       "    <tr>\n",
       "      <th>26</th>\n",
       "      <td>P08_033</td>\n",
       "      <td>Nossegem</td>\n",
       "      <td>159180.0</td>\n",
       "      <td>174735.0</td>\n",
       "      <td>26.0</td>\n",
       "    </tr>\n",
       "    <tr>\n",
       "      <th>27</th>\n",
       "      <td>P08_018</td>\n",
       "      <td>Bonheiden</td>\n",
       "      <td>159936.0</td>\n",
       "      <td>191383.0</td>\n",
       "      <td>27.0</td>\n",
       "    </tr>\n",
       "    <tr>\n",
       "      <th>28</th>\n",
       "      <td>P08_009</td>\n",
       "      <td>St-Pieters-Leeuw</td>\n",
       "      <td>144952.0</td>\n",
       "      <td>166549.0</td>\n",
       "      <td>28.0</td>\n",
       "    </tr>\n",
       "    <tr>\n",
       "      <th>29</th>\n",
       "      <td>P08_023</td>\n",
       "      <td>Lembeek</td>\n",
       "      <td>139389.0</td>\n",
       "      <td>155330.0</td>\n",
       "      <td>29.0</td>\n",
       "    </tr>\n",
       "    <tr>\n",
       "      <th>30</th>\n",
       "      <td>P09_025</td>\n",
       "      <td>Houthalen</td>\n",
       "      <td>219082.0</td>\n",
       "      <td>189904.0</td>\n",
       "      <td>30.0</td>\n",
       "    </tr>\n",
       "    <tr>\n",
       "      <th>31</th>\n",
       "      <td>P09_026</td>\n",
       "      <td>Runkelen</td>\n",
       "      <td>205040.0</td>\n",
       "      <td>172223.0</td>\n",
       "      <td>31.0</td>\n",
       "    </tr>\n",
       "    <tr>\n",
       "      <th>32</th>\n",
       "      <td>P09_016</td>\n",
       "      <td>Lummen</td>\n",
       "      <td>205866.0</td>\n",
       "      <td>184545.0</td>\n",
       "      <td>32.0</td>\n",
       "    </tr>\n",
       "    <tr>\n",
       "      <th>33</th>\n",
       "      <td>P09_012</td>\n",
       "      <td>Niel-bij-St.-Truiden</td>\n",
       "      <td>204600.0</td>\n",
       "      <td>158877.0</td>\n",
       "      <td>33.0</td>\n",
       "    </tr>\n",
       "    <tr>\n",
       "      <th>34</th>\n",
       "      <td>P09_034</td>\n",
       "      <td>Tessenderlo</td>\n",
       "      <td>202728.0</td>\n",
       "      <td>193815.0</td>\n",
       "      <td>34.0</td>\n",
       "    </tr>\n",
       "    <tr>\n",
       "      <th>35</th>\n",
       "      <td>P09_032</td>\n",
       "      <td>Tienen</td>\n",
       "      <td>192311.0</td>\n",
       "      <td>166377.0</td>\n",
       "      <td>35.0</td>\n",
       "    </tr>\n",
       "    <tr>\n",
       "      <th>36</th>\n",
       "      <td>P09_035</td>\n",
       "      <td>Beverst</td>\n",
       "      <td>226491.0</td>\n",
       "      <td>177335.0</td>\n",
       "      <td>36.0</td>\n",
       "    </tr>\n",
       "    <tr>\n",
       "      <th>37</th>\n",
       "      <td>P10_011</td>\n",
       "      <td>Herentals</td>\n",
       "      <td>183363.0</td>\n",
       "      <td>205910.0</td>\n",
       "      <td>37.0</td>\n",
       "    </tr>\n",
       "    <tr>\n",
       "      <th>38</th>\n",
       "      <td>P10_042</td>\n",
       "      <td>Vosselaar</td>\n",
       "      <td>187754.0</td>\n",
       "      <td>220718.0</td>\n",
       "      <td>38.0</td>\n",
       "    </tr>\n",
       "    <tr>\n",
       "      <th>39</th>\n",
       "      <td>P11_007</td>\n",
       "      <td>Loenhout</td>\n",
       "      <td>173416.0</td>\n",
       "      <td>230970.0</td>\n",
       "      <td>39.0</td>\n",
       "    </tr>\n",
       "    <tr>\n",
       "      <th>40</th>\n",
       "      <td>P11_002</td>\n",
       "      <td>Overpelt</td>\n",
       "      <td>224843.0</td>\n",
       "      <td>210857.0</td>\n",
       "      <td>40.0</td>\n",
       "    </tr>\n",
       "    <tr>\n",
       "      <th>41</th>\n",
       "      <td>P11_024</td>\n",
       "      <td>Kanne</td>\n",
       "      <td>242038.0</td>\n",
       "      <td>167382.0</td>\n",
       "      <td>41.0</td>\n",
       "    </tr>\n",
       "    <tr>\n",
       "      <th>42</th>\n",
       "      <td>P11_043</td>\n",
       "      <td>Neeroeteren</td>\n",
       "      <td>242149.0</td>\n",
       "      <td>197668.0</td>\n",
       "      <td>42.0</td>\n",
       "    </tr>\n",
       "  </tbody>\n",
       "</table>\n",
       "</div>"
      ],
      "text/plain": [
       "          station               locatie         x         y  Unnamed: 0\n",
       "0        KMI_6472                Humain  213458.0   98067.0         NaN\n",
       "1        KMI_6484               Buzenol  238183.0   34949.0         NaN\n",
       "2        KMI_6447                 Ukkel  149377.0  165077.0         NaN\n",
       "3        KMI_6455               Dourbes  166282.0   87083.0         NaN\n",
       "4        KMI_6439  Sint-Katelijne-Waver  161253.0  195183.0         NaN\n",
       "5        KMI_6414                Beitem   62433.0  177770.0         NaN\n",
       "6        KMI_6464                 Retie  196134.0  212533.0         NaN\n",
       "7        KMI_6494              MontRigi  271048.0  134673.0         NaN\n",
       "8        KMI_6418             Zeebrugge   68311.0  227035.0         NaN\n",
       "9        KMI_6477            Diepenbeek  226166.0  178859.0         NaN\n",
       "10       KMI_6434                 Melle  111863.0  185117.0         NaN\n",
       "11       KMI_6431               Zelzate  110942.0  207931.0         NaN\n",
       "12        KMI_FS3                 Ukkel  149377.0  165077.0         NaN\n",
       "13       KMI_6459                Ernage  172864.0  141211.0         NaN\n",
       "14  KMI2003_nu_v2                 Ukkel  149377.0  165077.0         NaN\n",
       "15   KMI1990_2002                 Ukkel  149377.0  165077.0         NaN\n",
       "0         P01_003                Zarren   51907.0  191193.0         0.0\n",
       "1         P01_010                 Ieper   45836.0  171260.0         1.0\n",
       "2         P01_015            Sint-Joris   37391.0  203053.0         2.0\n",
       "3         P01_029              De Panne   25566.0  198775.0         3.0\n",
       "4         P01_037             Poperinge   30383.0  169639.0         4.0\n",
       "5         P02_004              Oostkamp   71934.0  203046.0         5.0\n",
       "6         P02_008            Klemskerke   54903.0  213712.0         6.0\n",
       "7         P02_030               Dudzele   73428.0  219889.0         7.0\n",
       "8         P03_041              Ertvelde  107553.0  206313.0         8.0\n",
       "9         P03_017             Boekhoute  102378.0  217610.0         9.0\n",
       "10        P03_036               Stekene  126793.0  209790.0        10.0\n",
       "11        P03_005           Vinderhoute  100117.0  197676.0        11.0\n",
       "12        P04_027               Wilrijk  150532.0  204061.0        12.0\n",
       "13        P04_001               Melsele  142966.0  214911.0        13.0\n",
       "14        P04_020              Massemen  115584.0  185349.0        14.0\n",
       "15        P05_038                Geluwe   59622.0  167497.0        15.0\n",
       "16        P05_019               Waregem   82616.0  172798.0        16.0\n",
       "17        P05_039             Roeselare   65867.0  181510.0        17.0\n",
       "18        P06_040                Zingem   99800.0  177500.0        18.0\n",
       "19        P06_014         Maarke-Kerkem  100828.0  167846.0        19.0\n",
       "20        P07_022           Denderbelle  130619.0  188456.0        20.0\n",
       "21        P07_006            Liedekerke  130730.0  175177.0        21.0\n",
       "22        P07_021              Moerbeke  116794.0  159224.0        22.0\n",
       "23        P08_028             Rotselaar  173437.0  181832.0        23.0\n",
       "24        P08_013         Korbeek-Dijle  169338.0  169563.0        24.0\n",
       "25        P08_031              Heverlee  170944.0  174177.0        25.0\n",
       "26        P08_033              Nossegem  159180.0  174735.0        26.0\n",
       "27        P08_018             Bonheiden  159936.0  191383.0        27.0\n",
       "28        P08_009      St-Pieters-Leeuw  144952.0  166549.0        28.0\n",
       "29        P08_023               Lembeek  139389.0  155330.0        29.0\n",
       "30        P09_025             Houthalen  219082.0  189904.0        30.0\n",
       "31        P09_026              Runkelen  205040.0  172223.0        31.0\n",
       "32        P09_016                Lummen  205866.0  184545.0        32.0\n",
       "33        P09_012  Niel-bij-St.-Truiden  204600.0  158877.0        33.0\n",
       "34        P09_034           Tessenderlo  202728.0  193815.0        34.0\n",
       "35        P09_032                Tienen  192311.0  166377.0        35.0\n",
       "36        P09_035               Beverst  226491.0  177335.0        36.0\n",
       "37        P10_011             Herentals  183363.0  205910.0        37.0\n",
       "38        P10_042             Vosselaar  187754.0  220718.0        38.0\n",
       "39        P11_007              Loenhout  173416.0  230970.0        39.0\n",
       "40        P11_002              Overpelt  224843.0  210857.0        40.0\n",
       "41        P11_024                 Kanne  242038.0  167382.0        41.0\n",
       "42        P11_043           Neeroeteren  242149.0  197668.0        42.0"
      ]
     },
     "execution_count": 66,
     "metadata": {},
     "output_type": "execute_result"
    }
   ],
   "source": [
    "df_stations"
   ]
  },
  {
   "cell_type": "markdown",
   "metadata": {},
   "source": [
    "**Compute statistics**  \n",
    "Compute general statistics with .describe() functions,  and couple x and y's. Only "
   ]
  },
  {
   "cell_type": "code",
   "execution_count": 9,
   "metadata": {},
   "outputs": [],
   "source": [
    "resmap = \"results\"\n",
    "compute_statistics_inputdata(dict_inputdata, resmap, df_stations)"
   ]
  },
  {
   "cell_type": "markdown",
   "metadata": {},
   "source": [
    "## Compute R-factor"
   ]
  },
  {
   "cell_type": "markdown",
   "metadata": {},
   "source": [
    "Run model with Matlab in terminal (navigate to *C:\\Users\\$USERNAME\\GitHub\\rfactor\\rfactor\\src\\rfactor*, **see README.md**)\n",
    "    \n",
    "    matlab -nodisplay -r \"main('C:\\Users\\\\$USERNAME\\GitHub\\rfactor\\rfactor\\docs\\data\\example_inputdata')\"\n",
    "\n",
    "Results are saved in *C:\\Users\\\\$USERNAME\\GitHub\\rfactor\\rfactor\\src\\rfactor*"
   ]
  },
  {
   "cell_type": "code",
   "execution_count": 10,
   "metadata": {},
   "outputs": [],
   "source": [
    "fmap = Path(r\"C:\\Users\\SachaGobeyn\\GitHub\\rfactor\\rfactor\\src\\rfactor\\results\")"
   ]
  },
  {
   "cell_type": "code",
   "execution_count": 11,
   "metadata": {},
   "outputs": [
    {
     "data": {
      "text/plain": [
       "True"
      ]
     },
     "execution_count": 11,
     "metadata": {},
     "output_type": "execute_result"
    }
   ],
   "source": [
    "fmap.exists()"
   ]
  },
  {
   "cell_type": "markdown",
   "metadata": {},
   "source": [
    "## Process results"
   ]
  },
  {
   "cell_type": "markdown",
   "metadata": {},
   "source": [
    "**Get files**"
   ]
  },
  {
   "cell_type": "code",
   "execution_count": 12,
   "metadata": {},
   "outputs": [],
   "source": [
    "dict_output_files = get_files_rfactor_script(fmap,dict_inputdata,df_completeness)"
   ]
  },
  {
   "cell_type": "markdown",
   "metadata": {},
   "source": [
    "**Create dataframes**\n",
    "One dataframe for each station.  \n",
    "__NOTE__: Results from incomplete datasets (<0.95 coverage) are not loaded as these have not been computed! "
   ]
  },
  {
   "cell_type": "code",
   "execution_count": 13,
   "metadata": {
    "scrolled": true
   },
   "outputs": [],
   "source": [
    "dict_df_output = load_cumulative_erosivity(dict_output_files)"
   ]
  },
  {
   "cell_type": "markdown",
   "metadata": {},
   "source": [
    "**Generate table output**"
   ]
  },
  {
   "cell_type": "code",
   "execution_count": 43,
   "metadata": {},
   "outputs": [],
   "source": [
    "columns = [\"station\",\"year\",\"value\",\"Flanders\",\"Belgium\"]\n",
    "df_R_yearly =  pd.DataFrame(data=np.zeros([data.nr_files,len(columns)]),columns=columns)\n",
    "resmap=\"results\"\n",
    "ind = 0\n",
    "\n",
    "for station in dict_erosivity:\n",
    "    \n",
    "    for year in dict_erosivity[station]:\n",
    "        value = dict_erosivity[station][year][\"cumEI30\"].iloc[-1]\n",
    "        if station in [\"KMI_6447\",\"KMI_FS3\"]:\n",
    "            Belgium = 0\n",
    "            Flanders = 0\n",
    "            Ukkel = 1\n",
    "        elif station in [\"KMI_6455\",\"KMI_6459\",\"KMI_6472\",\"KMI_6494\"]:\n",
    "            Flanders = 0\n",
    "            Belgium = 1\n",
    "            Ukkel = 0\n",
    "        else:\n",
    "            Belgium = 1\n",
    "            Flanders = 1\n",
    "            Ukkel = 0\n",
    "        df_R_yearly.loc[ind, [\"station\",\"year\",\"value\",\"Ukkel\",\"Flanders\",\"Belgium\"]] = [station, year, value, Ukkel, Flanders, Belgium]        \n",
    "        \n",
    "        ind += 1\n",
    "        \n",
    "df_R_yearly.to_csv(Path(resmap) / \"Ryearly_allstations_filtereddata.csv\")"
   ]
  },
  {
   "cell_type": "markdown",
   "metadata": {},
   "source": [
    "## Analysis"
   ]
  },
  {
   "cell_type": "markdown",
   "metadata": {},
   "source": [
    "**Values for Flanders and Belgium**  \n",
    "Average value for Flanders (excl. Ukkel)"
   ]
  },
  {
   "cell_type": "code",
   "execution_count": 44,
   "metadata": {},
   "outputs": [
    {
     "data": {
      "text/plain": [
       "1245.863062015504"
      ]
     },
     "execution_count": 44,
     "metadata": {},
     "output_type": "execute_result"
    }
   ],
   "source": [
    "np.mean(df_R_yearly.loc[df_R_yearly[\"Flanders\"]==1,\"value\"])"
   ]
  },
  {
   "cell_type": "markdown",
   "metadata": {},
   "source": [
    "Average value for Belgium (excl. Ukkel)"
   ]
  },
  {
   "cell_type": "code",
   "execution_count": 45,
   "metadata": {},
   "outputs": [
    {
     "data": {
      "text/plain": [
       "1267.2824242424242"
      ]
     },
     "execution_count": 45,
     "metadata": {},
     "output_type": "execute_result"
    }
   ],
   "source": [
    "np.mean(df_R_yearly.loc[df_R_yearly[\"Belgium\"]==1,\"value\"])"
   ]
  },
  {
   "cell_type": "markdown",
   "metadata": {},
   "source": [
    "**Ukkel: long term**   \n",
    "Two timeseries: \n",
    " - KMI_FS from 1989 to 2002  \n",
    " - KMI_6447 from 2003 to 2017  "
   ]
  },
  {
   "cell_type": "code",
   "execution_count": 46,
   "metadata": {},
   "outputs": [
    {
     "ename": "NameError",
     "evalue": "name 'dict_df_output_hm' is not defined",
     "output_type": "error",
     "traceback": [
      "\u001b[1;31m---------------------------------------------------------------------------\u001b[0m",
      "\u001b[1;31mNameError\u001b[0m                                 Traceback (most recent call last)",
      "\u001b[1;32m<ipython-input-46-c1faf94c9a30>\u001b[0m in \u001b[0;36m<module>\u001b[1;34m\u001b[0m\n\u001b[1;32m----> 1\u001b[1;33m \u001b[0mdict_df_output_hm\u001b[0m\u001b[1;33m[\u001b[0m\u001b[1;34m\"Ukkel_samen\"\u001b[0m\u001b[1;33m]\u001b[0m \u001b[1;33m=\u001b[0m \u001b[0mpd\u001b[0m\u001b[1;33m.\u001b[0m\u001b[0mconcat\u001b[0m\u001b[1;33m(\u001b[0m\u001b[1;33m[\u001b[0m\u001b[0mdict_df_output_hm\u001b[0m\u001b[1;33m[\u001b[0m\u001b[1;34m\"KMI_FS3\"\u001b[0m\u001b[1;33m]\u001b[0m\u001b[1;33m,\u001b[0m\u001b[0mdict_df_output_hm\u001b[0m\u001b[1;33m[\u001b[0m\u001b[1;34m\"KMI_6447\"\u001b[0m\u001b[1;33m]\u001b[0m\u001b[1;33m]\u001b[0m\u001b[1;33m,\u001b[0m \u001b[0maxis\u001b[0m\u001b[1;33m=\u001b[0m\u001b[1;36m1\u001b[0m\u001b[1;33m)\u001b[0m\u001b[1;33m\u001b[0m\u001b[1;33m\u001b[0m\u001b[0m\n\u001b[0m\u001b[0;32m      2\u001b[0m \u001b[0mdict_df_output_hm\u001b[0m\u001b[1;33m[\u001b[0m\u001b[1;34m\"Ukkel_samen\"\u001b[0m\u001b[1;33m]\u001b[0m\u001b[1;33m.\u001b[0m\u001b[0mto_csv\u001b[0m\u001b[1;33m(\u001b[0m\u001b[0mPath\u001b[0m\u001b[1;33m(\u001b[0m\u001b[0mresmap\u001b[0m\u001b[1;33m)\u001b[0m \u001b[1;33m/\u001b[0m \u001b[1;34m\"Ryearly_Ukkel_filtereddata.csv\"\u001b[0m\u001b[1;33m)\u001b[0m\u001b[1;33m\u001b[0m\u001b[1;33m\u001b[0m\u001b[0m\n",
      "\u001b[1;31mNameError\u001b[0m: name 'dict_df_output_hm' is not defined"
     ]
    }
   ],
   "source": [
    "dict_df_output_hm[\"Ukkel_samen\"] = pd.concat([dict_erosivity[\"KMI_FS3\"],dict_erosivity[\"KMI_6447\"]], axis=1)\n",
    "dict_df_output_hm[\"Ukkel_samen\"].to_csv(Path(resmap) / \"Ryearly_Ukkel_filtereddata.csv\")"
   ]
  },
  {
   "cell_type": "markdown",
   "metadata": {},
   "source": [
    "Compute different values for Ukkel, for different time periods"
   ]
  },
  {
   "cell_type": "code",
   "execution_count": 19,
   "metadata": {},
   "outputs": [],
   "source": [
    "a= [[1898,2002],\n",
    "    [1898,2019],\n",
    "    [2003,2019],\n",
    "    [1996,2019],\n",
    "    [1990,2019],\n",
    "    [1990,2000],\n",
    "    [2000,2019]]\n",
    "pres = {}\n",
    "for j in a:\n",
    "    col = np.arange(j[0],j[1]+1,1)\n",
    "    col = [i for i in col if i in dict_df_output_hm[\"Ukkel_samen\"].columns]\n",
    "    col_fill_nan = [i for i in col if i not in dict_df_output_hm[\"Ukkel_samen\"].columns]\n",
    "    for i in col_fill_nan:\n",
    "        dict_df_output_hm[\"Ukkel_samen\"][i] = np.nan\n",
    "    pres[str(j)] = {\"mean\":np.nanmean(dict_df_output_hm[\"Ukkel_samen\"][col].iloc[-1]),\"median\":np.nanmedian(dict_df_output_hm[\"Ukkel_samen\"][col].iloc[-1])}\n",
    "df_summary = pd.DataFrame.from_dict(pres).T    "
   ]
  },
  {
   "cell_type": "code",
   "execution_count": 20,
   "metadata": {},
   "outputs": [
    {
     "data": {
      "text/html": [
       "<div>\n",
       "<style scoped>\n",
       "    .dataframe tbody tr th:only-of-type {\n",
       "        vertical-align: middle;\n",
       "    }\n",
       "\n",
       "    .dataframe tbody tr th {\n",
       "        vertical-align: top;\n",
       "    }\n",
       "\n",
       "    .dataframe thead th {\n",
       "        text-align: right;\n",
       "    }\n",
       "</style>\n",
       "<table border=\"1\" class=\"dataframe\">\n",
       "  <thead>\n",
       "    <tr style=\"text-align: right;\">\n",
       "      <th></th>\n",
       "      <th>mean</th>\n",
       "      <th>median</th>\n",
       "    </tr>\n",
       "  </thead>\n",
       "  <tbody>\n",
       "    <tr>\n",
       "      <th>[1898, 2002]</th>\n",
       "      <td>958.105810</td>\n",
       "      <td>927.27</td>\n",
       "    </tr>\n",
       "    <tr>\n",
       "      <th>[1898, 2019]</th>\n",
       "      <td>1005.035702</td>\n",
       "      <td>941.02</td>\n",
       "    </tr>\n",
       "    <tr>\n",
       "      <th>[2003, 2019]</th>\n",
       "      <td>1313.013125</td>\n",
       "      <td>1094.68</td>\n",
       "    </tr>\n",
       "    <tr>\n",
       "      <th>[1996, 2019]</th>\n",
       "      <td>1260.633043</td>\n",
       "      <td>1095.00</td>\n",
       "    </tr>\n",
       "    <tr>\n",
       "      <th>[1990, 2019]</th>\n",
       "      <td>1244.897586</td>\n",
       "      <td>1095.00</td>\n",
       "    </tr>\n",
       "    <tr>\n",
       "      <th>[1990, 2000]</th>\n",
       "      <td>1094.643636</td>\n",
       "      <td>1073.07</td>\n",
       "    </tr>\n",
       "    <tr>\n",
       "      <th>[2000, 2019]</th>\n",
       "      <td>1302.779474</td>\n",
       "      <td>1146.81</td>\n",
       "    </tr>\n",
       "  </tbody>\n",
       "</table>\n",
       "</div>"
      ],
      "text/plain": [
       "                     mean   median\n",
       "[1898, 2002]   958.105810   927.27\n",
       "[1898, 2019]  1005.035702   941.02\n",
       "[2003, 2019]  1313.013125  1094.68\n",
       "[1996, 2019]  1260.633043  1095.00\n",
       "[1990, 2019]  1244.897586  1095.00\n",
       "[1990, 2000]  1094.643636  1073.07\n",
       "[2000, 2019]  1302.779474  1146.81"
      ]
     },
     "execution_count": 20,
     "metadata": {},
     "output_type": "execute_result"
    }
   ],
   "source": [
    "df_summary"
   ]
  },
  {
   "cell_type": "markdown",
   "metadata": {},
   "source": [
    "Figure"
   ]
  },
  {
   "cell_type": "code",
   "execution_count": null,
   "metadata": {},
   "outputs": [],
   "source": [
    "out = dict_df_output_hm[\"Ukkel_samen\"]\n",
    "plt.figure(figsize=[12,7.5])\n",
    "col = np.arange(1898,2003,1)\n",
    "col = [i for i in col if i in dict_df_output_hm[\"Ukkel_samen\"].columns]\n",
    "plt.plot(col,out[col].iloc[-1],label=\"KMI_FS3 (1898-2002)\")\n",
    "col = np.arange(2002,2019,1)\n",
    "col = [i for i in col if i in dict_df_output_hm[\"Ukkel_samen\"].columns]\n",
    "plt.plot(col,out[col].iloc[-1],label=\"KMI_6447 (2003-2019)\")\n",
    "\n",
    "# rolling mean\n",
    "y = out.iloc[-1].rolling(10).mean()\n",
    "x = y.index\n",
    "plt.plot(x,y,ls=':',lw=3,label='voortschrijdend gemiddelde (10 jaar)')\n",
    "y = out.iloc[-1].rolling(20).mean()\n",
    "x = y.index\n",
    "plt.plot(x,y,ls='--',lw=3,label='voortschrijdend gemiddelde (20 jaar)')\n",
    "y = out.iloc[-1].rolling(30).mean()\n",
    "x = y.index\n",
    "plt.plot(x,y,ls='-.',lw=3,label='voortschrijdend gemiddelde (30 jaar)')\n",
    "plt.ylim([0,3500])\n",
    "plt.xlim([1890,2020])\n",
    "plt.tick_params(axis='both', which='major', labelsize=14)\n",
    "plt.xlabel(r'Jaar (-)',fontsize=16)\n",
    "plt.ylabel(r'Jaarlijkse R [MJ mm ha$^{-1}$ h$^{-1}$ jaar$^{-1}$]',fontsize=16)\n",
    "plt.legend(prop={'size':16})"
   ]
  },
  {
   "cell_type": "markdown",
   "metadata": {},
   "source": [
    "Compare results of Ukkel with other average of other stations"
   ]
  },
  {
   "cell_type": "code",
   "execution_count": null,
   "metadata": {},
   "outputs": [],
   "source": [
    "coldf = [\"station\",\"rc\",\"offset\",\"afstand\",\"p\",\"r_value\",\"n\",\"dR\",\"meanR\"]\n",
    "out = pd.DataFrame(data = np.zeros([len(dict_df_output_hm)-3,len(coldf)]),columns=coldf)\n",
    "ind = 0\n",
    "\n",
    "for i in dict_df_output_hm.keys():\n",
    "    \n",
    "    if (i!=\"Ukkel_samen\") & (i!=\"KMI_FS3\") & (i!=\"KMI_6447\"):\n",
    "        col = dict_df_output_hm[\"Ukkel_samen\"].columns\n",
    "        col_fill_nan = [j for j in col if j not in dict_df_output_hm[i].columns]\n",
    "        for j in col_fill_nan:\n",
    "            dict_df_output_hm[i][j] = np.nan\n",
    "        y = dict_df_output_hm[i][col].iloc[-1]\n",
    "        x = dict_df_output_hm[\"Ukkel_samen\"][col].iloc[-1]\n",
    "        x = x[~np.isnan(y)]        \n",
    "        y = y[~np.isnan(y)]\n",
    "        df_i = pd.DataFrame()\n",
    "        df_i[i] = x.values.flatten()\n",
    "        df_i[\"Ukkel (KMI_FS3 & KMI_6447)\"] = y.values.flatten()\n",
    "        df_i = df_i.sort_values(\"Ukkel (KMI_FS3 & KMI_6447)\")\n",
    "        \n",
    "        out[\"dR\"].loc[ind] = np.mean(dict_df_output_hm[i].iloc[-1])-np.mean(dict_df_output_hm[\"Ukkel_samen\"].iloc[-1])\n",
    "        out[\"meanR\"].loc[ind] = np.mean(dict_df_output_hm[i].iloc[-1])\n",
    "        ind += 1\n",
    "\n",
    "out.to_csv(Path(resmap) / \"stat_allstations_res.csv\")"
   ]
  },
  {
   "cell_type": "code",
   "execution_count": null,
   "metadata": {},
   "outputs": [],
   "source": []
  }
 ],
 "metadata": {
  "kernelspec": {
   "display_name": "Python [conda env:cnws]",
   "language": "python",
   "name": "conda-env-cnws-py"
  },
  "language_info": {
   "codemirror_mode": {
    "name": "ipython",
    "version": 3
   },
   "file_extension": ".py",
   "mimetype": "text/x-python",
   "name": "python",
   "nbconvert_exporter": "python",
   "pygments_lexer": "ipython3",
   "version": "3.7.9"
  },
  "toc": {
   "base_numbering": 1,
   "nav_menu": {},
   "number_sections": true,
   "sideBar": true,
   "skip_h1_title": false,
   "title_cell": "Table of Contents",
   "title_sidebar": "Contents",
   "toc_cell": false,
   "toc_position": {},
   "toc_section_display": true,
   "toc_window_display": false
  },
  "varInspector": {
   "cols": {
    "lenName": 16,
    "lenType": 16,
    "lenVar": 40
   },
   "kernels_config": {
    "python": {
     "delete_cmd_postfix": "",
     "delete_cmd_prefix": "del ",
     "library": "var_list.py",
     "varRefreshCmd": "print(var_dic_list())"
    },
    "r": {
     "delete_cmd_postfix": ") ",
     "delete_cmd_prefix": "rm(",
     "library": "var_list.r",
     "varRefreshCmd": "cat(var_dic_list()) "
    }
   },
   "types_to_exclude": [
    "module",
    "function",
    "builtin_function_or_method",
    "instance",
    "_Feature"
   ],
   "window_display": false
  }
 },
 "nbformat": 4,
 "nbformat_minor": 4
}
