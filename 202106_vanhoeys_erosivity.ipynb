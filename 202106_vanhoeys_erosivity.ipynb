{
 "cells": [
  {
   "cell_type": "code",
   "execution_count": 1,
   "id": "d8e988d3",
   "metadata": {},
   "outputs": [],
   "source": [
    "import pandas as pd\n",
    "import numpy as np\n",
    "import matplotlib.pyplot as plt"
   ]
  },
  {
   "cell_type": "code",
   "execution_count": 2,
   "id": "1ad62842",
   "metadata": {},
   "outputs": [],
   "source": [
    "from pathlib import Path\n",
    "from rfactor.process import ErosivityData"
   ]
  },
  {
   "cell_type": "code",
   "execution_count": 3,
   "id": "ee690c6e",
   "metadata": {},
   "outputs": [],
   "source": [
    "fmap_rainfall = Path(r\"./tests/data/test_rainfalldata\")\n",
    "fmap_erosivity = Path(r\"./tests/data/test_erosivitydata/\") # Folder path where results are written to (see above)."
   ]
  },
  {
   "cell_type": "raw",
   "id": "711b430d",
   "metadata": {},
   "source": [
    "erosivitydata = ErosivityData(fmap_rainfall, fmap_erosivity)\n",
    "df_files = erosivitydata.build_data_set()\n",
    "erosivitydata.load_data(df_files)"
   ]
  },
  {
   "cell_type": "raw",
   "id": "5dbfafda",
   "metadata": {},
   "source": [
    "all_rainfall = erosivitydata.load_rainfall()\n",
    "(all_rainfall[[\"value\", \"station\"]]\n",
    " .reset_index()\n",
    " .rename(columns={\"index\":\"datetime\", \"value\": \"rain_mm\"})\n",
    " .to_csv(\"./tests/data/demo_rainfall.csv\", index=False))"
   ]
  },
  {
   "cell_type": "markdown",
   "id": "50699a3a",
   "metadata": {},
   "source": [
    "# Erosivity calculation"
   ]
  },
  {
   "cell_type": "markdown",
   "id": "b9c646e9",
   "metadata": {},
   "source": [
    "Input is a rainfall time series:"
   ]
  },
  {
   "cell_type": "code",
   "execution_count": 4,
   "id": "d2fa60e9",
   "metadata": {},
   "outputs": [],
   "source": [
    "all_rainfall = pd.read_csv(\"./tests/data/demo_rainfall.csv\", parse_dates=[0])"
   ]
  },
  {
   "cell_type": "code",
   "execution_count": 5,
   "id": "b65b652f",
   "metadata": {},
   "outputs": [
    {
     "data": {
      "text/html": [
       "<div>\n",
       "<style scoped>\n",
       "    .dataframe tbody tr th:only-of-type {\n",
       "        vertical-align: middle;\n",
       "    }\n",
       "\n",
       "    .dataframe tbody tr th {\n",
       "        vertical-align: top;\n",
       "    }\n",
       "\n",
       "    .dataframe thead th {\n",
       "        text-align: right;\n",
       "    }\n",
       "</style>\n",
       "<table border=\"1\" class=\"dataframe\">\n",
       "  <thead>\n",
       "    <tr style=\"text-align: right;\">\n",
       "      <th></th>\n",
       "      <th>datetime</th>\n",
       "      <th>rain_mm</th>\n",
       "      <th>station</th>\n",
       "    </tr>\n",
       "  </thead>\n",
       "  <tbody>\n",
       "    <tr>\n",
       "      <th>0</th>\n",
       "      <td>2018-01-01 02:10:00</td>\n",
       "      <td>0.27</td>\n",
       "      <td>P01_001</td>\n",
       "    </tr>\n",
       "    <tr>\n",
       "      <th>1</th>\n",
       "      <td>2018-01-01 02:20:00</td>\n",
       "      <td>0.02</td>\n",
       "      <td>P01_001</td>\n",
       "    </tr>\n",
       "    <tr>\n",
       "      <th>2</th>\n",
       "      <td>2018-01-01 03:10:00</td>\n",
       "      <td>0.48</td>\n",
       "      <td>P01_001</td>\n",
       "    </tr>\n",
       "    <tr>\n",
       "      <th>3</th>\n",
       "      <td>2018-01-01 07:40:00</td>\n",
       "      <td>0.22</td>\n",
       "      <td>P01_001</td>\n",
       "    </tr>\n",
       "    <tr>\n",
       "      <th>4</th>\n",
       "      <td>2018-01-01 07:50:00</td>\n",
       "      <td>0.09</td>\n",
       "      <td>P01_001</td>\n",
       "    </tr>\n",
       "  </tbody>\n",
       "</table>\n",
       "</div>"
      ],
      "text/plain": [
       "             datetime  rain_mm  station\n",
       "0 2018-01-01 02:10:00     0.27  P01_001\n",
       "1 2018-01-01 02:20:00     0.02  P01_001\n",
       "2 2018-01-01 03:10:00     0.48  P01_001\n",
       "3 2018-01-01 07:40:00     0.22  P01_001\n",
       "4 2018-01-01 07:50:00     0.09  P01_001"
      ]
     },
     "execution_count": 5,
     "metadata": {},
     "output_type": "execute_result"
    }
   ],
   "source": [
    "all_rainfall.head()"
   ]
  },
  {
   "cell_type": "markdown",
   "id": "5164837d",
   "metadata": {},
   "source": [
    "Algorithm works on year/station basis, so let's pick a year and a station for further development:"
   ]
  },
  {
   "cell_type": "code",
   "execution_count": 6,
   "id": "d04fe735",
   "metadata": {},
   "outputs": [],
   "source": [
    "P01_001_2018 = all_rainfall[(all_rainfall[\"station\"] == \"P01_001\") & \n",
    "                            (all_rainfall[\"datetime\"].dt.year == 2018)].copy()"
   ]
  },
  {
   "cell_type": "code",
   "execution_count": 7,
   "id": "c6f091a8",
   "metadata": {},
   "outputs": [
    {
     "data": {
      "text/plain": [
       "<AxesSubplot:xlabel='datetime'>"
      ]
     },
     "execution_count": 7,
     "metadata": {},
     "output_type": "execute_result"
    },
    {
     "data": {
      "image/png": "[encoded data removed]",
      "text/plain": [
       "<Figure size 1296x288 with 1 Axes>"
      ]
     },
     "metadata": {
      "needs_background": "light"
     },
     "output_type": "display_data"
    }
   ],
   "source": [
    "P01_001_2018.set_index(\"datetime\")[\"rain_mm\"].plot(figsize=(18, 4))"
   ]
  },
  {
   "cell_type": "code",
   "execution_count": 8,
   "id": "b434371f",
   "metadata": {},
   "outputs": [
    {
     "data": {
      "text/html": [
       "<div>\n",
       "<style scoped>\n",
       "    .dataframe tbody tr th:only-of-type {\n",
       "        vertical-align: middle;\n",
       "    }\n",
       "\n",
       "    .dataframe tbody tr th {\n",
       "        vertical-align: top;\n",
       "    }\n",
       "\n",
       "    .dataframe thead th {\n",
       "        text-align: right;\n",
       "    }\n",
       "</style>\n",
       "<table border=\"1\" class=\"dataframe\">\n",
       "  <thead>\n",
       "    <tr style=\"text-align: right;\">\n",
       "      <th></th>\n",
       "      <th>datetime</th>\n",
       "      <th>rain_mm</th>\n",
       "      <th>station</th>\n",
       "    </tr>\n",
       "  </thead>\n",
       "  <tbody>\n",
       "    <tr>\n",
       "      <th>0</th>\n",
       "      <td>2018-01-01 02:10:00</td>\n",
       "      <td>0.27</td>\n",
       "      <td>P01_001</td>\n",
       "    </tr>\n",
       "    <tr>\n",
       "      <th>1</th>\n",
       "      <td>2018-01-01 02:20:00</td>\n",
       "      <td>0.02</td>\n",
       "      <td>P01_001</td>\n",
       "    </tr>\n",
       "    <tr>\n",
       "      <th>2</th>\n",
       "      <td>2018-01-01 03:10:00</td>\n",
       "      <td>0.48</td>\n",
       "      <td>P01_001</td>\n",
       "    </tr>\n",
       "    <tr>\n",
       "      <th>3</th>\n",
       "      <td>2018-01-01 07:40:00</td>\n",
       "      <td>0.22</td>\n",
       "      <td>P01_001</td>\n",
       "    </tr>\n",
       "    <tr>\n",
       "      <th>4</th>\n",
       "      <td>2018-01-01 07:50:00</td>\n",
       "      <td>0.09</td>\n",
       "      <td>P01_001</td>\n",
       "    </tr>\n",
       "  </tbody>\n",
       "</table>\n",
       "</div>"
      ],
      "text/plain": [
       "             datetime  rain_mm  station\n",
       "0 2018-01-01 02:10:00     0.27  P01_001\n",
       "1 2018-01-01 02:20:00     0.02  P01_001\n",
       "2 2018-01-01 03:10:00     0.48  P01_001\n",
       "3 2018-01-01 07:40:00     0.22  P01_001\n",
       "4 2018-01-01 07:50:00     0.09  P01_001"
      ]
     },
     "execution_count": 8,
     "metadata": {},
     "output_type": "execute_result"
    }
   ],
   "source": [
    "P01_001_2018.head()"
   ]
  },
  {
   "cell_type": "code",
   "execution_count": 9,
   "id": "61b43f0f",
   "metadata": {},
   "outputs": [],
   "source": [
    "# From datetime to minutes difference since start of the year\n",
    "start_shift = (P01_001_2018.loc[0, \"datetime\"] - pd.Timestamp(\"2018-01-01\")).total_seconds() /60.\n",
    "P01_001_2018[\"min_since_start_year\"] = P01_001_2018[\"datetime\"].diff().dt.total_seconds().cumsum() /60. + start_shift\n",
    "P01_001_2018.loc[0, \"min_since_start_year\"] = start_shift"
   ]
  },
  {
   "cell_type": "code",
   "execution_count": 10,
   "id": "b29b026d",
   "metadata": {},
   "outputs": [
    {
     "data": {
      "text/html": [
       "<div>\n",
       "<style scoped>\n",
       "    .dataframe tbody tr th:only-of-type {\n",
       "        vertical-align: middle;\n",
       "    }\n",
       "\n",
       "    .dataframe tbody tr th {\n",
       "        vertical-align: top;\n",
       "    }\n",
       "\n",
       "    .dataframe thead th {\n",
       "        text-align: right;\n",
       "    }\n",
       "</style>\n",
       "<table border=\"1\" class=\"dataframe\">\n",
       "  <thead>\n",
       "    <tr style=\"text-align: right;\">\n",
       "      <th></th>\n",
       "      <th>datetime</th>\n",
       "      <th>rain_mm</th>\n",
       "      <th>station</th>\n",
       "      <th>min_since_start_year</th>\n",
       "    </tr>\n",
       "  </thead>\n",
       "  <tbody>\n",
       "    <tr>\n",
       "      <th>0</th>\n",
       "      <td>2018-01-01 02:10:00</td>\n",
       "      <td>0.27</td>\n",
       "      <td>P01_001</td>\n",
       "      <td>130.0</td>\n",
       "    </tr>\n",
       "    <tr>\n",
       "      <th>1</th>\n",
       "      <td>2018-01-01 02:20:00</td>\n",
       "      <td>0.02</td>\n",
       "      <td>P01_001</td>\n",
       "      <td>140.0</td>\n",
       "    </tr>\n",
       "    <tr>\n",
       "      <th>2</th>\n",
       "      <td>2018-01-01 03:10:00</td>\n",
       "      <td>0.48</td>\n",
       "      <td>P01_001</td>\n",
       "      <td>190.0</td>\n",
       "    </tr>\n",
       "    <tr>\n",
       "      <th>3</th>\n",
       "      <td>2018-01-01 07:40:00</td>\n",
       "      <td>0.22</td>\n",
       "      <td>P01_001</td>\n",
       "      <td>460.0</td>\n",
       "    </tr>\n",
       "    <tr>\n",
       "      <th>4</th>\n",
       "      <td>2018-01-01 07:50:00</td>\n",
       "      <td>0.09</td>\n",
       "      <td>P01_001</td>\n",
       "      <td>470.0</td>\n",
       "    </tr>\n",
       "  </tbody>\n",
       "</table>\n",
       "</div>"
      ],
      "text/plain": [
       "             datetime  rain_mm  station  min_since_start_year\n",
       "0 2018-01-01 02:10:00     0.27  P01_001                 130.0\n",
       "1 2018-01-01 02:20:00     0.02  P01_001                 140.0\n",
       "2 2018-01-01 03:10:00     0.48  P01_001                 190.0\n",
       "3 2018-01-01 07:40:00     0.22  P01_001                 460.0\n",
       "4 2018-01-01 07:50:00     0.09  P01_001                 470.0"
      ]
     },
     "execution_count": 10,
     "metadata": {},
     "output_type": "execute_result"
    }
   ],
   "source": [
    "P01_001_2018.head()"
   ]
  },
  {
   "cell_type": "markdown",
   "id": "9ca63ba2",
   "metadata": {},
   "source": [
    "## The erosivity implementation"
   ]
  },
  {
   "cell_type": "markdown",
   "id": "91e47d2a",
   "metadata": {},
   "source": [
    "### 1. Define starting point the individual rain events"
   ]
  },
  {
   "cell_type": "code",
   "execution_count": 12,
   "id": "6a59c3ef",
   "metadata": {},
   "outputs": [],
   "source": [
    "event_split = \"6 hours\""
   ]
  },
  {
   "cell_type": "code",
   "execution_count": 13,
   "id": "3bd8ab31",
   "metadata": {},
   "outputs": [],
   "source": [
    "P01_001_2018[\"event_start\"] = False\n",
    "P01_001_2018.loc[P01_001_2018[\"datetime\"].diff() >= event_split, \"event_start\"] = True  # var c in matlab\n",
    "P01_001_2018.loc[0, \"event_start\"] = True"
   ]
  },
  {
   "cell_type": "code",
   "execution_count": 14,
   "id": "b393ec43",
   "metadata": {},
   "outputs": [
    {
     "data": {
      "text/plain": [
       "135.0"
      ]
     },
     "execution_count": 14,
     "metadata": {},
     "output_type": "execute_result"
    }
   ],
   "source": [
    "max_idx_distance = pd.Series(P01_001_2018[P01_001_2018[\"event_start\"] == True].index).diff().max() #var max in matlab\n",
    "max_idx_distance"
   ]
  },
  {
   "cell_type": "markdown",
   "id": "a918e2d4",
   "metadata": {},
   "source": [
    "__?? `max` is the maximum distance in terms of index difference -> also in terms of time the longest event?__\n",
    "\n",
    "-> use is to define the size of the matrix in the next step to make sure the longest event fits"
   ]
  },
  {
   "cell_type": "markdown",
   "id": "5561cb89",
   "metadata": {},
   "source": [
    "### 2. Isolate the individual rain events -> I add an event idx"
   ]
  },
  {
   "cell_type": "code",
   "execution_count": 15,
   "id": "892a36c8",
   "metadata": {},
   "outputs": [],
   "source": [
    "P01_001_2018[\"event_idx\"] = P01_001_2018[\"event_start\"].cumsum()"
   ]
  },
  {
   "cell_type": "code",
   "execution_count": 16,
   "id": "7b78ec41",
   "metadata": {},
   "outputs": [
    {
     "data": {
      "text/html": [
       "<div>\n",
       "<style scoped>\n",
       "    .dataframe tbody tr th:only-of-type {\n",
       "        vertical-align: middle;\n",
       "    }\n",
       "\n",
       "    .dataframe tbody tr th {\n",
       "        vertical-align: top;\n",
       "    }\n",
       "\n",
       "    .dataframe thead th {\n",
       "        text-align: right;\n",
       "    }\n",
       "</style>\n",
       "<table border=\"1\" class=\"dataframe\">\n",
       "  <thead>\n",
       "    <tr style=\"text-align: right;\">\n",
       "      <th></th>\n",
       "      <th>datetime</th>\n",
       "      <th>rain_mm</th>\n",
       "      <th>station</th>\n",
       "      <th>min_since_start_year</th>\n",
       "      <th>event_start</th>\n",
       "      <th>event_idx</th>\n",
       "    </tr>\n",
       "  </thead>\n",
       "  <tbody>\n",
       "    <tr>\n",
       "      <th>0</th>\n",
       "      <td>2018-01-01 02:10:00</td>\n",
       "      <td>0.27</td>\n",
       "      <td>P01_001</td>\n",
       "      <td>130.0</td>\n",
       "      <td>True</td>\n",
       "      <td>1</td>\n",
       "    </tr>\n",
       "    <tr>\n",
       "      <th>1</th>\n",
       "      <td>2018-01-01 02:20:00</td>\n",
       "      <td>0.02</td>\n",
       "      <td>P01_001</td>\n",
       "      <td>140.0</td>\n",
       "      <td>False</td>\n",
       "      <td>1</td>\n",
       "    </tr>\n",
       "    <tr>\n",
       "      <th>2</th>\n",
       "      <td>2018-01-01 03:10:00</td>\n",
       "      <td>0.48</td>\n",
       "      <td>P01_001</td>\n",
       "      <td>190.0</td>\n",
       "      <td>False</td>\n",
       "      <td>1</td>\n",
       "    </tr>\n",
       "    <tr>\n",
       "      <th>3</th>\n",
       "      <td>2018-01-01 07:40:00</td>\n",
       "      <td>0.22</td>\n",
       "      <td>P01_001</td>\n",
       "      <td>460.0</td>\n",
       "      <td>False</td>\n",
       "      <td>1</td>\n",
       "    </tr>\n",
       "    <tr>\n",
       "      <th>4</th>\n",
       "      <td>2018-01-01 07:50:00</td>\n",
       "      <td>0.09</td>\n",
       "      <td>P01_001</td>\n",
       "      <td>470.0</td>\n",
       "      <td>False</td>\n",
       "      <td>1</td>\n",
       "    </tr>\n",
       "    <tr>\n",
       "      <th>5</th>\n",
       "      <td>2018-01-01 14:30:00</td>\n",
       "      <td>0.08</td>\n",
       "      <td>P01_001</td>\n",
       "      <td>870.0</td>\n",
       "      <td>True</td>\n",
       "      <td>2</td>\n",
       "    </tr>\n",
       "    <tr>\n",
       "      <th>6</th>\n",
       "      <td>2018-01-01 14:40:00</td>\n",
       "      <td>0.19</td>\n",
       "      <td>P01_001</td>\n",
       "      <td>880.0</td>\n",
       "      <td>False</td>\n",
       "      <td>2</td>\n",
       "    </tr>\n",
       "    <tr>\n",
       "      <th>7</th>\n",
       "      <td>2018-01-01 14:50:00</td>\n",
       "      <td>0.21</td>\n",
       "      <td>P01_001</td>\n",
       "      <td>890.0</td>\n",
       "      <td>False</td>\n",
       "      <td>2</td>\n",
       "    </tr>\n",
       "    <tr>\n",
       "      <th>8</th>\n",
       "      <td>2018-01-01 15:00:00</td>\n",
       "      <td>0.20</td>\n",
       "      <td>P01_001</td>\n",
       "      <td>900.0</td>\n",
       "      <td>False</td>\n",
       "      <td>2</td>\n",
       "    </tr>\n",
       "    <tr>\n",
       "      <th>9</th>\n",
       "      <td>2018-01-01 15:10:00</td>\n",
       "      <td>0.15</td>\n",
       "      <td>P01_001</td>\n",
       "      <td>910.0</td>\n",
       "      <td>False</td>\n",
       "      <td>2</td>\n",
       "    </tr>\n",
       "  </tbody>\n",
       "</table>\n",
       "</div>"
      ],
      "text/plain": [
       "             datetime  rain_mm  station  min_since_start_year  event_start  \\\n",
       "0 2018-01-01 02:10:00     0.27  P01_001                 130.0         True   \n",
       "1 2018-01-01 02:20:00     0.02  P01_001                 140.0        False   \n",
       "2 2018-01-01 03:10:00     0.48  P01_001                 190.0        False   \n",
       "3 2018-01-01 07:40:00     0.22  P01_001                 460.0        False   \n",
       "4 2018-01-01 07:50:00     0.09  P01_001                 470.0        False   \n",
       "5 2018-01-01 14:30:00     0.08  P01_001                 870.0         True   \n",
       "6 2018-01-01 14:40:00     0.19  P01_001                 880.0        False   \n",
       "7 2018-01-01 14:50:00     0.21  P01_001                 890.0        False   \n",
       "8 2018-01-01 15:00:00     0.20  P01_001                 900.0        False   \n",
       "9 2018-01-01 15:10:00     0.15  P01_001                 910.0        False   \n",
       "\n",
       "   event_idx  \n",
       "0          1  \n",
       "1          1  \n",
       "2          1  \n",
       "3          1  \n",
       "4          1  \n",
       "5          2  \n",
       "6          2  \n",
       "7          2  \n",
       "8          2  \n",
       "9          2  "
      ]
     },
     "execution_count": 16,
     "metadata": {},
     "output_type": "execute_result"
    }
   ],
   "source": [
    "P01_001_2018.head(10)"
   ]
  },
  {
   "cell_type": "markdown",
   "id": "7bfad8e9",
   "metadata": {},
   "source": [
    "__What about lines 72-86 in matlab? add time steps with zero-rain values?__\n",
    "\n",
    "-> probably not required if everything fits in groupby approach?"
   ]
  },
  {
   "cell_type": "markdown",
   "id": "bffd91bd",
   "metadata": {},
   "source": [
    "### 3a. Cumulative rain for each event"
   ]
  },
  {
   "cell_type": "code",
   "execution_count": 17,
   "id": "15b5b077",
   "metadata": {},
   "outputs": [],
   "source": [
    "P01_001_2018[\"event_rain_cum\"] = P01_001_2018.groupby(\"event_idx\")[\"rain_mm\"].cumsum()"
   ]
  },
  {
   "cell_type": "code",
   "execution_count": 18,
   "id": "c547953a",
   "metadata": {},
   "outputs": [
    {
     "data": {
      "text/html": [
       "<div>\n",
       "<style scoped>\n",
       "    .dataframe tbody tr th:only-of-type {\n",
       "        vertical-align: middle;\n",
       "    }\n",
       "\n",
       "    .dataframe tbody tr th {\n",
       "        vertical-align: top;\n",
       "    }\n",
       "\n",
       "    .dataframe thead th {\n",
       "        text-align: right;\n",
       "    }\n",
       "</style>\n",
       "<table border=\"1\" class=\"dataframe\">\n",
       "  <thead>\n",
       "    <tr style=\"text-align: right;\">\n",
       "      <th></th>\n",
       "      <th>datetime</th>\n",
       "      <th>rain_mm</th>\n",
       "      <th>station</th>\n",
       "      <th>min_since_start_year</th>\n",
       "      <th>event_start</th>\n",
       "      <th>event_idx</th>\n",
       "      <th>event_rain_cum</th>\n",
       "    </tr>\n",
       "  </thead>\n",
       "  <tbody>\n",
       "    <tr>\n",
       "      <th>0</th>\n",
       "      <td>2018-01-01 02:10:00</td>\n",
       "      <td>0.27</td>\n",
       "      <td>P01_001</td>\n",
       "      <td>130.0</td>\n",
       "      <td>True</td>\n",
       "      <td>1</td>\n",
       "      <td>0.27</td>\n",
       "    </tr>\n",
       "    <tr>\n",
       "      <th>1</th>\n",
       "      <td>2018-01-01 02:20:00</td>\n",
       "      <td>0.02</td>\n",
       "      <td>P01_001</td>\n",
       "      <td>140.0</td>\n",
       "      <td>False</td>\n",
       "      <td>1</td>\n",
       "      <td>0.29</td>\n",
       "    </tr>\n",
       "    <tr>\n",
       "      <th>2</th>\n",
       "      <td>2018-01-01 03:10:00</td>\n",
       "      <td>0.48</td>\n",
       "      <td>P01_001</td>\n",
       "      <td>190.0</td>\n",
       "      <td>False</td>\n",
       "      <td>1</td>\n",
       "      <td>0.77</td>\n",
       "    </tr>\n",
       "    <tr>\n",
       "      <th>3</th>\n",
       "      <td>2018-01-01 07:40:00</td>\n",
       "      <td>0.22</td>\n",
       "      <td>P01_001</td>\n",
       "      <td>460.0</td>\n",
       "      <td>False</td>\n",
       "      <td>1</td>\n",
       "      <td>0.99</td>\n",
       "    </tr>\n",
       "    <tr>\n",
       "      <th>4</th>\n",
       "      <td>2018-01-01 07:50:00</td>\n",
       "      <td>0.09</td>\n",
       "      <td>P01_001</td>\n",
       "      <td>470.0</td>\n",
       "      <td>False</td>\n",
       "      <td>1</td>\n",
       "      <td>1.08</td>\n",
       "    </tr>\n",
       "  </tbody>\n",
       "</table>\n",
       "</div>"
      ],
      "text/plain": [
       "             datetime  rain_mm  station  min_since_start_year  event_start  \\\n",
       "0 2018-01-01 02:10:00     0.27  P01_001                 130.0         True   \n",
       "1 2018-01-01 02:20:00     0.02  P01_001                 140.0        False   \n",
       "2 2018-01-01 03:10:00     0.48  P01_001                 190.0        False   \n",
       "3 2018-01-01 07:40:00     0.22  P01_001                 460.0        False   \n",
       "4 2018-01-01 07:50:00     0.09  P01_001                 470.0        False   \n",
       "\n",
       "   event_idx  event_rain_cum  \n",
       "0          1            0.27  \n",
       "1          1            0.29  \n",
       "2          1            0.77  \n",
       "3          1            0.99  \n",
       "4          1            1.08  "
      ]
     },
     "execution_count": 18,
     "metadata": {},
     "output_type": "execute_result"
    }
   ],
   "source": [
    "P01_001_2018.head()"
   ]
  },
  {
   "cell_type": "markdown",
   "id": "07257fed",
   "metadata": {},
   "source": [
    "### 3b. Rain energy"
   ]
  },
  {
   "cell_type": "markdown",
   "id": "0ea18366",
   "metadata": {},
   "source": [
    "Example with a single event"
   ]
  },
  {
   "cell_type": "code",
   "execution_count": 19,
   "id": "48ca89b1",
   "metadata": {},
   "outputs": [],
   "source": [
    "temp = P01_001_2018[P01_001_2018[\"event_idx\"] == 1].copy()"
   ]
  },
  {
   "cell_type": "code",
   "execution_count": 20,
   "id": "ca54def6",
   "metadata": {},
   "outputs": [],
   "source": [
    "temp[\"rain_energy\"] = 0.1112*((temp[\"rain_mm\"]*6.)**0.31)*temp[\"rain_mm\"]"
   ]
  },
  {
   "cell_type": "markdown",
   "id": "9cd0defe",
   "metadata": {},
   "source": [
    "__line 105, should it be j or 1?__\n",
    "\n",
    "```\n",
    "% j is currently 135 and NOT 1\n",
    "pluviophase(5,j,i)=0.1112*(pluviophase(4,j,i)^0.31);  % berekenen van neerslagenergie per mm\n",
    "```"
   ]
  },
  {
   "cell_type": "code",
   "execution_count": 21,
   "id": "36876074",
   "metadata": {},
   "outputs": [
    {
     "data": {
      "text/plain": [
       "0.1450401392190872"
      ]
     },
     "execution_count": 21,
     "metadata": {},
     "output_type": "execute_result"
    }
   ],
   "source": [
    "temp[\"rain_energy\"].sum() # to make comparible with matlab add `- 0.034867`"
   ]
  },
  {
   "cell_type": "code",
   "execution_count": 22,
   "id": "162020a1",
   "metadata": {},
   "outputs": [
    {
     "data": {
      "text/html": [
       "<div>\n",
       "<style scoped>\n",
       "    .dataframe tbody tr th:only-of-type {\n",
       "        vertical-align: middle;\n",
       "    }\n",
       "\n",
       "    .dataframe tbody tr th {\n",
       "        vertical-align: top;\n",
       "    }\n",
       "\n",
       "    .dataframe thead th {\n",
       "        text-align: right;\n",
       "    }\n",
       "</style>\n",
       "<table border=\"1\" class=\"dataframe\">\n",
       "  <thead>\n",
       "    <tr style=\"text-align: right;\">\n",
       "      <th></th>\n",
       "      <th>datetime</th>\n",
       "      <th>rain_mm</th>\n",
       "      <th>station</th>\n",
       "      <th>min_since_start_year</th>\n",
       "      <th>event_start</th>\n",
       "      <th>event_idx</th>\n",
       "      <th>event_rain_cum</th>\n",
       "      <th>rain_energy</th>\n",
       "    </tr>\n",
       "  </thead>\n",
       "  <tbody>\n",
       "    <tr>\n",
       "      <th>0</th>\n",
       "      <td>2018-01-01 02:10:00</td>\n",
       "      <td>0.27</td>\n",
       "      <td>P01_001</td>\n",
       "      <td>130.0</td>\n",
       "      <td>True</td>\n",
       "      <td>1</td>\n",
       "      <td>0.27</td>\n",
       "      <td>0.034867</td>\n",
       "    </tr>\n",
       "    <tr>\n",
       "      <th>1</th>\n",
       "      <td>2018-01-01 02:20:00</td>\n",
       "      <td>0.02</td>\n",
       "      <td>P01_001</td>\n",
       "      <td>140.0</td>\n",
       "      <td>False</td>\n",
       "      <td>1</td>\n",
       "      <td>0.29</td>\n",
       "      <td>0.001153</td>\n",
       "    </tr>\n",
       "    <tr>\n",
       "      <th>2</th>\n",
       "      <td>2018-01-01 03:10:00</td>\n",
       "      <td>0.48</td>\n",
       "      <td>P01_001</td>\n",
       "      <td>190.0</td>\n",
       "      <td>False</td>\n",
       "      <td>1</td>\n",
       "      <td>0.77</td>\n",
       "      <td>0.074090</td>\n",
       "    </tr>\n",
       "    <tr>\n",
       "      <th>3</th>\n",
       "      <td>2018-01-01 07:40:00</td>\n",
       "      <td>0.22</td>\n",
       "      <td>P01_001</td>\n",
       "      <td>460.0</td>\n",
       "      <td>False</td>\n",
       "      <td>1</td>\n",
       "      <td>0.99</td>\n",
       "      <td>0.026663</td>\n",
       "    </tr>\n",
       "    <tr>\n",
       "      <th>4</th>\n",
       "      <td>2018-01-01 07:50:00</td>\n",
       "      <td>0.09</td>\n",
       "      <td>P01_001</td>\n",
       "      <td>470.0</td>\n",
       "      <td>False</td>\n",
       "      <td>1</td>\n",
       "      <td>1.08</td>\n",
       "      <td>0.008268</td>\n",
       "    </tr>\n",
       "  </tbody>\n",
       "</table>\n",
       "</div>"
      ],
      "text/plain": [
       "             datetime  rain_mm  station  min_since_start_year  event_start  \\\n",
       "0 2018-01-01 02:10:00     0.27  P01_001                 130.0         True   \n",
       "1 2018-01-01 02:20:00     0.02  P01_001                 140.0        False   \n",
       "2 2018-01-01 03:10:00     0.48  P01_001                 190.0        False   \n",
       "3 2018-01-01 07:40:00     0.22  P01_001                 460.0        False   \n",
       "4 2018-01-01 07:50:00     0.09  P01_001                 470.0        False   \n",
       "\n",
       "   event_idx  event_rain_cum  rain_energy  \n",
       "0          1            0.27     0.034867  \n",
       "1          1            0.29     0.001153  \n",
       "2          1            0.77     0.074090  \n",
       "3          1            0.99     0.026663  \n",
       "4          1            1.08     0.008268  "
      ]
     },
     "execution_count": 22,
     "metadata": {},
     "output_type": "execute_result"
    }
   ],
   "source": [
    "temp.head()"
   ]
  },
  {
   "cell_type": "code",
   "execution_count": 23,
   "id": "4dfa9681",
   "metadata": {},
   "outputs": [],
   "source": [
    "def rain_energy_per_unit(rain):\n",
    "    \"\"\"\"\"\"\n",
    "    rain_energy = 0.1112*((rain*6.)**0.31)*rain\n",
    "    return rain_energy.sum()"
   ]
  },
  {
   "cell_type": "code",
   "execution_count": 24,
   "id": "af8532d5",
   "metadata": {},
   "outputs": [
    {
     "data": {
      "text/plain": [
       "0.1450401392190872"
      ]
     },
     "execution_count": 24,
     "metadata": {},
     "output_type": "execute_result"
    }
   ],
   "source": [
    "rain_energy_per_unit(temp[\"rain_mm\"])"
   ]
  },
  {
   "cell_type": "markdown",
   "id": "20d05a3d",
   "metadata": {},
   "source": [
    "Apply the calculation to the entire set of defined rain events:"
   ]
  },
  {
   "cell_type": "code",
   "execution_count": 25,
   "id": "e2c22452",
   "metadata": {},
   "outputs": [],
   "source": [
    "P01_001_2018[\"event_energy\"] = P01_001_2018.groupby(\"event_idx\")[\"rain_mm\"].transform(rain_energy_per_unit)"
   ]
  },
  {
   "cell_type": "code",
   "execution_count": 26,
   "id": "7ebaa5e5",
   "metadata": {},
   "outputs": [
    {
     "data": {
      "text/html": [
       "<div>\n",
       "<style scoped>\n",
       "    .dataframe tbody tr th:only-of-type {\n",
       "        vertical-align: middle;\n",
       "    }\n",
       "\n",
       "    .dataframe tbody tr th {\n",
       "        vertical-align: top;\n",
       "    }\n",
       "\n",
       "    .dataframe thead th {\n",
       "        text-align: right;\n",
       "    }\n",
       "</style>\n",
       "<table border=\"1\" class=\"dataframe\">\n",
       "  <thead>\n",
       "    <tr style=\"text-align: right;\">\n",
       "      <th></th>\n",
       "      <th>datetime</th>\n",
       "      <th>rain_mm</th>\n",
       "      <th>station</th>\n",
       "      <th>min_since_start_year</th>\n",
       "      <th>event_start</th>\n",
       "      <th>event_idx</th>\n",
       "      <th>event_rain_cum</th>\n",
       "      <th>event_energy</th>\n",
       "    </tr>\n",
       "  </thead>\n",
       "  <tbody>\n",
       "    <tr>\n",
       "      <th>0</th>\n",
       "      <td>2018-01-01 02:10:00</td>\n",
       "      <td>0.27</td>\n",
       "      <td>P01_001</td>\n",
       "      <td>130.0</td>\n",
       "      <td>True</td>\n",
       "      <td>1</td>\n",
       "      <td>0.27</td>\n",
       "      <td>0.14504</td>\n",
       "    </tr>\n",
       "    <tr>\n",
       "      <th>1</th>\n",
       "      <td>2018-01-01 02:20:00</td>\n",
       "      <td>0.02</td>\n",
       "      <td>P01_001</td>\n",
       "      <td>140.0</td>\n",
       "      <td>False</td>\n",
       "      <td>1</td>\n",
       "      <td>0.29</td>\n",
       "      <td>0.14504</td>\n",
       "    </tr>\n",
       "    <tr>\n",
       "      <th>2</th>\n",
       "      <td>2018-01-01 03:10:00</td>\n",
       "      <td>0.48</td>\n",
       "      <td>P01_001</td>\n",
       "      <td>190.0</td>\n",
       "      <td>False</td>\n",
       "      <td>1</td>\n",
       "      <td>0.77</td>\n",
       "      <td>0.14504</td>\n",
       "    </tr>\n",
       "    <tr>\n",
       "      <th>3</th>\n",
       "      <td>2018-01-01 07:40:00</td>\n",
       "      <td>0.22</td>\n",
       "      <td>P01_001</td>\n",
       "      <td>460.0</td>\n",
       "      <td>False</td>\n",
       "      <td>1</td>\n",
       "      <td>0.99</td>\n",
       "      <td>0.14504</td>\n",
       "    </tr>\n",
       "    <tr>\n",
       "      <th>4</th>\n",
       "      <td>2018-01-01 07:50:00</td>\n",
       "      <td>0.09</td>\n",
       "      <td>P01_001</td>\n",
       "      <td>470.0</td>\n",
       "      <td>False</td>\n",
       "      <td>1</td>\n",
       "      <td>1.08</td>\n",
       "      <td>0.14504</td>\n",
       "    </tr>\n",
       "  </tbody>\n",
       "</table>\n",
       "</div>"
      ],
      "text/plain": [
       "             datetime  rain_mm  station  min_since_start_year  event_start  \\\n",
       "0 2018-01-01 02:10:00     0.27  P01_001                 130.0         True   \n",
       "1 2018-01-01 02:20:00     0.02  P01_001                 140.0        False   \n",
       "2 2018-01-01 03:10:00     0.48  P01_001                 190.0        False   \n",
       "3 2018-01-01 07:40:00     0.22  P01_001                 460.0        False   \n",
       "4 2018-01-01 07:50:00     0.09  P01_001                 470.0        False   \n",
       "\n",
       "   event_idx  event_rain_cum  event_energy  \n",
       "0          1            0.27       0.14504  \n",
       "1          1            0.29       0.14504  \n",
       "2          1            0.77       0.14504  \n",
       "3          1            0.99       0.14504  \n",
       "4          1            1.08       0.14504  "
      ]
     },
     "execution_count": 26,
     "metadata": {},
     "output_type": "execute_result"
    }
   ],
   "source": [
    "P01_001_2018.head()"
   ]
  },
  {
   "cell_type": "markdown",
   "id": "64ed2027",
   "metadata": {},
   "source": [
    "### 4. Maximum intensity within 30 minutes"
   ]
  },
  {
   "cell_type": "markdown",
   "id": "0aaee72e",
   "metadata": {},
   "source": [
    "First work on a subset of the data:"
   ]
  },
  {
   "cell_type": "code",
   "execution_count": 27,
   "id": "cd414eac",
   "metadata": {},
   "outputs": [],
   "source": [
    "temp = P01_001_2018[P01_001_2018[\"event_idx\"] == 1].copy()"
   ]
  },
  {
   "cell_type": "code",
   "execution_count": 28,
   "id": "ca68dba6",
   "metadata": {},
   "outputs": [
    {
     "data": {
      "text/html": [
       "<div>\n",
       "<style scoped>\n",
       "    .dataframe tbody tr th:only-of-type {\n",
       "        vertical-align: middle;\n",
       "    }\n",
       "\n",
       "    .dataframe tbody tr th {\n",
       "        vertical-align: top;\n",
       "    }\n",
       "\n",
       "    .dataframe thead th {\n",
       "        text-align: right;\n",
       "    }\n",
       "</style>\n",
       "<table border=\"1\" class=\"dataframe\">\n",
       "  <thead>\n",
       "    <tr style=\"text-align: right;\">\n",
       "      <th></th>\n",
       "      <th>datetime</th>\n",
       "      <th>rain_mm</th>\n",
       "      <th>station</th>\n",
       "      <th>min_since_start_year</th>\n",
       "      <th>event_start</th>\n",
       "      <th>event_idx</th>\n",
       "      <th>event_rain_cum</th>\n",
       "      <th>event_energy</th>\n",
       "    </tr>\n",
       "  </thead>\n",
       "  <tbody>\n",
       "    <tr>\n",
       "      <th>0</th>\n",
       "      <td>2018-01-01 02:10:00</td>\n",
       "      <td>0.27</td>\n",
       "      <td>P01_001</td>\n",
       "      <td>130.0</td>\n",
       "      <td>True</td>\n",
       "      <td>1</td>\n",
       "      <td>0.27</td>\n",
       "      <td>0.14504</td>\n",
       "    </tr>\n",
       "    <tr>\n",
       "      <th>1</th>\n",
       "      <td>2018-01-01 02:20:00</td>\n",
       "      <td>0.02</td>\n",
       "      <td>P01_001</td>\n",
       "      <td>140.0</td>\n",
       "      <td>False</td>\n",
       "      <td>1</td>\n",
       "      <td>0.29</td>\n",
       "      <td>0.14504</td>\n",
       "    </tr>\n",
       "    <tr>\n",
       "      <th>2</th>\n",
       "      <td>2018-01-01 03:10:00</td>\n",
       "      <td>0.48</td>\n",
       "      <td>P01_001</td>\n",
       "      <td>190.0</td>\n",
       "      <td>False</td>\n",
       "      <td>1</td>\n",
       "      <td>0.77</td>\n",
       "      <td>0.14504</td>\n",
       "    </tr>\n",
       "    <tr>\n",
       "      <th>3</th>\n",
       "      <td>2018-01-01 07:40:00</td>\n",
       "      <td>0.22</td>\n",
       "      <td>P01_001</td>\n",
       "      <td>460.0</td>\n",
       "      <td>False</td>\n",
       "      <td>1</td>\n",
       "      <td>0.99</td>\n",
       "      <td>0.14504</td>\n",
       "    </tr>\n",
       "    <tr>\n",
       "      <th>4</th>\n",
       "      <td>2018-01-01 07:50:00</td>\n",
       "      <td>0.09</td>\n",
       "      <td>P01_001</td>\n",
       "      <td>470.0</td>\n",
       "      <td>False</td>\n",
       "      <td>1</td>\n",
       "      <td>1.08</td>\n",
       "      <td>0.14504</td>\n",
       "    </tr>\n",
       "  </tbody>\n",
       "</table>\n",
       "</div>"
      ],
      "text/plain": [
       "             datetime  rain_mm  station  min_since_start_year  event_start  \\\n",
       "0 2018-01-01 02:10:00     0.27  P01_001                 130.0         True   \n",
       "1 2018-01-01 02:20:00     0.02  P01_001                 140.0        False   \n",
       "2 2018-01-01 03:10:00     0.48  P01_001                 190.0        False   \n",
       "3 2018-01-01 07:40:00     0.22  P01_001                 460.0        False   \n",
       "4 2018-01-01 07:50:00     0.09  P01_001                 470.0        False   \n",
       "\n",
       "   event_idx  event_rain_cum  event_energy  \n",
       "0          1            0.27       0.14504  \n",
       "1          1            0.29       0.14504  \n",
       "2          1            0.77       0.14504  \n",
       "3          1            0.99       0.14504  \n",
       "4          1            1.08       0.14504  "
      ]
     },
     "execution_count": 28,
     "metadata": {},
     "output_type": "execute_result"
    }
   ],
   "source": [
    "temp.head()"
   ]
  },
  {
   "cell_type": "markdown",
   "id": "3e0047dd",
   "metadata": {},
   "source": [
    "__- Are the lines #L134-L144 effectively used in the code? In lines #L149-L150 the variables are overwritten (also warning by matlab itself__\n",
    "\n",
    "__- Why is on line #L159 a factor 2 required?__\n",
    "\n",
    "__- Why is on line #L130 the lenght of the interval only 20minutes? If the concept is 20 + 5 min in each direction of the interval, one would assume 10' input data? Is this a valid assumption as I do not see any input check and other steps are based on checking the diff?__\n",
    "\n",
    "__- lines 132-133 can hace side effects as well and - I think - only works as all series are prolonged during calculation (second dimension); maxprecip30min should not be overwritten as such__"
   ]
  },
  {
   "cell_type": "markdown",
   "id": "5ed89953",
   "metadata": {},
   "source": [
    "A naive implementation reproducing the matlab implementation:"
   ]
  },
  {
   "cell_type": "code",
   "execution_count": 29,
   "id": "f31488bf",
   "metadata": {},
   "outputs": [],
   "source": [
    "def maximum_intensity_matlab_clone(df):\n",
    "    \"\"\"Apply for a single_event method of Matlab implementation (Verstraete)\"\"\"\n",
    "    \n",
    "    df[\"minutes_since\"] = (df[\"datetime\"] - pd.Timestamp(\"2018-01-01\")).dt.total_seconds().values/60\n",
    "\n",
    "    timestamps = df[\"minutes_since\"].values\n",
    "    rain = df[\"rain_mm\"].values\n",
    "    rain_cum = df[\"event_rain_cum\"].values\n",
    "\n",
    "    maxprecip_30min = 0.\n",
    "    max_p30 = 0.\n",
    "\n",
    "    if timestamps[-1] - timestamps[0] <= 30:\n",
    "        maxprecip_30min = rain[0]*2  # *2 to mimick matlab\n",
    "\n",
    "    for idx in range(len(df)-1):\n",
    "\n",
    "        begin_30min = timestamps[idx]\n",
    "        eind_30min = timestamps[idx] + 20\n",
    "        begin_rain = rain_cum[idx] - rain[idx]\n",
    "        if timestamps[idx + 1] > eind_30min: # next timestamp later than 30minutes interval\n",
    "            precip_30min = rain[idx]        \n",
    "\n",
    "        eind_rain = np.interp(eind_30min, timestamps, rain_cum)    \n",
    "        precip_30min = eind_rain - begin_rain;\n",
    "\n",
    "        if precip_30min > maxprecip_30min:\n",
    "            maxprecip_30min = precip_30min\n",
    "\n",
    "    return maxprecip_30min*2"
   ]
  },
  {
   "cell_type": "code",
   "execution_count": 30,
   "id": "f5202fe8",
   "metadata": {},
   "outputs": [],
   "source": [
    "max_intensity_event_matlab_clone = (P01_001_2018.groupby(\"event_idx\")\n",
    " .apply(maximum_intensity_matlab_clone)\n",
    " .rename(\"max_30min_intensity_clone\")\n",
    " .reset_index())"
   ]
  },
  {
   "cell_type": "code",
   "execution_count": 31,
   "id": "e606545c",
   "metadata": {},
   "outputs": [],
   "source": [
    "# Single measurement events\n",
    "# P01_001_2018[P01_001_2018.groupby(\"event_idx\")[\"station\"].transform(len) == 1]"
   ]
  },
  {
   "cell_type": "code",
   "execution_count": 32,
   "id": "44f7cb98",
   "metadata": {},
   "outputs": [],
   "source": [
    "P01_001_2018 = pd.merge(P01_001_2018, max_intensity_event_matlab_clone, how=\"left\")"
   ]
  },
  {
   "cell_type": "markdown",
   "id": "fda9217b",
   "metadata": {},
   "source": [
    "#### intermezzo _? Is it an option to change the algorithm on defining the max intensity ??_  "
   ]
  },
  {
   "cell_type": "markdown",
   "id": "bb02c739",
   "metadata": {},
   "source": [
    "Alternative implementations to extract the max intensity of a 30min interval:"
   ]
  },
  {
   "cell_type": "markdown",
   "id": "ebaf5183",
   "metadata": {},
   "source": [
    "1. Rely on linear interpolation (cfr. matlab implementation) -> assume missing data is not zero\n",
    "\n",
    "- interpolate linearly to interval (in this case 10min) of the data series (max value) \n",
    "- rolling interval of 30 minutes \n",
    "- take maximum of rolling interval sum of the rainfall within that period\n",
    "\n",
    ":-) works for different time series intervals; :-( interpolation error as linear interpolation induces errors (overestimation)"
   ]
  },
  {
   "cell_type": "code",
   "execution_count": 33,
   "id": "078208e8",
   "metadata": {},
   "outputs": [
    {
     "data": {
      "text/plain": [
       "1.411111111111111"
      ]
     },
     "execution_count": 33,
     "metadata": {},
     "output_type": "execute_result"
    }
   ],
   "source": [
    "time_series_resampled = temp.resample(\"10Min\", on=\"datetime\")[\"rain_mm\"].max() # missing 10min are now Nan\n",
    "time_series_resampled_interp = time_series_resampled.interpolate(method='linear')\n",
    "rolling_sum = time_series_resampled_interp.rolling(\"30Min\").sum()\n",
    "rolling_sum.max()"
   ]
  },
  {
   "cell_type": "code",
   "execution_count": 34,
   "id": "2f2e621e",
   "metadata": {},
   "outputs": [],
   "source": [
    "def maximum_intensity_interpolate(df, interval=\"30Min\", input_freq=\"10Min\"):\n",
    "    \"\"\"Apply for a single_event method with linear interpolation\"\"\"\n",
    "    time_series_resampled = df.resample(input_freq, on=\"datetime\")[\"rain_mm\"].max()\n",
    "    time_series_resampled_interp = time_series_resampled.interpolate(method='linear')\n",
    "    rolling_sum = time_series_resampled_interp.rolling(interval).sum()\n",
    "    return rolling_sum.max() * 2   # formula requires mm/hr, intensity is on half an hour"
   ]
  },
  {
   "cell_type": "markdown",
   "id": "ffc10831",
   "metadata": {},
   "source": [
    "2. Resample with the available data directly\n",
    "\n",
    "- using the data available, rolling/resample over 30min interval directly\n",
    "- take the maximum of all intervals\n",
    "\n",
    "(This is equivalent with the previous method, but instead of interpolation, missing intervals are assumed to have no rainfall.)\n",
    "\n",
    ":-) straight forward using available data only; :-( probably an underestimation?"
   ]
  },
  {
   "cell_type": "code",
   "execution_count": 35,
   "id": "09d141f4",
   "metadata": {},
   "outputs": [
    {
     "data": {
      "text/plain": [
       "0.48"
      ]
     },
     "execution_count": 35,
     "metadata": {},
     "output_type": "execute_result"
    }
   ],
   "source": [
    "temp.rolling(\"30Min\", on=\"datetime\")[\"rain_mm\"].sum().max()"
   ]
  },
  {
   "cell_type": "code",
   "execution_count": 36,
   "id": "ba511ce1",
   "metadata": {},
   "outputs": [],
   "source": [
    "def maximum_intensity_fillna(df, interval=\"30Min\", input_freq=\"10Min\"):\n",
    "    \"\"\"Apply for a single_event method with zero values for no value\"\"\"\n",
    "    # formula requires mm/hr, intensity is on half an hour\n",
    "    return df.rolling(\"30Min\", on=\"datetime\")[\"rain_mm\"].sum().max() *2"
   ]
  },
  {
   "cell_type": "markdown",
   "id": "04ec88c0",
   "metadata": {},
   "source": [
    "For ilustration, the result would be the same as doing:\n",
    "\n",
    "```\n",
    "time_series_resampled = temp.resample(\"10Min\", on=\"datetime\")[\"rain_mm\"].max() # missing 10min are now Nan\n",
    "time_series_resampled_interp = time_series_resampled.fillna(value=0)\n",
    "rolling_sum = time_series_resampled_interp.rolling(\"30Min\").sum()\n",
    "rolling_sum.max()\n",
    "```"
   ]
  },
  {
   "cell_type": "markdown",
   "id": "817070bd",
   "metadata": {},
   "source": [
    "Let's compare these methods..."
   ]
  },
  {
   "cell_type": "code",
   "execution_count": 37,
   "id": "8933ed72",
   "metadata": {},
   "outputs": [
    {
     "data": {
      "text/plain": [
       "(0.96, 2.822222222222222)"
      ]
     },
     "execution_count": 37,
     "metadata": {},
     "output_type": "execute_result"
    }
   ],
   "source": [
    "# run on the single event\n",
    "(maximum_intensity_fillna(temp, interval=\"30Min\", input_freq=\"10Min\"), \n",
    " maximum_intensity_interpolate(temp, interval=\"30Min\", input_freq=\"10Min\"))"
   ]
  },
  {
   "cell_type": "markdown",
   "id": "6dd2991d",
   "metadata": {},
   "source": [
    "Apply to the entire set of events:"
   ]
  },
  {
   "cell_type": "code",
   "execution_count": 38,
   "id": "3f72ece5",
   "metadata": {},
   "outputs": [],
   "source": [
    "max_intensity_event_interpolate = (P01_001_2018.groupby(\"event_idx\")[[\"datetime\", \"rain_mm\"]]\n",
    " .apply(maximum_intensity_interpolate)\n",
    " .rename(\"max_30min_intensity_interpolate\")\n",
    " .reset_index())\n",
    "\n",
    "max_intensity_event_fillna = (P01_001_2018.groupby(\"event_idx\")[[\"datetime\", \"rain_mm\"]]\n",
    " .apply(maximum_intensity_fillna)\n",
    " .rename(\"max_30min_intensity_fillna\")\n",
    " .reset_index())"
   ]
  },
  {
   "cell_type": "code",
   "execution_count": 41,
   "id": "b8d2a691",
   "metadata": {},
   "outputs": [
    {
     "data": {
      "text/plain": [
       "(140, 2)"
      ]
     },
     "execution_count": 41,
     "metadata": {},
     "output_type": "execute_result"
    }
   ],
   "source": [
    "max_intensity_event_fillna.shape"
   ]
  },
  {
   "cell_type": "code",
   "execution_count": 42,
   "id": "f52862f6",
   "metadata": {},
   "outputs": [],
   "source": [
    "P01_001_2018 = pd.merge(P01_001_2018, max_intensity_event_interpolate, how=\"left\")\n",
    "P01_001_2018 = pd.merge(P01_001_2018, max_intensity_event_fillna, how=\"left\")"
   ]
  },
  {
   "cell_type": "code",
   "execution_count": 43,
   "id": "a9efed76",
   "metadata": {},
   "outputs": [
    {
     "data": {
      "text/html": [
       "<div>\n",
       "<style scoped>\n",
       "    .dataframe tbody tr th:only-of-type {\n",
       "        vertical-align: middle;\n",
       "    }\n",
       "\n",
       "    .dataframe tbody tr th {\n",
       "        vertical-align: top;\n",
       "    }\n",
       "\n",
       "    .dataframe thead th {\n",
       "        text-align: right;\n",
       "    }\n",
       "</style>\n",
       "<table border=\"1\" class=\"dataframe\">\n",
       "  <thead>\n",
       "    <tr style=\"text-align: right;\">\n",
       "      <th></th>\n",
       "      <th>datetime</th>\n",
       "      <th>rain_mm</th>\n",
       "      <th>station</th>\n",
       "      <th>min_since_start_year</th>\n",
       "      <th>event_start</th>\n",
       "      <th>event_idx</th>\n",
       "      <th>event_rain_cum</th>\n",
       "      <th>event_energy</th>\n",
       "      <th>max_30min_intensity_clone</th>\n",
       "      <th>max_30min_intensity_interpolate</th>\n",
       "      <th>max_30min_intensity_fillna</th>\n",
       "    </tr>\n",
       "  </thead>\n",
       "  <tbody>\n",
       "    <tr>\n",
       "      <th>0</th>\n",
       "      <td>2018-01-01 02:10:00</td>\n",
       "      <td>0.27</td>\n",
       "      <td>P01_001</td>\n",
       "      <td>130.0</td>\n",
       "      <td>True</td>\n",
       "      <td>1</td>\n",
       "      <td>0.27</td>\n",
       "      <td>0.145040</td>\n",
       "      <td>0.992593</td>\n",
       "      <td>2.822222</td>\n",
       "      <td>0.96</td>\n",
       "    </tr>\n",
       "    <tr>\n",
       "      <th>1</th>\n",
       "      <td>2018-01-01 02:20:00</td>\n",
       "      <td>0.02</td>\n",
       "      <td>P01_001</td>\n",
       "      <td>140.0</td>\n",
       "      <td>False</td>\n",
       "      <td>1</td>\n",
       "      <td>0.29</td>\n",
       "      <td>0.145040</td>\n",
       "      <td>0.992593</td>\n",
       "      <td>2.822222</td>\n",
       "      <td>0.96</td>\n",
       "    </tr>\n",
       "    <tr>\n",
       "      <th>2</th>\n",
       "      <td>2018-01-01 03:10:00</td>\n",
       "      <td>0.48</td>\n",
       "      <td>P01_001</td>\n",
       "      <td>190.0</td>\n",
       "      <td>False</td>\n",
       "      <td>1</td>\n",
       "      <td>0.77</td>\n",
       "      <td>0.145040</td>\n",
       "      <td>0.992593</td>\n",
       "      <td>2.822222</td>\n",
       "      <td>0.96</td>\n",
       "    </tr>\n",
       "    <tr>\n",
       "      <th>3</th>\n",
       "      <td>2018-01-01 07:40:00</td>\n",
       "      <td>0.22</td>\n",
       "      <td>P01_001</td>\n",
       "      <td>460.0</td>\n",
       "      <td>False</td>\n",
       "      <td>1</td>\n",
       "      <td>0.99</td>\n",
       "      <td>0.145040</td>\n",
       "      <td>0.992593</td>\n",
       "      <td>2.822222</td>\n",
       "      <td>0.96</td>\n",
       "    </tr>\n",
       "    <tr>\n",
       "      <th>4</th>\n",
       "      <td>2018-01-01 07:50:00</td>\n",
       "      <td>0.09</td>\n",
       "      <td>P01_001</td>\n",
       "      <td>470.0</td>\n",
       "      <td>False</td>\n",
       "      <td>1</td>\n",
       "      <td>1.08</td>\n",
       "      <td>0.145040</td>\n",
       "      <td>0.992593</td>\n",
       "      <td>2.822222</td>\n",
       "      <td>0.96</td>\n",
       "    </tr>\n",
       "    <tr>\n",
       "      <th>5</th>\n",
       "      <td>2018-01-01 14:30:00</td>\n",
       "      <td>0.08</td>\n",
       "      <td>P01_001</td>\n",
       "      <td>870.0</td>\n",
       "      <td>True</td>\n",
       "      <td>2</td>\n",
       "      <td>0.08</td>\n",
       "      <td>1.530117</td>\n",
       "      <td>3.280000</td>\n",
       "      <td>3.530000</td>\n",
       "      <td>3.28</td>\n",
       "    </tr>\n",
       "    <tr>\n",
       "      <th>6</th>\n",
       "      <td>2018-01-01 14:40:00</td>\n",
       "      <td>0.19</td>\n",
       "      <td>P01_001</td>\n",
       "      <td>880.0</td>\n",
       "      <td>False</td>\n",
       "      <td>2</td>\n",
       "      <td>0.27</td>\n",
       "      <td>1.530117</td>\n",
       "      <td>3.280000</td>\n",
       "      <td>3.530000</td>\n",
       "      <td>3.28</td>\n",
       "    </tr>\n",
       "    <tr>\n",
       "      <th>7</th>\n",
       "      <td>2018-01-01 14:50:00</td>\n",
       "      <td>0.21</td>\n",
       "      <td>P01_001</td>\n",
       "      <td>890.0</td>\n",
       "      <td>False</td>\n",
       "      <td>2</td>\n",
       "      <td>0.48</td>\n",
       "      <td>1.530117</td>\n",
       "      <td>3.280000</td>\n",
       "      <td>3.530000</td>\n",
       "      <td>3.28</td>\n",
       "    </tr>\n",
       "    <tr>\n",
       "      <th>8</th>\n",
       "      <td>2018-01-01 15:00:00</td>\n",
       "      <td>0.20</td>\n",
       "      <td>P01_001</td>\n",
       "      <td>900.0</td>\n",
       "      <td>False</td>\n",
       "      <td>2</td>\n",
       "      <td>0.68</td>\n",
       "      <td>1.530117</td>\n",
       "      <td>3.280000</td>\n",
       "      <td>3.530000</td>\n",
       "      <td>3.28</td>\n",
       "    </tr>\n",
       "    <tr>\n",
       "      <th>9</th>\n",
       "      <td>2018-01-01 15:10:00</td>\n",
       "      <td>0.15</td>\n",
       "      <td>P01_001</td>\n",
       "      <td>910.0</td>\n",
       "      <td>False</td>\n",
       "      <td>2</td>\n",
       "      <td>0.83</td>\n",
       "      <td>1.530117</td>\n",
       "      <td>3.280000</td>\n",
       "      <td>3.530000</td>\n",
       "      <td>3.28</td>\n",
       "    </tr>\n",
       "  </tbody>\n",
       "</table>\n",
       "</div>"
      ],
      "text/plain": [
       "             datetime  rain_mm  station  min_since_start_year  event_start  \\\n",
       "0 2018-01-01 02:10:00     0.27  P01_001                 130.0         True   \n",
       "1 2018-01-01 02:20:00     0.02  P01_001                 140.0        False   \n",
       "2 2018-01-01 03:10:00     0.48  P01_001                 190.0        False   \n",
       "3 2018-01-01 07:40:00     0.22  P01_001                 460.0        False   \n",
       "4 2018-01-01 07:50:00     0.09  P01_001                 470.0        False   \n",
       "5 2018-01-01 14:30:00     0.08  P01_001                 870.0         True   \n",
       "6 2018-01-01 14:40:00     0.19  P01_001                 880.0        False   \n",
       "7 2018-01-01 14:50:00     0.21  P01_001                 890.0        False   \n",
       "8 2018-01-01 15:00:00     0.20  P01_001                 900.0        False   \n",
       "9 2018-01-01 15:10:00     0.15  P01_001                 910.0        False   \n",
       "\n",
       "   event_idx  event_rain_cum  event_energy  max_30min_intensity_clone  \\\n",
       "0          1            0.27      0.145040                   0.992593   \n",
       "1          1            0.29      0.145040                   0.992593   \n",
       "2          1            0.77      0.145040                   0.992593   \n",
       "3          1            0.99      0.145040                   0.992593   \n",
       "4          1            1.08      0.145040                   0.992593   \n",
       "5          2            0.08      1.530117                   3.280000   \n",
       "6          2            0.27      1.530117                   3.280000   \n",
       "7          2            0.48      1.530117                   3.280000   \n",
       "8          2            0.68      1.530117                   3.280000   \n",
       "9          2            0.83      1.530117                   3.280000   \n",
       "\n",
       "   max_30min_intensity_interpolate  max_30min_intensity_fillna  \n",
       "0                         2.822222                        0.96  \n",
       "1                         2.822222                        0.96  \n",
       "2                         2.822222                        0.96  \n",
       "3                         2.822222                        0.96  \n",
       "4                         2.822222                        0.96  \n",
       "5                         3.530000                        3.28  \n",
       "6                         3.530000                        3.28  \n",
       "7                         3.530000                        3.28  \n",
       "8                         3.530000                        3.28  \n",
       "9                         3.530000                        3.28  "
      ]
     },
     "execution_count": 43,
     "metadata": {},
     "output_type": "execute_result"
    }
   ],
   "source": [
    "P01_001_2018.head(10)"
   ]
  },
  {
   "cell_type": "markdown",
   "id": "f681b53b",
   "metadata": {},
   "source": [
    "The difference between the methods:"
   ]
  },
  {
   "cell_type": "code",
   "execution_count": 44,
   "id": "606f9346",
   "metadata": {},
   "outputs": [
    {
     "data": {
      "text/plain": [
       "<matplotlib.legend.Legend at 0x7f19a59477b8>"
      ]
     },
     "execution_count": 44,
     "metadata": {},
     "output_type": "execute_result"
    },
    {
     "data": {
      "image/png": "[encoded data removed]",
      "text/plain": [
       "<Figure size 1152x576 with 1 Axes>"
      ]
     },
     "metadata": {
      "needs_background": "light"
     },
     "output_type": "display_data"
    }
   ],
   "source": [
    "fig, ax = plt.subplots(figsize=(16, 8))\n",
    "max_intensity_event_matlab_clone[\"max_30min_intensity_clone\"].plot(ax=ax, label=\"matlab_clone\", \n",
    "                                                                   linewidth=4, linestyle='-.')\n",
    "max_intensity_event_interpolate[\"max_30min_intensity_interpolate\"].plot(ax=ax, label=\"interpolate\")\n",
    "max_intensity_event_fillna[\"max_30min_intensity_fillna\"].plot(ax=ax, label=\"fillna\")\n",
    "ax.legend()"
   ]
  },
  {
   "cell_type": "code",
   "execution_count": 46,
   "id": "c23f6053",
   "metadata": {},
   "outputs": [
    {
     "data": {
      "text/html": [
       "<div>\n",
       "<style scoped>\n",
       "    .dataframe tbody tr th:only-of-type {\n",
       "        vertical-align: middle;\n",
       "    }\n",
       "\n",
       "    .dataframe tbody tr th {\n",
       "        vertical-align: top;\n",
       "    }\n",
       "\n",
       "    .dataframe thead th {\n",
       "        text-align: right;\n",
       "    }\n",
       "</style>\n",
       "<table border=\"1\" class=\"dataframe\">\n",
       "  <thead>\n",
       "    <tr style=\"text-align: right;\">\n",
       "      <th></th>\n",
       "      <th>datetime</th>\n",
       "      <th>rain_mm</th>\n",
       "      <th>station</th>\n",
       "      <th>min_since_start_year</th>\n",
       "      <th>event_start</th>\n",
       "      <th>event_idx</th>\n",
       "      <th>event_rain_cum</th>\n",
       "      <th>event_energy</th>\n",
       "      <th>max_30min_intensity_clone</th>\n",
       "      <th>max_30min_intensity_interpolate</th>\n",
       "      <th>max_30min_intensity_fillna</th>\n",
       "    </tr>\n",
       "  </thead>\n",
       "  <tbody>\n",
       "    <tr>\n",
       "      <th>0</th>\n",
       "      <td>2018-01-01 02:10:00</td>\n",
       "      <td>0.27</td>\n",
       "      <td>P01_001</td>\n",
       "      <td>130.0</td>\n",
       "      <td>True</td>\n",
       "      <td>1</td>\n",
       "      <td>0.27</td>\n",
       "      <td>0.14504</td>\n",
       "      <td>0.992593</td>\n",
       "      <td>2.822222</td>\n",
       "      <td>0.96</td>\n",
       "    </tr>\n",
       "    <tr>\n",
       "      <th>1</th>\n",
       "      <td>2018-01-01 02:20:00</td>\n",
       "      <td>0.02</td>\n",
       "      <td>P01_001</td>\n",
       "      <td>140.0</td>\n",
       "      <td>False</td>\n",
       "      <td>1</td>\n",
       "      <td>0.29</td>\n",
       "      <td>0.14504</td>\n",
       "      <td>0.992593</td>\n",
       "      <td>2.822222</td>\n",
       "      <td>0.96</td>\n",
       "    </tr>\n",
       "    <tr>\n",
       "      <th>2</th>\n",
       "      <td>2018-01-01 03:10:00</td>\n",
       "      <td>0.48</td>\n",
       "      <td>P01_001</td>\n",
       "      <td>190.0</td>\n",
       "      <td>False</td>\n",
       "      <td>1</td>\n",
       "      <td>0.77</td>\n",
       "      <td>0.14504</td>\n",
       "      <td>0.992593</td>\n",
       "      <td>2.822222</td>\n",
       "      <td>0.96</td>\n",
       "    </tr>\n",
       "    <tr>\n",
       "      <th>3</th>\n",
       "      <td>2018-01-01 07:40:00</td>\n",
       "      <td>0.22</td>\n",
       "      <td>P01_001</td>\n",
       "      <td>460.0</td>\n",
       "      <td>False</td>\n",
       "      <td>1</td>\n",
       "      <td>0.99</td>\n",
       "      <td>0.14504</td>\n",
       "      <td>0.992593</td>\n",
       "      <td>2.822222</td>\n",
       "      <td>0.96</td>\n",
       "    </tr>\n",
       "    <tr>\n",
       "      <th>4</th>\n",
       "      <td>2018-01-01 07:50:00</td>\n",
       "      <td>0.09</td>\n",
       "      <td>P01_001</td>\n",
       "      <td>470.0</td>\n",
       "      <td>False</td>\n",
       "      <td>1</td>\n",
       "      <td>1.08</td>\n",
       "      <td>0.14504</td>\n",
       "      <td>0.992593</td>\n",
       "      <td>2.822222</td>\n",
       "      <td>0.96</td>\n",
       "    </tr>\n",
       "  </tbody>\n",
       "</table>\n",
       "</div>"
      ],
      "text/plain": [
       "             datetime  rain_mm  station  min_since_start_year  event_start  \\\n",
       "0 2018-01-01 02:10:00     0.27  P01_001                 130.0         True   \n",
       "1 2018-01-01 02:20:00     0.02  P01_001                 140.0        False   \n",
       "2 2018-01-01 03:10:00     0.48  P01_001                 190.0        False   \n",
       "3 2018-01-01 07:40:00     0.22  P01_001                 460.0        False   \n",
       "4 2018-01-01 07:50:00     0.09  P01_001                 470.0        False   \n",
       "\n",
       "   event_idx  event_rain_cum  event_energy  max_30min_intensity_clone  \\\n",
       "0          1            0.27       0.14504                   0.992593   \n",
       "1          1            0.29       0.14504                   0.992593   \n",
       "2          1            0.77       0.14504                   0.992593   \n",
       "3          1            0.99       0.14504                   0.992593   \n",
       "4          1            1.08       0.14504                   0.992593   \n",
       "\n",
       "   max_30min_intensity_interpolate  max_30min_intensity_fillna  \n",
       "0                         2.822222                        0.96  \n",
       "1                         2.822222                        0.96  \n",
       "2                         2.822222                        0.96  \n",
       "3                         2.822222                        0.96  \n",
       "4                         2.822222                        0.96  "
      ]
     },
     "execution_count": 46,
     "metadata": {},
     "output_type": "execute_result"
    }
   ],
   "source": [
    "P01_001_2018.head()"
   ]
  },
  {
   "cell_type": "markdown",
   "id": "8588fd99",
   "metadata": {},
   "source": [
    "### 5. Gather results for each event"
   ]
  },
  {
   "cell_type": "code",
   "execution_count": 100,
   "id": "e4b1928a",
   "metadata": {},
   "outputs": [
    {
     "data": {
      "text/html": [
       "<div>\n",
       "<style scoped>\n",
       "    .dataframe tbody tr th:only-of-type {\n",
       "        vertical-align: middle;\n",
       "    }\n",
       "\n",
       "    .dataframe tbody tr th {\n",
       "        vertical-align: top;\n",
       "    }\n",
       "\n",
       "    .dataframe thead th {\n",
       "        text-align: right;\n",
       "    }\n",
       "</style>\n",
       "<table border=\"1\" class=\"dataframe\">\n",
       "  <thead>\n",
       "    <tr style=\"text-align: right;\">\n",
       "      <th></th>\n",
       "      <th>datetime</th>\n",
       "      <th>rain_mm</th>\n",
       "      <th>station</th>\n",
       "      <th>min_since_start_year</th>\n",
       "      <th>event_start</th>\n",
       "      <th>event_idx</th>\n",
       "      <th>event_rain_cum</th>\n",
       "      <th>event_energy</th>\n",
       "      <th>max_30min_intensity_clone</th>\n",
       "      <th>max_30min_intensity_interpolate</th>\n",
       "      <th>max_30min_intensity_fillna</th>\n",
       "    </tr>\n",
       "  </thead>\n",
       "  <tbody>\n",
       "    <tr>\n",
       "      <th>0</th>\n",
       "      <td>2018-01-01 02:10:00</td>\n",
       "      <td>0.27</td>\n",
       "      <td>P01_001</td>\n",
       "      <td>130.0</td>\n",
       "      <td>True</td>\n",
       "      <td>1</td>\n",
       "      <td>0.27</td>\n",
       "      <td>0.14504</td>\n",
       "      <td>0.992593</td>\n",
       "      <td>2.822222</td>\n",
       "      <td>0.96</td>\n",
       "    </tr>\n",
       "    <tr>\n",
       "      <th>1</th>\n",
       "      <td>2018-01-01 02:20:00</td>\n",
       "      <td>0.02</td>\n",
       "      <td>P01_001</td>\n",
       "      <td>140.0</td>\n",
       "      <td>False</td>\n",
       "      <td>1</td>\n",
       "      <td>0.29</td>\n",
       "      <td>0.14504</td>\n",
       "      <td>0.992593</td>\n",
       "      <td>2.822222</td>\n",
       "      <td>0.96</td>\n",
       "    </tr>\n",
       "    <tr>\n",
       "      <th>2</th>\n",
       "      <td>2018-01-01 03:10:00</td>\n",
       "      <td>0.48</td>\n",
       "      <td>P01_001</td>\n",
       "      <td>190.0</td>\n",
       "      <td>False</td>\n",
       "      <td>1</td>\n",
       "      <td>0.77</td>\n",
       "      <td>0.14504</td>\n",
       "      <td>0.992593</td>\n",
       "      <td>2.822222</td>\n",
       "      <td>0.96</td>\n",
       "    </tr>\n",
       "    <tr>\n",
       "      <th>3</th>\n",
       "      <td>2018-01-01 07:40:00</td>\n",
       "      <td>0.22</td>\n",
       "      <td>P01_001</td>\n",
       "      <td>460.0</td>\n",
       "      <td>False</td>\n",
       "      <td>1</td>\n",
       "      <td>0.99</td>\n",
       "      <td>0.14504</td>\n",
       "      <td>0.992593</td>\n",
       "      <td>2.822222</td>\n",
       "      <td>0.96</td>\n",
       "    </tr>\n",
       "    <tr>\n",
       "      <th>4</th>\n",
       "      <td>2018-01-01 07:50:00</td>\n",
       "      <td>0.09</td>\n",
       "      <td>P01_001</td>\n",
       "      <td>470.0</td>\n",
       "      <td>False</td>\n",
       "      <td>1</td>\n",
       "      <td>1.08</td>\n",
       "      <td>0.14504</td>\n",
       "      <td>0.992593</td>\n",
       "      <td>2.822222</td>\n",
       "      <td>0.96</td>\n",
       "    </tr>\n",
       "  </tbody>\n",
       "</table>\n",
       "</div>"
      ],
      "text/plain": [
       "             datetime  rain_mm  station  min_since_start_year  event_start  \\\n",
       "0 2018-01-01 02:10:00     0.27  P01_001                 130.0         True   \n",
       "1 2018-01-01 02:20:00     0.02  P01_001                 140.0        False   \n",
       "2 2018-01-01 03:10:00     0.48  P01_001                 190.0        False   \n",
       "3 2018-01-01 07:40:00     0.22  P01_001                 460.0        False   \n",
       "4 2018-01-01 07:50:00     0.09  P01_001                 470.0        False   \n",
       "\n",
       "   event_idx  event_rain_cum  event_energy  max_30min_intensity_clone  \\\n",
       "0          1            0.27       0.14504                   0.992593   \n",
       "1          1            0.29       0.14504                   0.992593   \n",
       "2          1            0.77       0.14504                   0.992593   \n",
       "3          1            0.99       0.14504                   0.992593   \n",
       "4          1            1.08       0.14504                   0.992593   \n",
       "\n",
       "   max_30min_intensity_interpolate  max_30min_intensity_fillna  \n",
       "0                         2.822222                        0.96  \n",
       "1                         2.822222                        0.96  \n",
       "2                         2.822222                        0.96  \n",
       "3                         2.822222                        0.96  \n",
       "4                         2.822222                        0.96  "
      ]
     },
     "execution_count": 100,
     "metadata": {},
     "output_type": "execute_result"
    }
   ],
   "source": [
    "P01_001_2018.head()"
   ]
  },
  {
   "cell_type": "markdown",
   "id": "021e35ed",
   "metadata": {},
   "source": [
    "Extract summary for each event:"
   ]
  },
  {
   "cell_type": "code",
   "execution_count": 105,
   "id": "86accaf0",
   "metadata": {},
   "outputs": [
    {
     "data": {
      "text/html": [
       "<div>\n",
       "<style scoped>\n",
       "    .dataframe tbody tr th:only-of-type {\n",
       "        vertical-align: middle;\n",
       "    }\n",
       "\n",
       "    .dataframe tbody tr th {\n",
       "        vertical-align: top;\n",
       "    }\n",
       "\n",
       "    .dataframe thead th {\n",
       "        text-align: right;\n",
       "    }\n",
       "</style>\n",
       "<table border=\"1\" class=\"dataframe\">\n",
       "  <thead>\n",
       "    <tr style=\"text-align: right;\">\n",
       "      <th></th>\n",
       "      <th>datetime</th>\n",
       "      <th>event_rain_cum</th>\n",
       "      <th>max_30min_intensity_clone</th>\n",
       "      <th>event_energy</th>\n",
       "    </tr>\n",
       "    <tr>\n",
       "      <th>event_idx</th>\n",
       "      <th></th>\n",
       "      <th></th>\n",
       "      <th></th>\n",
       "      <th></th>\n",
       "    </tr>\n",
       "  </thead>\n",
       "  <tbody>\n",
       "    <tr>\n",
       "      <th>1</th>\n",
       "      <td>2018-01-01 02:10:00</td>\n",
       "      <td>1.08</td>\n",
       "      <td>0.992593</td>\n",
       "      <td>0.145040</td>\n",
       "    </tr>\n",
       "    <tr>\n",
       "      <th>2</th>\n",
       "      <td>2018-01-01 14:30:00</td>\n",
       "      <td>11.29</td>\n",
       "      <td>3.280000</td>\n",
       "      <td>1.530117</td>\n",
       "    </tr>\n",
       "    <tr>\n",
       "      <th>3</th>\n",
       "      <td>2018-01-02 16:30:00</td>\n",
       "      <td>7.76</td>\n",
       "      <td>3.000000</td>\n",
       "      <td>0.996561</td>\n",
       "    </tr>\n",
       "    <tr>\n",
       "      <th>4</th>\n",
       "      <td>2018-01-04 09:10:00</td>\n",
       "      <td>2.34</td>\n",
       "      <td>1.340000</td>\n",
       "      <td>0.242004</td>\n",
       "    </tr>\n",
       "    <tr>\n",
       "      <th>5</th>\n",
       "      <td>2018-01-05 02:20:00</td>\n",
       "      <td>1.56</td>\n",
       "      <td>1.480000</td>\n",
       "      <td>0.190453</td>\n",
       "    </tr>\n",
       "    <tr>\n",
       "      <th>...</th>\n",
       "      <td>...</td>\n",
       "      <td>...</td>\n",
       "      <td>...</td>\n",
       "      <td>...</td>\n",
       "    </tr>\n",
       "    <tr>\n",
       "      <th>136</th>\n",
       "      <td>2018-12-20 10:30:00</td>\n",
       "      <td>17.27</td>\n",
       "      <td>5.900000</td>\n",
       "      <td>2.609841</td>\n",
       "    </tr>\n",
       "    <tr>\n",
       "      <th>137</th>\n",
       "      <td>2018-12-21 22:40:00</td>\n",
       "      <td>5.05</td>\n",
       "      <td>4.040000</td>\n",
       "      <td>0.802073</td>\n",
       "    </tr>\n",
       "    <tr>\n",
       "      <th>138</th>\n",
       "      <td>2018-12-23 10:00:00</td>\n",
       "      <td>9.32</td>\n",
       "      <td>2.820000</td>\n",
       "      <td>1.064159</td>\n",
       "    </tr>\n",
       "    <tr>\n",
       "      <th>139</th>\n",
       "      <td>2018-12-29 17:00:00</td>\n",
       "      <td>0.03</td>\n",
       "      <td>0.120000</td>\n",
       "      <td>0.001960</td>\n",
       "    </tr>\n",
       "    <tr>\n",
       "      <th>140</th>\n",
       "      <td>2018-12-30 16:40:00</td>\n",
       "      <td>1.45</td>\n",
       "      <td>0.760000</td>\n",
       "      <td>0.120573</td>\n",
       "    </tr>\n",
       "  </tbody>\n",
       "</table>\n",
       "<p>140 rows × 4 columns</p>\n",
       "</div>"
      ],
      "text/plain": [
       "                     datetime  event_rain_cum  max_30min_intensity_clone  \\\n",
       "event_idx                                                                  \n",
       "1         2018-01-01 02:10:00            1.08                   0.992593   \n",
       "2         2018-01-01 14:30:00           11.29                   3.280000   \n",
       "3         2018-01-02 16:30:00            7.76                   3.000000   \n",
       "4         2018-01-04 09:10:00            2.34                   1.340000   \n",
       "5         2018-01-05 02:20:00            1.56                   1.480000   \n",
       "...                       ...             ...                        ...   \n",
       "136       2018-12-20 10:30:00           17.27                   5.900000   \n",
       "137       2018-12-21 22:40:00            5.05                   4.040000   \n",
       "138       2018-12-23 10:00:00            9.32                   2.820000   \n",
       "139       2018-12-29 17:00:00            0.03                   0.120000   \n",
       "140       2018-12-30 16:40:00            1.45                   0.760000   \n",
       "\n",
       "           event_energy  \n",
       "event_idx                \n",
       "1              0.145040  \n",
       "2              1.530117  \n",
       "3              0.996561  \n",
       "4              0.242004  \n",
       "5              0.190453  \n",
       "...                 ...  \n",
       "136            2.609841  \n",
       "137            0.802073  \n",
       "138            1.064159  \n",
       "139            0.001960  \n",
       "140            0.120573  \n",
       "\n",
       "[140 rows x 4 columns]"
      ]
     },
     "execution_count": 105,
     "metadata": {},
     "output_type": "execute_result"
    }
   ],
   "source": [
    "columns = [\"event_rain_cum\", \"max_30min_intensity_clone\", \"event_energy\", \"datetime\"]\n",
    "P01_001_2018_events = P01_001_2018.groupby(\"event_idx\")[columns].agg({\"datetime\": \"first\",\n",
    "                                                                      \"event_rain_cum\": \"last\", \n",
    "                                                                      \"max_30min_intensity_clone\": \"last\", \n",
    "                                                                      \"event_energy\": \"last\", \n",
    "                                                                     })\n",
    "P01_001_2018_events"
   ]
  },
  {
   "cell_type": "code",
   "execution_count": 120,
   "id": "a3d372ca",
   "metadata": {},
   "outputs": [],
   "source": [
    "P01_001_2018_events[\"erosivity\"] = P01_001_2018_events[\"event_energy\"] * P01_001_2018[\"max_30min_intensity_clone\"]"
   ]
  },
  {
   "cell_type": "markdown",
   "id": "1865114c",
   "metadata": {},
   "source": [
    "Add cumulative value of the events combined:"
   ]
  },
  {
   "cell_type": "code",
   "execution_count": 121,
   "id": "883014e4",
   "metadata": {},
   "outputs": [],
   "source": [
    "P01_001_2018_events[\"all_events_cum\"] = P01_001_2018_events[\"event_rain_cum\"].shift(1).cumsum()"
   ]
  },
  {
   "cell_type": "markdown",
   "id": "08ef39e6",
   "metadata": {},
   "source": [
    "Add days from start of year (conform matlab implementation):"
   ]
  },
  {
   "cell_type": "code",
   "execution_count": 136,
   "id": "b54e7cfe",
   "metadata": {},
   "outputs": [],
   "source": [
    "P01_001_2018_events[\"days_since_start_year\"] = (P01_001_2018_events[\"datetime\"] - pd.Timestamp(\"2018-01-01\")).dt.total_seconds() / 60. / 1440."
   ]
  },
  {
   "cell_type": "markdown",
   "id": "2d5acb2f",
   "metadata": {},
   "source": [
    "Exclude events with total rainfall lower than threshold:"
   ]
  },
  {
   "cell_type": "code",
   "execution_count": 150,
   "id": "68095927",
   "metadata": {},
   "outputs": [
    {
     "data": {
      "text/html": [
       "<div>\n",
       "<style scoped>\n",
       "    .dataframe tbody tr th:only-of-type {\n",
       "        vertical-align: middle;\n",
       "    }\n",
       "\n",
       "    .dataframe tbody tr th {\n",
       "        vertical-align: top;\n",
       "    }\n",
       "\n",
       "    .dataframe thead th {\n",
       "        text-align: right;\n",
       "    }\n",
       "</style>\n",
       "<table border=\"1\" class=\"dataframe\">\n",
       "  <thead>\n",
       "    <tr style=\"text-align: right;\">\n",
       "      <th></th>\n",
       "      <th>datetime</th>\n",
       "      <th>event_rain_cum</th>\n",
       "      <th>max_30min_intensity_clone</th>\n",
       "      <th>event_energy</th>\n",
       "      <th>erosivity</th>\n",
       "      <th>all_events_cum</th>\n",
       "      <th>days_since_start_year</th>\n",
       "      <th>erosivity_cum</th>\n",
       "    </tr>\n",
       "    <tr>\n",
       "      <th>event_idx</th>\n",
       "      <th></th>\n",
       "      <th></th>\n",
       "      <th></th>\n",
       "      <th></th>\n",
       "      <th></th>\n",
       "      <th></th>\n",
       "      <th></th>\n",
       "      <th></th>\n",
       "    </tr>\n",
       "  </thead>\n",
       "  <tbody>\n",
       "    <tr>\n",
       "      <th>2</th>\n",
       "      <td>2018-01-01 14:30:00</td>\n",
       "      <td>11.29</td>\n",
       "      <td>3.28</td>\n",
       "      <td>1.530117</td>\n",
       "      <td>1.518783</td>\n",
       "      <td>1.08</td>\n",
       "      <td>0.604167</td>\n",
       "      <td>1.518783</td>\n",
       "    </tr>\n",
       "    <tr>\n",
       "      <th>3</th>\n",
       "      <td>2018-01-02 16:30:00</td>\n",
       "      <td>7.76</td>\n",
       "      <td>3.00</td>\n",
       "      <td>0.996561</td>\n",
       "      <td>0.989179</td>\n",
       "      <td>12.37</td>\n",
       "      <td>1.687500</td>\n",
       "      <td>2.507961</td>\n",
       "    </tr>\n",
       "    <tr>\n",
       "      <th>4</th>\n",
       "      <td>2018-01-04 09:10:00</td>\n",
       "      <td>2.34</td>\n",
       "      <td>1.34</td>\n",
       "      <td>0.242004</td>\n",
       "      <td>0.240211</td>\n",
       "      <td>20.13</td>\n",
       "      <td>3.381944</td>\n",
       "      <td>2.748173</td>\n",
       "    </tr>\n",
       "    <tr>\n",
       "      <th>5</th>\n",
       "      <td>2018-01-05 02:20:00</td>\n",
       "      <td>1.56</td>\n",
       "      <td>1.48</td>\n",
       "      <td>0.190453</td>\n",
       "      <td>0.624687</td>\n",
       "      <td>22.47</td>\n",
       "      <td>4.097222</td>\n",
       "      <td>3.372859</td>\n",
       "    </tr>\n",
       "    <tr>\n",
       "      <th>6</th>\n",
       "      <td>2018-01-05 16:00:00</td>\n",
       "      <td>3.33</td>\n",
       "      <td>6.16</td>\n",
       "      <td>0.681102</td>\n",
       "      <td>2.234014</td>\n",
       "      <td>24.03</td>\n",
       "      <td>4.666667</td>\n",
       "      <td>5.606873</td>\n",
       "    </tr>\n",
       "    <tr>\n",
       "      <th>...</th>\n",
       "      <td>...</td>\n",
       "      <td>...</td>\n",
       "      <td>...</td>\n",
       "      <td>...</td>\n",
       "      <td>...</td>\n",
       "      <td>...</td>\n",
       "      <td>...</td>\n",
       "      <td>...</td>\n",
       "    </tr>\n",
       "    <tr>\n",
       "      <th>132</th>\n",
       "      <td>2018-12-15 21:30:00</td>\n",
       "      <td>5.07</td>\n",
       "      <td>2.24</td>\n",
       "      <td>0.620312</td>\n",
       "      <td>0.831219</td>\n",
       "      <td>475.20</td>\n",
       "      <td>348.895833</td>\n",
       "      <td>196.924103</td>\n",
       "    </tr>\n",
       "    <tr>\n",
       "      <th>136</th>\n",
       "      <td>2018-12-20 10:30:00</td>\n",
       "      <td>17.27</td>\n",
       "      <td>5.90</td>\n",
       "      <td>2.609841</td>\n",
       "      <td>3.497187</td>\n",
       "      <td>482.13</td>\n",
       "      <td>353.437500</td>\n",
       "      <td>200.421290</td>\n",
       "    </tr>\n",
       "    <tr>\n",
       "      <th>137</th>\n",
       "      <td>2018-12-21 22:40:00</td>\n",
       "      <td>5.05</td>\n",
       "      <td>4.04</td>\n",
       "      <td>0.802073</td>\n",
       "      <td>1.074777</td>\n",
       "      <td>499.40</td>\n",
       "      <td>354.944444</td>\n",
       "      <td>201.496067</td>\n",
       "    </tr>\n",
       "    <tr>\n",
       "      <th>138</th>\n",
       "      <td>2018-12-23 10:00:00</td>\n",
       "      <td>9.32</td>\n",
       "      <td>2.82</td>\n",
       "      <td>1.064159</td>\n",
       "      <td>1.425973</td>\n",
       "      <td>504.45</td>\n",
       "      <td>356.416667</td>\n",
       "      <td>202.922040</td>\n",
       "    </tr>\n",
       "    <tr>\n",
       "      <th>140</th>\n",
       "      <td>2018-12-30 16:40:00</td>\n",
       "      <td>1.45</td>\n",
       "      <td>0.76</td>\n",
       "      <td>0.120573</td>\n",
       "      <td>0.161568</td>\n",
       "      <td>513.80</td>\n",
       "      <td>363.694444</td>\n",
       "      <td>203.083609</td>\n",
       "    </tr>\n",
       "  </tbody>\n",
       "</table>\n",
       "<p>79 rows × 8 columns</p>\n",
       "</div>"
      ],
      "text/plain": [
       "                     datetime  event_rain_cum  max_30min_intensity_clone  \\\n",
       "event_idx                                                                  \n",
       "2         2018-01-01 14:30:00           11.29                       3.28   \n",
       "3         2018-01-02 16:30:00            7.76                       3.00   \n",
       "4         2018-01-04 09:10:00            2.34                       1.34   \n",
       "5         2018-01-05 02:20:00            1.56                       1.48   \n",
       "6         2018-01-05 16:00:00            3.33                       6.16   \n",
       "...                       ...             ...                        ...   \n",
       "132       2018-12-15 21:30:00            5.07                       2.24   \n",
       "136       2018-12-20 10:30:00           17.27                       5.90   \n",
       "137       2018-12-21 22:40:00            5.05                       4.04   \n",
       "138       2018-12-23 10:00:00            9.32                       2.82   \n",
       "140       2018-12-30 16:40:00            1.45                       0.76   \n",
       "\n",
       "           event_energy  erosivity  all_events_cum  days_since_start_year  \\\n",
       "event_idx                                                                   \n",
       "2              1.530117   1.518783            1.08               0.604167   \n",
       "3              0.996561   0.989179           12.37               1.687500   \n",
       "4              0.242004   0.240211           20.13               3.381944   \n",
       "5              0.190453   0.624687           22.47               4.097222   \n",
       "6              0.681102   2.234014           24.03               4.666667   \n",
       "...                 ...        ...             ...                    ...   \n",
       "132            0.620312   0.831219          475.20             348.895833   \n",
       "136            2.609841   3.497187          482.13             353.437500   \n",
       "137            0.802073   1.074777          499.40             354.944444   \n",
       "138            1.064159   1.425973          504.45             356.416667   \n",
       "140            0.120573   0.161568          513.80             363.694444   \n",
       "\n",
       "           erosivity_cum  \n",
       "event_idx                 \n",
       "2               1.518783  \n",
       "3               2.507961  \n",
       "4               2.748173  \n",
       "5               3.372859  \n",
       "6               5.606873  \n",
       "...                  ...  \n",
       "132           196.924103  \n",
       "136           200.421290  \n",
       "137           201.496067  \n",
       "138           202.922040  \n",
       "140           203.083609  \n",
       "\n",
       "[79 rows x 8 columns]"
      ]
     },
     "execution_count": 150,
     "metadata": {},
     "output_type": "execute_result"
    }
   ],
   "source": [
    "MIN_CUMUL = 1.27\n",
    "\n",
    "#P01_001_2018_events.loc[P01_001_2018_events[\"event_rain_cum\"] < MIN_CUMUL, \n",
    "#                        [\"erosivity\", \"all_events_cum\", \n",
    "#                         \"max_30min_intensity_clone\", \"days_since_start_year\"]] = 0.\n",
    "\n",
    "P01_001_2018_events_subset = P01_001_2018_events[P01_001_2018_events[\"event_rain_cum\"] > MIN_CUMUL]\n",
    "P01_001_2018_events_subset"
   ]
  },
  {
   "cell_type": "markdown",
   "id": "bcd6fa42",
   "metadata": {},
   "source": [
    "__?? Should all_events_cum include the events that were excluded as below threshold?__"
   ]
  },
  {
   "cell_type": "markdown",
   "id": "693d266e",
   "metadata": {},
   "source": [
    "### 6. Cumulative erosivity"
   ]
  },
  {
   "cell_type": "code",
   "execution_count": 151,
   "id": "f7d0d873",
   "metadata": {},
   "outputs": [],
   "source": [
    "P01_001_2018_events_subset[\"erosivity_cum\"] = P01_001_2018_events_subset[\"erosivity\"].cumsum()"
   ]
  },
  {
   "cell_type": "code",
   "execution_count": 152,
   "id": "958d25d9",
   "metadata": {},
   "outputs": [
    {
     "data": {
      "text/html": [
       "<div>\n",
       "<style scoped>\n",
       "    .dataframe tbody tr th:only-of-type {\n",
       "        vertical-align: middle;\n",
       "    }\n",
       "\n",
       "    .dataframe tbody tr th {\n",
       "        vertical-align: top;\n",
       "    }\n",
       "\n",
       "    .dataframe thead th {\n",
       "        text-align: right;\n",
       "    }\n",
       "</style>\n",
       "<table border=\"1\" class=\"dataframe\">\n",
       "  <thead>\n",
       "    <tr style=\"text-align: right;\">\n",
       "      <th></th>\n",
       "      <th>datetime</th>\n",
       "      <th>event_rain_cum</th>\n",
       "      <th>max_30min_intensity_clone</th>\n",
       "      <th>event_energy</th>\n",
       "      <th>erosivity</th>\n",
       "      <th>all_events_cum</th>\n",
       "      <th>days_since_start_year</th>\n",
       "      <th>erosivity_cum</th>\n",
       "    </tr>\n",
       "    <tr>\n",
       "      <th>event_idx</th>\n",
       "      <th></th>\n",
       "      <th></th>\n",
       "      <th></th>\n",
       "      <th></th>\n",
       "      <th></th>\n",
       "      <th></th>\n",
       "      <th></th>\n",
       "      <th></th>\n",
       "    </tr>\n",
       "  </thead>\n",
       "  <tbody>\n",
       "    <tr>\n",
       "      <th>2</th>\n",
       "      <td>2018-01-01 14:30:00</td>\n",
       "      <td>11.29</td>\n",
       "      <td>3.28</td>\n",
       "      <td>1.530117</td>\n",
       "      <td>1.518783</td>\n",
       "      <td>1.08</td>\n",
       "      <td>0.604167</td>\n",
       "      <td>1.518783</td>\n",
       "    </tr>\n",
       "    <tr>\n",
       "      <th>3</th>\n",
       "      <td>2018-01-02 16:30:00</td>\n",
       "      <td>7.76</td>\n",
       "      <td>3.00</td>\n",
       "      <td>0.996561</td>\n",
       "      <td>0.989179</td>\n",
       "      <td>12.37</td>\n",
       "      <td>1.687500</td>\n",
       "      <td>2.507961</td>\n",
       "    </tr>\n",
       "    <tr>\n",
       "      <th>4</th>\n",
       "      <td>2018-01-04 09:10:00</td>\n",
       "      <td>2.34</td>\n",
       "      <td>1.34</td>\n",
       "      <td>0.242004</td>\n",
       "      <td>0.240211</td>\n",
       "      <td>20.13</td>\n",
       "      <td>3.381944</td>\n",
       "      <td>2.748173</td>\n",
       "    </tr>\n",
       "    <tr>\n",
       "      <th>5</th>\n",
       "      <td>2018-01-05 02:20:00</td>\n",
       "      <td>1.56</td>\n",
       "      <td>1.48</td>\n",
       "      <td>0.190453</td>\n",
       "      <td>0.624687</td>\n",
       "      <td>22.47</td>\n",
       "      <td>4.097222</td>\n",
       "      <td>3.372859</td>\n",
       "    </tr>\n",
       "    <tr>\n",
       "      <th>6</th>\n",
       "      <td>2018-01-05 16:00:00</td>\n",
       "      <td>3.33</td>\n",
       "      <td>6.16</td>\n",
       "      <td>0.681102</td>\n",
       "      <td>2.234014</td>\n",
       "      <td>24.03</td>\n",
       "      <td>4.666667</td>\n",
       "      <td>5.606873</td>\n",
       "    </tr>\n",
       "    <tr>\n",
       "      <th>8</th>\n",
       "      <td>2018-01-10 05:40:00</td>\n",
       "      <td>5.43</td>\n",
       "      <td>3.38</td>\n",
       "      <td>0.722533</td>\n",
       "      <td>2.369909</td>\n",
       "      <td>27.72</td>\n",
       "      <td>9.236111</td>\n",
       "      <td>7.976782</td>\n",
       "    </tr>\n",
       "    <tr>\n",
       "      <th>9</th>\n",
       "      <td>2018-01-15 11:50:00</td>\n",
       "      <td>13.21</td>\n",
       "      <td>4.29</td>\n",
       "      <td>1.979756</td>\n",
       "      <td>6.493601</td>\n",
       "      <td>33.15</td>\n",
       "      <td>14.493056</td>\n",
       "      <td>14.470383</td>\n",
       "    </tr>\n",
       "    <tr>\n",
       "      <th>11</th>\n",
       "      <td>2018-01-17 03:20:00</td>\n",
       "      <td>1.94</td>\n",
       "      <td>2.30</td>\n",
       "      <td>0.250436</td>\n",
       "      <td>0.821431</td>\n",
       "      <td>46.59</td>\n",
       "      <td>16.138889</td>\n",
       "      <td>15.291814</td>\n",
       "    </tr>\n",
       "    <tr>\n",
       "      <th>12</th>\n",
       "      <td>2018-01-18 01:00:00</td>\n",
       "      <td>4.03</td>\n",
       "      <td>1.96</td>\n",
       "      <td>0.477328</td>\n",
       "      <td>1.565637</td>\n",
       "      <td>48.53</td>\n",
       "      <td>17.041667</td>\n",
       "      <td>16.857451</td>\n",
       "    </tr>\n",
       "    <tr>\n",
       "      <th>13</th>\n",
       "      <td>2018-01-18 20:20:00</td>\n",
       "      <td>6.80</td>\n",
       "      <td>6.62</td>\n",
       "      <td>1.231073</td>\n",
       "      <td>4.037920</td>\n",
       "      <td>52.56</td>\n",
       "      <td>17.847222</td>\n",
       "      <td>20.895371</td>\n",
       "    </tr>\n",
       "  </tbody>\n",
       "</table>\n",
       "</div>"
      ],
      "text/plain": [
       "                     datetime  event_rain_cum  max_30min_intensity_clone  \\\n",
       "event_idx                                                                  \n",
       "2         2018-01-01 14:30:00           11.29                       3.28   \n",
       "3         2018-01-02 16:30:00            7.76                       3.00   \n",
       "4         2018-01-04 09:10:00            2.34                       1.34   \n",
       "5         2018-01-05 02:20:00            1.56                       1.48   \n",
       "6         2018-01-05 16:00:00            3.33                       6.16   \n",
       "8         2018-01-10 05:40:00            5.43                       3.38   \n",
       "9         2018-01-15 11:50:00           13.21                       4.29   \n",
       "11        2018-01-17 03:20:00            1.94                       2.30   \n",
       "12        2018-01-18 01:00:00            4.03                       1.96   \n",
       "13        2018-01-18 20:20:00            6.80                       6.62   \n",
       "\n",
       "           event_energy  erosivity  all_events_cum  days_since_start_year  \\\n",
       "event_idx                                                                   \n",
       "2              1.530117   1.518783            1.08               0.604167   \n",
       "3              0.996561   0.989179           12.37               1.687500   \n",
       "4              0.242004   0.240211           20.13               3.381944   \n",
       "5              0.190453   0.624687           22.47               4.097222   \n",
       "6              0.681102   2.234014           24.03               4.666667   \n",
       "8              0.722533   2.369909           27.72               9.236111   \n",
       "9              1.979756   6.493601           33.15              14.493056   \n",
       "11             0.250436   0.821431           46.59              16.138889   \n",
       "12             0.477328   1.565637           48.53              17.041667   \n",
       "13             1.231073   4.037920           52.56              17.847222   \n",
       "\n",
       "           erosivity_cum  \n",
       "event_idx                 \n",
       "2               1.518783  \n",
       "3               2.507961  \n",
       "4               2.748173  \n",
       "5               3.372859  \n",
       "6               5.606873  \n",
       "8               7.976782  \n",
       "9              14.470383  \n",
       "11             15.291814  \n",
       "12             16.857451  \n",
       "13             20.895371  "
      ]
     },
     "execution_count": 152,
     "metadata": {},
     "output_type": "execute_result"
    }
   ],
   "source": [
    "P01_001_2018_events_subset.head(10)"
   ]
  },
  {
   "cell_type": "markdown",
   "id": "e88e8dc2",
   "metadata": {},
   "source": [
    "### Derived stats"
   ]
  },
  {
   "cell_type": "markdown",
   "id": "81c3db91",
   "metadata": {},
   "source": [
    "### Berekenen van maandelijkse erosiviteit"
   ]
  },
  {
   "cell_type": "markdown",
   "id": "27c28b0b",
   "metadata": {},
   "source": [
    "__?? line 212 what about leap years ?__"
   ]
  },
  {
   "cell_type": "markdown",
   "id": "ac867ad6",
   "metadata": {},
   "source": [
    "TO CHECK -> IS THIS correct interpretation of the description/implementation?"
   ]
  },
  {
   "cell_type": "code",
   "execution_count": 158,
   "id": "842dbb65",
   "metadata": {},
   "outputs": [
    {
     "data": {
      "text/plain": [
       "datetime\n",
       "2018-01-31    31.686562\n",
       "2018-02-28    15.290858\n",
       "2018-03-31    23.226929\n",
       "2018-04-30     6.863936\n",
       "2018-05-31     7.255709\n",
       "2018-06-30     6.589623\n",
       "2018-07-31    10.451051\n",
       "2018-08-31    29.999871\n",
       "2018-09-30    29.633368\n",
       "2018-10-31    17.677100\n",
       "2018-11-30     8.328033\n",
       "2018-12-31    16.080570\n",
       "Freq: M, Name: erosivity, dtype: float64"
      ]
     },
     "execution_count": 158,
     "metadata": {},
     "output_type": "execute_result"
    }
   ],
   "source": [
    "# Monthly\n",
    "P01_001_2018_events_subset.resample(\"M\", on=\"datetime\")[\"erosivity\"].sum()"
   ]
  },
  {
   "cell_type": "code",
   "execution_count": 159,
   "id": "6afaa1a1",
   "metadata": {},
   "outputs": [
    {
     "data": {
      "text/plain": [
       "datetime\n",
       "2018-01-01     7.976782\n",
       "2018-01-15    17.680213\n",
       "2018-01-29    18.229244\n",
       "2018-02-12     3.091180\n",
       "2018-02-26     6.491400\n",
       "2018-03-12     6.097881\n",
       "2018-03-26    17.501584\n",
       "2018-04-09     0.000000\n",
       "2018-04-23     0.000000\n",
       "2018-05-07     0.926241\n",
       "2018-05-21     9.763595\n",
       "2018-06-04     3.155496\n",
       "2018-06-18     0.000000\n",
       "2018-07-02     0.000000\n",
       "2018-07-16    10.451051\n",
       "2018-07-30    12.429891\n",
       "2018-08-13    10.073140\n",
       "2018-08-27    15.013818\n",
       "2018-09-10    18.926577\n",
       "2018-09-24     3.673876\n",
       "2018-10-08     1.619877\n",
       "2018-10-22    15.573161\n",
       "2018-11-05     5.853604\n",
       "2018-11-19     4.003849\n",
       "2018-12-03     8.391645\n",
       "2018-12-17     6.159505\n",
       "Freq: 14D, Name: erosivity, dtype: float64"
      ]
     },
     "execution_count": 159,
     "metadata": {},
     "output_type": "execute_result"
    }
   ],
   "source": [
    "# Bi-weekly\n",
    "P01_001_2018_events_subset.resample(\"14D\", on=\"datetime\")[\"erosivity\"].sum()"
   ]
  },
  {
   "cell_type": "code",
   "execution_count": null,
   "id": "79f19389",
   "metadata": {},
   "outputs": [],
   "source": []
  },
  {
   "cell_type": "code",
   "execution_count": null,
   "id": "0596b593",
   "metadata": {},
   "outputs": [],
   "source": []
  },
  {
   "cell_type": "markdown",
   "id": "90e82dbe",
   "metadata": {},
   "source": [
    "-- quick intermediate check --"
   ]
  },
  {
   "cell_type": "code",
   "execution_count": null,
   "id": "ffed0189",
   "metadata": {},
   "outputs": [],
   "source": [
    "# Check if the time difference works   - OK\n",
    "diffs = np.loadtxt(\"tests/data/test_rainfalldata/P01_001_2018.txt\", usecols=0)\n",
    "np.testing.assert_allclose(P01_001_2018[\"diff\"].values, diffs)"
   ]
  },
  {
   "cell_type": "code",
   "execution_count": null,
   "id": "0d3e4dc1",
   "metadata": {},
   "outputs": [],
   "source": []
  }
 ],
 "metadata": {
  "kernelspec": {
   "display_name": "Python 3 (rfactor)",
   "language": "python",
   "name": "rfactor"
  },
  "language_info": {
   "codemirror_mode": {
    "name": "ipython",
    "version": 3
   },
   "file_extension": ".py",
   "mimetype": "text/x-python",
   "name": "python",
   "nbconvert_exporter": "python",
   "pygments_lexer": "ipython3",
   "version": "3.7.3"
  }
 },
 "nbformat": 4,
 "nbformat_minor": 5
}
