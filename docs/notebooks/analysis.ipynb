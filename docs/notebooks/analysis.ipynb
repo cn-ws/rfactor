{
 "cells": [
  {
   "cell_type": "code",
   "execution_count": 1,
   "metadata": {},
   "outputs": [],
   "source": [
    "%load_ext autoreload\n",
    "%autoreload 2"
   ]
  },
  {
   "cell_type": "markdown",
   "metadata": {},
   "source": [
    "## Aim"
   ]
  },
  {
   "cell_type": "markdown",
   "metadata": {},
   "source": [
    "## Imports\n",
    "Main imports"
   ]
  },
  {
   "cell_type": "code",
   "execution_count": 2,
   "metadata": {},
   "outputs": [],
   "source": [
    "import matplotlib.pyplot as plt \n",
    "import pandas as pd\n",
    "import numpy as np\n",
    "from pathlib import Path\n",
    "import sys"
   ]
  },
  {
   "cell_type": "markdown",
   "metadata": {},
   "source": [
    "Package imports"
   ]
  },
  {
   "cell_type": "code",
   "execution_count": 3,
   "metadata": {},
   "outputs": [],
   "source": [
    "sys.path.append(r\"C:\\Users\\SachaGobeyn\\GitHub\\rfactor\")\n",
    "from rfactor.src.flanders.data_processing import (reformat_resolution,\n",
    "                                                  compute_statistics_inputdata,\n",
    "                                                  ErosivityData) "
   ]
  },
  {
   "cell_type": "markdown",
   "metadata": {},
   "source": [
    "Load completeness per station\n",
    "Compute completeness for every station for every year\n",
    "1. Remove each set (year, station) if no data are reported for December or Januari (value: -1)\n",
    "2. Compute the number of non-NA-values on the non-zero data series (%) (value in [0,1])\n",
    "\n",
    "__NOTE__: These values are computed based on the original rainfall timeseries of KMI and VMM"
   ]
  },
  {
   "cell_type": "code",
   "execution_count": 15,
   "metadata": {},
   "outputs": [],
   "source": [
    "fmap_rainfall=  Path(r\"C:\\Users\\SachaGobeyn\\Dropbox (Fluves)\\FLUVES\\PROJECTS\\FL_P_2020_DepO_CNWSMod_1\\07_results\\2019_rfactor\\data\\v1_rain_data_set_20210318\")\n",
    "fmap_erosivity = Path(r\"C:\\Users\\SachaGobeyn\\GitHub\\rfactor\\rfactor\\src\\rfactor\\results\")\n",
    "path_data_flanders = Path(\"..\",\"..\",\"src\",\"flanders\",\"data\")\n",
    "txt_files= path_data_flanders / \"datafiles_completeness.csv\""
   ]
  },
  {
   "cell_type": "code",
   "execution_count": 16,
   "metadata": {},
   "outputs": [
    {
     "name": "stderr",
     "output_type": "stream",
     "text": [
      "100%|██████████████████████████████████████████████████████████████████████████████████| 56/56 [00:19<00:00,  2.82it/s]\n"
     ]
    },
    {
     "ename": "PermissionError",
     "evalue": "[Errno 13] Permission denied: 'overview_files_stations.csv'",
     "output_type": "error",
     "traceback": [
      "\u001b[1;31m---------------------------------------------------------------------------\u001b[0m",
      "\u001b[1;31mPermissionError\u001b[0m                           Traceback (most recent call last)",
      "\u001b[1;32m<ipython-input-16-3c7e247b2e66>\u001b[0m in \u001b[0;36m<module>\u001b[1;34m\u001b[0m\n\u001b[0;32m      2\u001b[0m \u001b[0mdf_files\u001b[0m \u001b[1;33m=\u001b[0m \u001b[0mdata\u001b[0m\u001b[1;33m.\u001b[0m\u001b[0mbuild_data_set\u001b[0m\u001b[1;33m(\u001b[0m\u001b[0mtxt_files\u001b[0m\u001b[1;33m)\u001b[0m\u001b[1;33m\u001b[0m\u001b[1;33m\u001b[0m\u001b[0m\n\u001b[0;32m      3\u001b[0m \u001b[0mdata\u001b[0m\u001b[1;33m.\u001b[0m\u001b[0mload_data\u001b[0m\u001b[1;33m(\u001b[0m\u001b[0mdf_files\u001b[0m\u001b[1;33m)\u001b[0m\u001b[1;33m\u001b[0m\u001b[1;33m\u001b[0m\u001b[0m\n\u001b[1;32m----> 4\u001b[1;33m \u001b[0mdf_files\u001b[0m\u001b[1;33m.\u001b[0m\u001b[0mto_csv\u001b[0m\u001b[1;33m(\u001b[0m\u001b[1;34m\"overview_files_stations.csv\"\u001b[0m\u001b[1;33m)\u001b[0m\u001b[1;33m\u001b[0m\u001b[1;33m\u001b[0m\u001b[0m\n\u001b[0m",
      "\u001b[1;32m~\\miniconda3\\envs\\cnws\\lib\\site-packages\\pandas\\core\\generic.py\u001b[0m in \u001b[0;36mto_csv\u001b[1;34m(self, path_or_buf, sep, na_rep, float_format, columns, header, index, index_label, mode, encoding, compression, quoting, quotechar, line_terminator, chunksize, date_format, doublequote, escapechar, decimal, errors, storage_options)\u001b[0m\n\u001b[0;32m   3400\u001b[0m             \u001b[0mdoublequote\u001b[0m\u001b[1;33m=\u001b[0m\u001b[0mdoublequote\u001b[0m\u001b[1;33m,\u001b[0m\u001b[1;33m\u001b[0m\u001b[1;33m\u001b[0m\u001b[0m\n\u001b[0;32m   3401\u001b[0m             \u001b[0mescapechar\u001b[0m\u001b[1;33m=\u001b[0m\u001b[0mescapechar\u001b[0m\u001b[1;33m,\u001b[0m\u001b[1;33m\u001b[0m\u001b[1;33m\u001b[0m\u001b[0m\n\u001b[1;32m-> 3402\u001b[1;33m             \u001b[0mstorage_options\u001b[0m\u001b[1;33m=\u001b[0m\u001b[0mstorage_options\u001b[0m\u001b[1;33m,\u001b[0m\u001b[1;33m\u001b[0m\u001b[1;33m\u001b[0m\u001b[0m\n\u001b[0m\u001b[0;32m   3403\u001b[0m         )\n\u001b[0;32m   3404\u001b[0m \u001b[1;33m\u001b[0m\u001b[0m\n",
      "\u001b[1;32m~\\miniconda3\\envs\\cnws\\lib\\site-packages\\pandas\\io\\formats\\format.py\u001b[0m in \u001b[0;36mto_csv\u001b[1;34m(self, path_or_buf, encoding, sep, columns, index_label, mode, compression, quoting, quotechar, line_terminator, chunksize, date_format, doublequote, escapechar, errors, storage_options)\u001b[0m\n\u001b[0;32m   1081\u001b[0m             \u001b[0mformatter\u001b[0m\u001b[1;33m=\u001b[0m\u001b[0mself\u001b[0m\u001b[1;33m.\u001b[0m\u001b[0mfmt\u001b[0m\u001b[1;33m,\u001b[0m\u001b[1;33m\u001b[0m\u001b[1;33m\u001b[0m\u001b[0m\n\u001b[0;32m   1082\u001b[0m         )\n\u001b[1;32m-> 1083\u001b[1;33m         \u001b[0mcsv_formatter\u001b[0m\u001b[1;33m.\u001b[0m\u001b[0msave\u001b[0m\u001b[1;33m(\u001b[0m\u001b[1;33m)\u001b[0m\u001b[1;33m\u001b[0m\u001b[1;33m\u001b[0m\u001b[0m\n\u001b[0m\u001b[0;32m   1084\u001b[0m \u001b[1;33m\u001b[0m\u001b[0m\n\u001b[0;32m   1085\u001b[0m         \u001b[1;32mif\u001b[0m \u001b[0mcreated_buffer\u001b[0m\u001b[1;33m:\u001b[0m\u001b[1;33m\u001b[0m\u001b[1;33m\u001b[0m\u001b[0m\n",
      "\u001b[1;32m~\\miniconda3\\envs\\cnws\\lib\\site-packages\\pandas\\io\\formats\\csvs.py\u001b[0m in \u001b[0;36msave\u001b[1;34m(self)\u001b[0m\n\u001b[0;32m    232\u001b[0m             \u001b[0merrors\u001b[0m\u001b[1;33m=\u001b[0m\u001b[0mself\u001b[0m\u001b[1;33m.\u001b[0m\u001b[0merrors\u001b[0m\u001b[1;33m,\u001b[0m\u001b[1;33m\u001b[0m\u001b[1;33m\u001b[0m\u001b[0m\n\u001b[0;32m    233\u001b[0m             \u001b[0mcompression\u001b[0m\u001b[1;33m=\u001b[0m\u001b[0mself\u001b[0m\u001b[1;33m.\u001b[0m\u001b[0mcompression\u001b[0m\u001b[1;33m,\u001b[0m\u001b[1;33m\u001b[0m\u001b[1;33m\u001b[0m\u001b[0m\n\u001b[1;32m--> 234\u001b[1;33m             \u001b[0mstorage_options\u001b[0m\u001b[1;33m=\u001b[0m\u001b[0mself\u001b[0m\u001b[1;33m.\u001b[0m\u001b[0mstorage_options\u001b[0m\u001b[1;33m,\u001b[0m\u001b[1;33m\u001b[0m\u001b[1;33m\u001b[0m\u001b[0m\n\u001b[0m\u001b[0;32m    235\u001b[0m         ) as handles:\n\u001b[0;32m    236\u001b[0m \u001b[1;33m\u001b[0m\u001b[0m\n",
      "\u001b[1;32m~\\miniconda3\\envs\\cnws\\lib\\site-packages\\pandas\\io\\common.py\u001b[0m in \u001b[0;36mget_handle\u001b[1;34m(path_or_buf, mode, encoding, compression, memory_map, is_text, errors, storage_options)\u001b[0m\n\u001b[0;32m    645\u001b[0m                 \u001b[0mencoding\u001b[0m\u001b[1;33m=\u001b[0m\u001b[0mioargs\u001b[0m\u001b[1;33m.\u001b[0m\u001b[0mencoding\u001b[0m\u001b[1;33m,\u001b[0m\u001b[1;33m\u001b[0m\u001b[1;33m\u001b[0m\u001b[0m\n\u001b[0;32m    646\u001b[0m                 \u001b[0merrors\u001b[0m\u001b[1;33m=\u001b[0m\u001b[0merrors\u001b[0m\u001b[1;33m,\u001b[0m\u001b[1;33m\u001b[0m\u001b[1;33m\u001b[0m\u001b[0m\n\u001b[1;32m--> 647\u001b[1;33m                 \u001b[0mnewline\u001b[0m\u001b[1;33m=\u001b[0m\u001b[1;34m\"\"\u001b[0m\u001b[1;33m,\u001b[0m\u001b[1;33m\u001b[0m\u001b[1;33m\u001b[0m\u001b[0m\n\u001b[0m\u001b[0;32m    648\u001b[0m             )\n\u001b[0;32m    649\u001b[0m         \u001b[1;32melse\u001b[0m\u001b[1;33m:\u001b[0m\u001b[1;33m\u001b[0m\u001b[1;33m\u001b[0m\u001b[0m\n",
      "\u001b[1;31mPermissionError\u001b[0m: [Errno 13] Permission denied: 'overview_files_stations.csv'"
     ]
    }
   ],
   "source": [
    "data = ErosivityData(fmap_rainfall,fmap_erosivity)\n",
    "df_files = data.build_data_set(txt_files)\n",
    "data.load_data(df_files)\n",
    "df_files.to_csv(\"overview_files_stations.csv\")"
   ]
  },
  {
   "cell_type": "markdown",
   "metadata": {},
   "source": [
    "## Ukkel"
   ]
  },
  {
   "cell_type": "code",
   "execution_count": 11,
   "metadata": {},
   "outputs": [
    {
     "name": "stdout",
     "output_type": "stream",
     "text": [
      "range(1898, 2003)\n",
      "958.1058095238096\n",
      "range(2003, 2021)\n",
      "1277.1105882352942\n",
      "range(1898, 2021)\n",
      "1002.5572950819673\n",
      "range(1996, 2021)\n",
      "1237.3845833333332\n",
      "range(1990, 2021)\n",
      "1226.8233333333333\n",
      "range(1990, 2001)\n",
      "1094.6436363636365\n",
      "range(2000, 2021)\n",
      "1272.774\n"
     ]
    }
   ],
   "source": [
    "timeseries = [range(1898,2003,1),\n",
    "              range(2003,2021,1),\n",
    "              range(1898,2021,1),\n",
    "              range(1996,2021,1),\n",
    "              range(1990,2021,1),\n",
    "              range(1990,2001,1),\n",
    "              range(2000,2021,1)]\n",
    "for i in timeseries:\n",
    "    print(i)\n",
    "    df_R=data.load_R([\"KMI_6447\",\"KMI_FS3\"], i)\n",
    "    print(np.mean(df_R[\"value\"]))"
   ]
  },
  {
   "cell_type": "code",
   "execution_count": 12,
   "metadata": {},
   "outputs": [
    {
     "data": {
      "text/plain": [
       "56"
      ]
     },
     "execution_count": 12,
     "metadata": {},
     "output_type": "execute_result"
    }
   ],
   "source": [
    "len(data.stations)"
   ]
  },
  {
   "cell_type": "markdown",
   "metadata": {},
   "source": [
    "## Flanders and Belgium\n",
    "**All stations expect Ukkel**"
   ]
  },
  {
   "cell_type": "code",
   "execution_count": 13,
   "metadata": {},
   "outputs": [
    {
     "name": "stdout",
     "output_type": "stream",
     "text": [
      "1249.8840752351098\n"
     ]
    },
    {
     "data": {
      "text/plain": [
       "54"
      ]
     },
     "execution_count": 13,
     "metadata": {},
     "output_type": "execute_result"
    }
   ],
   "source": [
    "stations_belgium_excl_ukkel = [station for station in data.stations if station not in [\"KMI_6447\",\"KMI_FS3\"]]\n",
    "df_R=data.load_R(stations_belgium_excl_ukkel, i)\n",
    "print(np.mean(df_R[\"value\"]))\n",
    "len(stations_belgium_excl_ukkel)"
   ]
  },
  {
   "cell_type": "markdown",
   "metadata": {},
   "source": [
    "**All stations except Ukkel and Wallonia**"
   ]
  },
  {
   "cell_type": "code",
   "execution_count": 14,
   "metadata": {},
   "outputs": [
    {
     "name": "stdout",
     "output_type": "stream",
     "text": [
      "1222.0887452471484\n"
     ]
    },
    {
     "data": {
      "text/plain": [
       "49"
      ]
     },
     "execution_count": 14,
     "metadata": {},
     "output_type": "execute_result"
    }
   ],
   "source": [
    "stations_flanders_excl_ukkel = [station for station in data.stations if station not in  [\"KMI_6447\",\"KMI_FS3\",\"KMI_6455\",\"KMI_6459\",\"KMI_6472\",\"KMI_6494\",\"KMI_6484\"]]\n",
    "df_R=data.load_R(stations_flanders_excl_ukkel, i)\n",
    "print(np.mean(df_R[\"value\"]))\n",
    "len(stations_flanders_excl_ukkel)"
   ]
  },
  {
   "cell_type": "markdown",
   "metadata": {},
   "source": [
    "## EXTRA"
   ]
  },
  {
   "cell_type": "code",
   "execution_count": null,
   "metadata": {},
   "outputs": [],
   "source": [
    "df_stations_KMI= pd.read_csv(path_data_flanders / \"geoinfo_KMI.csv\", delimiter=\";\")\n",
    "df_stations_VMM = pd.read_csv(path_data_flanders / \"geoinfo_VMM.csv\", delimiter=\",\")\n",
    "df_stations = df_stations_KMI.append(df_stations_VMM)"
   ]
  },
  {
   "cell_type": "code",
   "execution_count": null,
   "metadata": {},
   "outputs": [],
   "source": [
    "df_stations"
   ]
  },
  {
   "cell_type": "markdown",
   "metadata": {},
   "source": [
    "**Compute statistics**  \n",
    "Compute general statistics with .describe() functions,  and couple x and y's. Only "
   ]
  },
  {
   "cell_type": "code",
   "execution_count": null,
   "metadata": {},
   "outputs": [],
   "source": [
    "resmap = \"results\"\n",
    "compute_statistics_inputdata(dict_inputdata, resmap, df_stations)"
   ]
  },
  {
   "cell_type": "markdown",
   "metadata": {},
   "source": [
    "## Compute R-factor"
   ]
  },
  {
   "cell_type": "markdown",
   "metadata": {},
   "source": [
    "Run model with Matlab in terminal (navigate to *C:\\Users\\$USERNAME\\GitHub\\rfactor\\rfactor\\src\\rfactor*, **see README.md**)\n",
    "    \n",
    "    matlab -nodisplay -r \"main('C:\\Users\\\\$USERNAME\\GitHub\\rfactor\\rfactor\\docs\\data\\example_inputdata')\"\n",
    "\n",
    "Results are saved in *C:\\Users\\\\$USERNAME\\GitHub\\rfactor\\rfactor\\src\\rfactor*"
   ]
  },
  {
   "cell_type": "code",
   "execution_count": null,
   "metadata": {},
   "outputs": [],
   "source": [
    "fmap = Path(r\"C:\\Users\\SachaGobeyn\\GitHub\\rfactor\\rfactor\\src\\rfactor\\results\")"
   ]
  },
  {
   "cell_type": "code",
   "execution_count": null,
   "metadata": {},
   "outputs": [],
   "source": [
    "fmap.exists()"
   ]
  },
  {
   "cell_type": "markdown",
   "metadata": {},
   "source": [
    "## Figure"
   ]
  },
  {
   "cell_type": "code",
   "execution_count": null,
   "metadata": {},
   "outputs": [],
   "source": [
    "out = dict_df_output_hm[\"Ukkel_samen\"]\n",
    "plt.figure(figsize=[12,7.5])\n",
    "col = np.arange(1898,2003,1)\n",
    "col = [i for i in col if i in dict_df_output_hm[\"Ukkel_samen\"].columns]\n",
    "plt.plot(col,out[col].iloc[-1],label=\"KMI_FS3 (1898-2002)\")\n",
    "col = np.arange(2002,2019,1)\n",
    "col = [i for i in col if i in dict_df_output_hm[\"Ukkel_samen\"].columns]\n",
    "plt.plot(col,out[col].iloc[-1],label=\"KMI_6447 (2003-2019)\")\n",
    "\n",
    "# rolling mean\n",
    "y = out.iloc[-1].rolling(10).mean()\n",
    "x = y.index\n",
    "plt.plot(x,y,ls=':',lw=3,label='voortschrijdend gemiddelde (10 jaar)')\n",
    "y = out.iloc[-1].rolling(20).mean()\n",
    "x = y.index\n",
    "plt.plot(x,y,ls='--',lw=3,label='voortschrijdend gemiddelde (20 jaar)')\n",
    "y = out.iloc[-1].rolling(30).mean()\n",
    "x = y.index\n",
    "plt.plot(x,y,ls='-.',lw=3,label='voortschrijdend gemiddelde (30 jaar)')\n",
    "plt.ylim([0,3500])\n",
    "plt.xlim([1890,2020])\n",
    "plt.tick_params(axis='both', which='major', labelsize=14)\n",
    "plt.xlabel(r'Jaar (-)',fontsize=16)\n",
    "plt.ylabel(r'Jaarlijkse R [MJ mm ha$^{-1}$ h$^{-1}$ jaar$^{-1}$]',fontsize=16)\n",
    "plt.legend(prop={'size':16})"
   ]
  },
  {
   "cell_type": "markdown",
   "metadata": {},
   "source": [
    "Compare results of Ukkel with other average of other stations"
   ]
  },
  {
   "cell_type": "code",
   "execution_count": null,
   "metadata": {},
   "outputs": [],
   "source": [
    "coldf = [\"station\",\"rc\",\"offset\",\"afstand\",\"p\",\"r_value\",\"n\",\"dR\",\"meanR\"]\n",
    "out = pd.DataFrame(data = np.zeros([len(dict_df_output_hm)-3,len(coldf)]),columns=coldf)\n",
    "ind = 0\n",
    "\n",
    "for i in dict_df_output_hm.keys():\n",
    "    \n",
    "    if (i!=\"Ukkel_samen\") & (i!=\"KMI_FS3\") & (i!=\"KMI_6447\"):\n",
    "        col = dict_df_output_hm[\"Ukkel_samen\"].columns\n",
    "        col_fill_nan = [j for j in col if j not in dict_df_output_hm[i].columns]\n",
    "        for j in col_fill_nan:\n",
    "            dict_df_output_hm[i][j] = np.nan\n",
    "        y = dict_df_output_hm[i][col].iloc[-1]\n",
    "        x = dict_df_output_hm[\"Ukkel_samen\"][col].iloc[-1]\n",
    "        x = x[~np.isnan(y)]        \n",
    "        y = y[~np.isnan(y)]\n",
    "        df_i = pd.DataFrame()\n",
    "        df_i[i] = x.values.flatten()\n",
    "        df_i[\"Ukkel (KMI_FS3 & KMI_6447)\"] = y.values.flatten()\n",
    "        df_i = df_i.sort_values(\"Ukkel (KMI_FS3 & KMI_6447)\")\n",
    "        \n",
    "        out[\"dR\"].loc[ind] = np.mean(dict_df_output_hm[i].iloc[-1])-np.mean(dict_df_output_hm[\"Ukkel_samen\"].iloc[-1])\n",
    "        out[\"meanR\"].loc[ind] = np.mean(dict_df_output_hm[i].iloc[-1])\n",
    "        ind += 1\n",
    "\n",
    "out.to_csv(Path(resmap) / \"stat_allstations_res.csv\")"
   ]
  },
  {
   "cell_type": "code",
   "execution_count": null,
   "metadata": {},
   "outputs": [],
   "source": []
  }
 ],
 "metadata": {
  "kernelspec": {
   "display_name": "Python [conda env:cnws]",
   "language": "python",
   "name": "conda-env-cnws-py"
  },
  "language_info": {
   "codemirror_mode": {
    "name": "ipython",
    "version": 3
   },
   "file_extension": ".py",
   "mimetype": "text/x-python",
   "name": "python",
   "nbconvert_exporter": "python",
   "pygments_lexer": "ipython3",
   "version": "3.7.9"
  },
  "toc": {
   "base_numbering": 1,
   "nav_menu": {},
   "number_sections": true,
   "sideBar": true,
   "skip_h1_title": false,
   "title_cell": "Table of Contents",
   "title_sidebar": "Contents",
   "toc_cell": false,
   "toc_position": {},
   "toc_section_display": true,
   "toc_window_display": false
  },
  "varInspector": {
   "cols": {
    "lenName": 16,
    "lenType": 16,
    "lenVar": 40
   },
   "kernels_config": {
    "python": {
     "delete_cmd_postfix": "",
     "delete_cmd_prefix": "del ",
     "library": "var_list.py",
     "varRefreshCmd": "print(var_dic_list())"
    },
    "r": {
     "delete_cmd_postfix": ") ",
     "delete_cmd_prefix": "rm(",
     "library": "var_list.r",
     "varRefreshCmd": "cat(var_dic_list()) "
    }
   },
   "types_to_exclude": [
    "module",
    "function",
    "builtin_function_or_method",
    "instance",
    "_Feature"
   ],
   "window_display": false
  }
 },
 "nbformat": 4,
 "nbformat_minor": 4
}
