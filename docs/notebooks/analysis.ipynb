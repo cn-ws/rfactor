{
 "cells": [
  {
   "cell_type": "code",
   "execution_count": 1,
   "metadata": {},
   "outputs": [],
   "source": [
    "%load_ext autoreload\n",
    "%autoreload 2"
   ]
  },
  {
   "cell_type": "markdown",
   "metadata": {},
   "source": [
    "## Aim"
   ]
  },
  {
   "cell_type": "markdown",
   "metadata": {},
   "source": [
    "## Imports\n",
    "Main imports"
   ]
  },
  {
   "cell_type": "code",
   "execution_count": 2,
   "metadata": {},
   "outputs": [],
   "source": [
    "import matplotlib.pyplot as plt \n",
    "import pandas as pd\n",
    "import numpy as np\n",
    "from pathlib import Path\n",
    "import sys"
   ]
  },
  {
   "cell_type": "markdown",
   "metadata": {},
   "source": [
    "Package imports"
   ]
  },
  {
   "cell_type": "code",
   "execution_count": 3,
   "metadata": {},
   "outputs": [],
   "source": [
    "from rfactor.process import (ErosivityData, compute_rainfall_statistics)"
   ]
  },
  {
   "cell_type": "markdown",
   "metadata": {},
   "source": [
    "Load completeness per station\n",
    "Compute completeness for every station for every year\n",
    "1. Remove each set (year, station) if no data are reported for December or Januari (value: -1)\n",
    "2. Compute the number of non-NA-values on the non-zero data series (%) (value in [0,1])\n",
    "\n",
    "__NOTE__: These values are computed based on the original rainfall timeseries of KMI and VMM"
   ]
  },
  {
   "cell_type": "code",
   "execution_count": 8,
   "metadata": {},
   "outputs": [
    {
     "name": "stderr",
     "output_type": "stream",
     "text": [
      "[autoreload of rfactor.process failed: Traceback (most recent call last):\n",
      "  File \"C:\\Users\\SachaGobeyn\\miniconda3\\envs\\rfactor\\lib\\site-packages\\IPython\\extensions\\autoreload.py\", line 245, in check\n",
      "    superreload(m, reload, self.old_objects)\n",
      "  File \"C:\\Users\\SachaGobeyn\\miniconda3\\envs\\rfactor\\lib\\site-packages\\IPython\\extensions\\autoreload.py\", line 410, in superreload\n",
      "    update_generic(old_obj, new_obj)\n",
      "  File \"C:\\Users\\SachaGobeyn\\miniconda3\\envs\\rfactor\\lib\\site-packages\\IPython\\extensions\\autoreload.py\", line 347, in update_generic\n",
      "    update(a, b)\n",
      "  File \"C:\\Users\\SachaGobeyn\\miniconda3\\envs\\rfactor\\lib\\site-packages\\IPython\\extensions\\autoreload.py\", line 292, in update_class\n",
      "    if (old_obj == new_obj) is True:\n",
      "  File \"C:\\Users\\SachaGobeyn\\miniconda3\\envs\\rfactor\\lib\\site-packages\\pandas\\core\\generic.py\", line 1442, in __nonzero__\n",
      "    raise ValueError(\n",
      "ValueError: The truth value of a DataFrame is ambiguous. Use a.empty, a.bool(), a.item(), a.any() or a.all().\n",
      "]\n"
     ]
    }
   ],
   "source": [
    "fmap_rainfall=  Path(r\"C:\\Users\\SachaGobeyn\\GitHub\\rfactor\\tests\\data\\test_rainfalldata\")\n",
    "fmap_erosivity = Path(r\"C:\\Users\\SachaGobeyn\\GitHub\\rfactor\\tests\\data\\test_erosivitydata\")\n",
    "path_data_flanders = Path(r\"C:\\Users\\SachaGobeyn\\GitHub\\rfactor\\tests\\data\")\n",
    "txt_files= path_data_flanders / \"files.csv\""
   ]
  },
  {
   "cell_type": "code",
   "execution_count": 9,
   "metadata": {},
   "outputs": [
    {
     "name": "stderr",
     "output_type": "stream",
     "text": [
      "100%|██████████████████████████████████████████████████████████████████████████████████| 56/56 [00:38<00:00,  1.44it/s]\n"
     ]
    }
   ],
   "source": [
    "data = ErosivityData(fmap_rainfall,fmap_erosivity)\n",
    "df_files = data.build_data_set(txt_files)\n",
    "data.load_data(df_files)\n",
    "df_files.to_csv(\"overview_files_stations.csv\")"
   ]
  },
  {
   "cell_type": "markdown",
   "metadata": {},
   "source": [
    "## Ukkel"
   ]
  },
  {
   "cell_type": "code",
   "execution_count": 33,
   "metadata": {},
   "outputs": [
    {
     "name": "stdout",
     "output_type": "stream",
     "text": [
      "range(1898, 2003)\n",
      "958.1058095238096\n",
      "range(2003, 2021)\n",
      "1313.013125\n",
      "range(1898, 2021)\n",
      "1005.0357024793389\n",
      "range(1996, 2021)\n",
      "1260.6330434782608\n",
      "range(1990, 2021)\n",
      "1244.8975862068964\n",
      "range(1990, 2001)\n",
      "1094.6436363636365\n",
      "range(2000, 2021)\n",
      "1302.7794736842104\n"
     ]
    }
   ],
   "source": [
    "timeseries = [range(1898,2003,1),\n",
    "              range(2003,2021,1),\n",
    "              range(1898,2021,1),\n",
    "              range(1996,2021,1),\n",
    "              range(1990,2021,1),\n",
    "              range(1990,2001,1),\n",
    "              range(2000,2021,1)]\n",
    "for i in timeseries:\n",
    "    print(i)\n",
    "    df_R=data.load_R([\"KMI_6447\",\"KMI_FS3\"], i)\n",
    "    print(np.mean(df_R[\"value\"]))"
   ]
  },
  {
   "cell_type": "code",
   "execution_count": 16,
   "metadata": {},
   "outputs": [
    {
     "data": {
      "text/plain": [
       "58"
      ]
     },
     "execution_count": 16,
     "metadata": {},
     "output_type": "execute_result"
    }
   ],
   "source": [
    "len(data.stations)"
   ]
  },
  {
   "cell_type": "markdown",
   "metadata": {},
   "source": [
    "## Flanders and Belgium\n",
    "**All stations expect Ukkel**"
   ]
  },
  {
   "cell_type": "code",
   "execution_count": 110,
   "metadata": {},
   "outputs": [
    {
     "name": "stderr",
     "output_type": "stream",
     "text": [
      "[autoreload of rfactor.process failed: Traceback (most recent call last):\n",
      "  File \"C:\\Users\\SachaGobeyn\\miniconda3\\envs\\rfactor\\lib\\site-packages\\IPython\\extensions\\autoreload.py\", line 245, in check\n",
      "  File \"C:\\Users\\SachaGobeyn\\miniconda3\\envs\\rfactor\\lib\\site-packages\\IPython\\extensions\\autoreload.py\", line 410, in superreload\n",
      "  File \"C:\\Users\\SachaGobeyn\\miniconda3\\envs\\rfactor\\lib\\site-packages\\IPython\\extensions\\autoreload.py\", line 347, in update_generic\n",
      "  File \"C:\\Users\\SachaGobeyn\\miniconda3\\envs\\rfactor\\lib\\site-packages\\IPython\\extensions\\autoreload.py\", line 292, in update_class\n",
      "  File \"C:\\Users\\SachaGobeyn\\miniconda3\\envs\\rfactor\\lib\\site-packages\\pandas\\core\\generic.py\", line 1442, in __nonzero__\n",
      "    raise ValueError(\n",
      "ValueError: The truth value of a DataFrame is ambiguous. Use a.empty, a.bool(), a.item(), a.any() or a.all().\n",
      "]\n"
     ]
    },
    {
     "name": "stdout",
     "output_type": "stream",
     "text": [
      "> \u001b[1;32mc:\\users\\sachagobeyn\\github\\rfactor\\src\\rfactor\\process.py\u001b[0m(392)\u001b[0;36mload_df_station\u001b[1;34m()\u001b[0m\n",
      "\u001b[1;32m    390 \u001b[1;33m                \u001b[0mdict_output\u001b[0m\u001b[1;33m[\u001b[0m\u001b[0myear\u001b[0m\u001b[1;33m]\u001b[0m \u001b[1;33m=\u001b[0m \u001b[0mget_EI30\u001b[0m\u001b[1;33m(\u001b[0m\u001b[0mdict_data\u001b[0m\u001b[1;33m,\u001b[0m \u001b[0myear\u001b[0m\u001b[1;33m,\u001b[0m \u001b[0mfrequency\u001b[0m\u001b[1;33m=\u001b[0m\u001b[0mfrequency\u001b[0m\u001b[1;33m)\u001b[0m\u001b[1;33m\u001b[0m\u001b[1;33m\u001b[0m\u001b[0m\n",
      "\u001b[0m\u001b[1;32m    391 \u001b[1;33m    \u001b[1;32mimport\u001b[0m \u001b[0mpdb\u001b[0m\u001b[1;33m;\u001b[0m\u001b[0mpdb\u001b[0m\u001b[1;33m.\u001b[0m\u001b[0mset_trace\u001b[0m\u001b[1;33m(\u001b[0m\u001b[1;33m)\u001b[0m\u001b[1;33m\u001b[0m\u001b[1;33m\u001b[0m\u001b[0m\n",
      "\u001b[0m\u001b[1;32m--> 392 \u001b[1;33m    \u001b[1;32mreturn\u001b[0m \u001b[0mdf\u001b[0m\u001b[1;33m\u001b[0m\u001b[1;33m\u001b[0m\u001b[0m\n",
      "\u001b[0m\u001b[1;32m    393 \u001b[1;33m\u001b[1;33m\u001b[0m\u001b[0m\n",
      "\u001b[0m\u001b[1;32m    394 \u001b[1;33m\u001b[1;33m\u001b[0m\u001b[0m\n",
      "\u001b[0m\n"
     ]
    },
    {
     "name": "stdin",
     "output_type": "stream",
     "text": [
      "ipdb>  df\n"
     ]
    },
    {
     "name": "stdout",
     "output_type": "stream",
     "text": [
      "   year    value\n",
      "0  2004  1409.88\n",
      "1  2005  2824.48\n",
      "2  2006  1128.24\n",
      "3  2007  1662.33\n",
      "4  2008  1321.46\n",
      "5  2010  1336.45\n",
      "6  2013  1047.68\n",
      "7  2014  1599.69\n",
      "8  2016  1256.18\n",
      "9  2017   827.25\n"
     ]
    },
    {
     "name": "stdin",
     "output_type": "stream",
     "text": [
      "ipdb>  exit\n"
     ]
    },
    {
     "ename": "BdbQuit",
     "evalue": "",
     "output_type": "error",
     "traceback": [
      "\u001b[1;31m---------------------------------------------------------------------------\u001b[0m",
      "\u001b[1;31mBdbQuit\u001b[0m                                   Traceback (most recent call last)",
      "\u001b[1;32m<ipython-input-110-06b04cc1280d>\u001b[0m in \u001b[0;36m<module>\u001b[1;34m\u001b[0m\n\u001b[0;32m      1\u001b[0m \u001b[0mstations_belgium_excl_ukkel\u001b[0m \u001b[1;33m=\u001b[0m \u001b[1;33m[\u001b[0m\u001b[0mstation\u001b[0m \u001b[1;32mfor\u001b[0m \u001b[0mstation\u001b[0m \u001b[1;32min\u001b[0m \u001b[0mdata\u001b[0m\u001b[1;33m.\u001b[0m\u001b[0mstations\u001b[0m \u001b[1;32mif\u001b[0m \u001b[0mstation\u001b[0m \u001b[1;32mnot\u001b[0m \u001b[1;32min\u001b[0m \u001b[1;33m[\u001b[0m\u001b[1;34m\"KMI_6447\"\u001b[0m\u001b[1;33m,\u001b[0m\u001b[1;34m\"KMI_FS3\"\u001b[0m\u001b[1;33m]\u001b[0m\u001b[1;33m]\u001b[0m\u001b[1;33m\u001b[0m\u001b[1;33m\u001b[0m\u001b[0m\n\u001b[1;32m----> 2\u001b[1;33m \u001b[0mdf_R\u001b[0m\u001b[1;33m=\u001b[0m\u001b[0mdata\u001b[0m\u001b[1;33m.\u001b[0m\u001b[0mload_R\u001b[0m\u001b[1;33m(\u001b[0m\u001b[0mstations_belgium_excl_ukkel\u001b[0m\u001b[1;33m,\u001b[0m \u001b[0mi\u001b[0m\u001b[1;33m)\u001b[0m\u001b[1;33m\u001b[0m\u001b[1;33m\u001b[0m\u001b[0m\n\u001b[0m\u001b[0;32m      3\u001b[0m \u001b[0mprint\u001b[0m\u001b[1;33m(\u001b[0m\u001b[0mnp\u001b[0m\u001b[1;33m.\u001b[0m\u001b[0mmean\u001b[0m\u001b[1;33m(\u001b[0m\u001b[0mdf_R\u001b[0m\u001b[1;33m[\u001b[0m\u001b[1;34m\"value\"\u001b[0m\u001b[1;33m]\u001b[0m\u001b[1;33m)\u001b[0m\u001b[1;33m)\u001b[0m\u001b[1;33m\u001b[0m\u001b[1;33m\u001b[0m\u001b[0m\n\u001b[0;32m      4\u001b[0m \u001b[0mlen\u001b[0m\u001b[1;33m(\u001b[0m\u001b[0mstations_belgium_excl_ukkel\u001b[0m\u001b[1;33m)\u001b[0m\u001b[1;33m\u001b[0m\u001b[1;33m\u001b[0m\u001b[0m\n",
      "\u001b[1;32mc:\\users\\sachagobeyn\\github\\rfactor\\src\\rfactor\\process.py\u001b[0m in \u001b[0;36mload_R\u001b[1;34m(self, stations, years)\u001b[0m\n\u001b[0;32m    191\u001b[0m             \u001b[0msee\u001b[0m\u001b[0;31m \u001b[0m\u001b[0;31m`\u001b[0m\u001b[1;33m:\u001b[0m\u001b[0mfunc\u001b[0m\u001b[1;33m:\u001b[0m\u001b[0mrfactor\u001b[0m\u001b[1;33m.\u001b[0m\u001b[0mrfactor\u001b[0m\u001b[1;33m.\u001b[0m\u001b[0mload_R\u001b[0m\u001b[0;31m`\u001b[0m\u001b[1;33m\u001b[0m\u001b[1;33m\u001b[0m\u001b[0m\n\u001b[0;32m    192\u001b[0m         \"\"\"\n\u001b[1;32m--> 193\u001b[1;33m         \u001b[1;32mreturn\u001b[0m \u001b[0mload_dict_format\u001b[0m\u001b[1;33m(\u001b[0m\u001b[0mself\u001b[0m\u001b[1;33m.\u001b[0m\u001b[0mdict_erosivity_data\u001b[0m\u001b[1;33m,\u001b[0m \u001b[1;34m\"R\"\u001b[0m\u001b[1;33m,\u001b[0m \u001b[0mstations\u001b[0m\u001b[1;33m,\u001b[0m \u001b[0myears\u001b[0m\u001b[1;33m)\u001b[0m\u001b[1;33m\u001b[0m\u001b[1;33m\u001b[0m\u001b[0m\n\u001b[0m\u001b[0;32m    194\u001b[0m \u001b[1;33m\u001b[0m\u001b[0m\n\u001b[0;32m    195\u001b[0m     \u001b[1;32mdef\u001b[0m \u001b[0mload_EI30\u001b[0m\u001b[1;33m(\u001b[0m\u001b[0mself\u001b[0m\u001b[1;33m,\u001b[0m\u001b[0mstations\u001b[0m\u001b[1;33m=\u001b[0m\u001b[1;33m[\u001b[0m\u001b[1;33m]\u001b[0m\u001b[1;33m,\u001b[0m\u001b[0myear\u001b[0m\u001b[1;33m=\u001b[0m\u001b[1;33m[\u001b[0m\u001b[1;33m]\u001b[0m\u001b[1;33m,\u001b[0m\u001b[0mfrequency\u001b[0m\u001b[1;33m=\u001b[0m\u001b[1;34m\"SM\"\u001b[0m\u001b[1;33m)\u001b[0m\u001b[1;33m:\u001b[0m\u001b[1;33m\u001b[0m\u001b[1;33m\u001b[0m\u001b[0m\n",
      "\u001b[1;32mc:\\users\\sachagobeyn\\github\\rfactor\\src\\rfactor\\process.py\u001b[0m in \u001b[0;36mload_dict_format\u001b[1;34m(dict_data, variable, stations, years, frequency)\u001b[0m\n\u001b[0;32m    350\u001b[0m         \u001b[1;32mif\u001b[0m \u001b[0mstation\u001b[0m \u001b[1;33m==\u001b[0m \u001b[1;34m\"P10_042\"\u001b[0m\u001b[1;33m:\u001b[0m\u001b[1;33m\u001b[0m\u001b[1;33m\u001b[0m\u001b[0m\n\u001b[0;32m    351\u001b[0m             \u001b[1;32mimport\u001b[0m \u001b[0mpdb\u001b[0m\u001b[1;33m;\u001b[0m\u001b[0mpdb\u001b[0m\u001b[1;33m.\u001b[0m\u001b[0mset_trace\u001b[0m\u001b[1;33m(\u001b[0m\u001b[1;33m)\u001b[0m\u001b[1;33m\u001b[0m\u001b[1;33m\u001b[0m\u001b[0m\n\u001b[1;32m--> 352\u001b[1;33m         \u001b[0mdf\u001b[0m \u001b[1;33m=\u001b[0m \u001b[0mload_df_station\u001b[0m\u001b[1;33m(\u001b[0m\u001b[0mdict_data\u001b[0m\u001b[1;33m[\u001b[0m\u001b[0mstation\u001b[0m\u001b[1;33m]\u001b[0m\u001b[1;33m,\u001b[0m \u001b[0mvariable\u001b[0m\u001b[1;33m,\u001b[0m \u001b[0myears\u001b[0m\u001b[1;33m,\u001b[0m \u001b[0mfrequency\u001b[0m\u001b[1;33m=\u001b[0m\u001b[0mfrequency\u001b[0m\u001b[1;33m)\u001b[0m\u001b[1;33m\u001b[0m\u001b[1;33m\u001b[0m\u001b[0m\n\u001b[0m\u001b[0;32m    353\u001b[0m         \u001b[0mdf\u001b[0m\u001b[1;33m[\u001b[0m\u001b[1;34m\"station\"\u001b[0m\u001b[1;33m]\u001b[0m \u001b[1;33m=\u001b[0m \u001b[0mstation\u001b[0m\u001b[1;33m\u001b[0m\u001b[1;33m\u001b[0m\u001b[0m\n\u001b[0;32m    354\u001b[0m         \u001b[0mlst_df\u001b[0m\u001b[1;33m.\u001b[0m\u001b[0mappend\u001b[0m\u001b[1;33m(\u001b[0m\u001b[0mdf\u001b[0m\u001b[1;33m)\u001b[0m\u001b[1;33m\u001b[0m\u001b[1;33m\u001b[0m\u001b[0m\n",
      "\u001b[1;32mc:\\users\\sachagobeyn\\github\\rfactor\\src\\rfactor\\process.py\u001b[0m in \u001b[0;36mload_df_station\u001b[1;34m(dict_data, variable, years, frequency)\u001b[0m\n\u001b[0;32m    390\u001b[0m         \u001b[1;32mfor\u001b[0m \u001b[0myear\u001b[0m \u001b[1;32min\u001b[0m \u001b[0mlst_years\u001b[0m\u001b[1;33m:\u001b[0m\u001b[1;33m\u001b[0m\u001b[1;33m\u001b[0m\u001b[0m\n\u001b[0;32m    391\u001b[0m             \u001b[1;32mif\u001b[0m \u001b[0myear\u001b[0m \u001b[1;32min\u001b[0m \u001b[0mdict_data\u001b[0m\u001b[1;33m.\u001b[0m\u001b[0mkeys\u001b[0m\u001b[1;33m(\u001b[0m\u001b[1;33m)\u001b[0m\u001b[1;33m:\u001b[0m\u001b[1;33m\u001b[0m\u001b[1;33m\u001b[0m\u001b[0m\n\u001b[1;32m--> 392\u001b[1;33m                 \u001b[0mdict_output\u001b[0m\u001b[1;33m[\u001b[0m\u001b[0myear\u001b[0m\u001b[1;33m]\u001b[0m \u001b[1;33m=\u001b[0m \u001b[0mget_EI30\u001b[0m\u001b[1;33m(\u001b[0m\u001b[0mdict_data\u001b[0m\u001b[1;33m,\u001b[0m \u001b[0myear\u001b[0m\u001b[1;33m,\u001b[0m \u001b[0mfrequency\u001b[0m\u001b[1;33m=\u001b[0m\u001b[0mfrequency\u001b[0m\u001b[1;33m)\u001b[0m\u001b[1;33m\u001b[0m\u001b[1;33m\u001b[0m\u001b[0m\n\u001b[0m\u001b[0;32m    393\u001b[0m     \u001b[1;32mimport\u001b[0m \u001b[0mpdb\u001b[0m\u001b[1;33m;\u001b[0m\u001b[0mpdb\u001b[0m\u001b[1;33m.\u001b[0m\u001b[0mset_trace\u001b[0m\u001b[1;33m(\u001b[0m\u001b[1;33m)\u001b[0m\u001b[1;33m\u001b[0m\u001b[1;33m\u001b[0m\u001b[0m\n\u001b[0;32m    394\u001b[0m     \u001b[1;32mreturn\u001b[0m \u001b[0mdf\u001b[0m\u001b[1;33m\u001b[0m\u001b[1;33m\u001b[0m\u001b[0m\n",
      "\u001b[1;32mc:\\users\\sachagobeyn\\github\\rfactor\\src\\rfactor\\process.py\u001b[0m in \u001b[0;36mload_df_station\u001b[1;34m(dict_data, variable, years, frequency)\u001b[0m\n\u001b[0;32m    390\u001b[0m         \u001b[1;32mfor\u001b[0m \u001b[0myear\u001b[0m \u001b[1;32min\u001b[0m \u001b[0mlst_years\u001b[0m\u001b[1;33m:\u001b[0m\u001b[1;33m\u001b[0m\u001b[1;33m\u001b[0m\u001b[0m\n\u001b[0;32m    391\u001b[0m             \u001b[1;32mif\u001b[0m \u001b[0myear\u001b[0m \u001b[1;32min\u001b[0m \u001b[0mdict_data\u001b[0m\u001b[1;33m.\u001b[0m\u001b[0mkeys\u001b[0m\u001b[1;33m(\u001b[0m\u001b[1;33m)\u001b[0m\u001b[1;33m:\u001b[0m\u001b[1;33m\u001b[0m\u001b[1;33m\u001b[0m\u001b[0m\n\u001b[1;32m--> 392\u001b[1;33m                 \u001b[0mdict_output\u001b[0m\u001b[1;33m[\u001b[0m\u001b[0myear\u001b[0m\u001b[1;33m]\u001b[0m \u001b[1;33m=\u001b[0m \u001b[0mget_EI30\u001b[0m\u001b[1;33m(\u001b[0m\u001b[0mdict_data\u001b[0m\u001b[1;33m,\u001b[0m \u001b[0myear\u001b[0m\u001b[1;33m,\u001b[0m \u001b[0mfrequency\u001b[0m\u001b[1;33m=\u001b[0m\u001b[0mfrequency\u001b[0m\u001b[1;33m)\u001b[0m\u001b[1;33m\u001b[0m\u001b[1;33m\u001b[0m\u001b[0m\n\u001b[0m\u001b[0;32m    393\u001b[0m     \u001b[1;32mimport\u001b[0m \u001b[0mpdb\u001b[0m\u001b[1;33m;\u001b[0m\u001b[0mpdb\u001b[0m\u001b[1;33m.\u001b[0m\u001b[0mset_trace\u001b[0m\u001b[1;33m(\u001b[0m\u001b[1;33m)\u001b[0m\u001b[1;33m\u001b[0m\u001b[1;33m\u001b[0m\u001b[0m\n\u001b[0;32m    394\u001b[0m     \u001b[1;32mreturn\u001b[0m \u001b[0mdf\u001b[0m\u001b[1;33m\u001b[0m\u001b[1;33m\u001b[0m\u001b[0m\n",
      "\u001b[1;32m~\\miniconda3\\envs\\rfactor\\lib\\bdb.py\u001b[0m in \u001b[0;36mtrace_dispatch\u001b[1;34m(self, frame, event, arg)\u001b[0m\n\u001b[0;32m     86\u001b[0m             \u001b[1;32mreturn\u001b[0m \u001b[1;31m# None\u001b[0m\u001b[1;33m\u001b[0m\u001b[1;33m\u001b[0m\u001b[0m\n\u001b[0;32m     87\u001b[0m         \u001b[1;32mif\u001b[0m \u001b[0mevent\u001b[0m \u001b[1;33m==\u001b[0m \u001b[1;34m'line'\u001b[0m\u001b[1;33m:\u001b[0m\u001b[1;33m\u001b[0m\u001b[1;33m\u001b[0m\u001b[0m\n\u001b[1;32m---> 88\u001b[1;33m             \u001b[1;32mreturn\u001b[0m \u001b[0mself\u001b[0m\u001b[1;33m.\u001b[0m\u001b[0mdispatch_line\u001b[0m\u001b[1;33m(\u001b[0m\u001b[0mframe\u001b[0m\u001b[1;33m)\u001b[0m\u001b[1;33m\u001b[0m\u001b[1;33m\u001b[0m\u001b[0m\n\u001b[0m\u001b[0;32m     89\u001b[0m         \u001b[1;32mif\u001b[0m \u001b[0mevent\u001b[0m \u001b[1;33m==\u001b[0m \u001b[1;34m'call'\u001b[0m\u001b[1;33m:\u001b[0m\u001b[1;33m\u001b[0m\u001b[1;33m\u001b[0m\u001b[0m\n\u001b[0;32m     90\u001b[0m             \u001b[1;32mreturn\u001b[0m \u001b[0mself\u001b[0m\u001b[1;33m.\u001b[0m\u001b[0mdispatch_call\u001b[0m\u001b[1;33m(\u001b[0m\u001b[0mframe\u001b[0m\u001b[1;33m,\u001b[0m \u001b[0marg\u001b[0m\u001b[1;33m)\u001b[0m\u001b[1;33m\u001b[0m\u001b[1;33m\u001b[0m\u001b[0m\n",
      "\u001b[1;32m~\\miniconda3\\envs\\rfactor\\lib\\bdb.py\u001b[0m in \u001b[0;36mdispatch_line\u001b[1;34m(self, frame)\u001b[0m\n\u001b[0;32m    111\u001b[0m         \u001b[1;32mif\u001b[0m \u001b[0mself\u001b[0m\u001b[1;33m.\u001b[0m\u001b[0mstop_here\u001b[0m\u001b[1;33m(\u001b[0m\u001b[0mframe\u001b[0m\u001b[1;33m)\u001b[0m \u001b[1;32mor\u001b[0m \u001b[0mself\u001b[0m\u001b[1;33m.\u001b[0m\u001b[0mbreak_here\u001b[0m\u001b[1;33m(\u001b[0m\u001b[0mframe\u001b[0m\u001b[1;33m)\u001b[0m\u001b[1;33m:\u001b[0m\u001b[1;33m\u001b[0m\u001b[1;33m\u001b[0m\u001b[0m\n\u001b[0;32m    112\u001b[0m             \u001b[0mself\u001b[0m\u001b[1;33m.\u001b[0m\u001b[0muser_line\u001b[0m\u001b[1;33m(\u001b[0m\u001b[0mframe\u001b[0m\u001b[1;33m)\u001b[0m\u001b[1;33m\u001b[0m\u001b[1;33m\u001b[0m\u001b[0m\n\u001b[1;32m--> 113\u001b[1;33m             \u001b[1;32mif\u001b[0m \u001b[0mself\u001b[0m\u001b[1;33m.\u001b[0m\u001b[0mquitting\u001b[0m\u001b[1;33m:\u001b[0m \u001b[1;32mraise\u001b[0m \u001b[0mBdbQuit\u001b[0m\u001b[1;33m\u001b[0m\u001b[1;33m\u001b[0m\u001b[0m\n\u001b[0m\u001b[0;32m    114\u001b[0m         \u001b[1;32mreturn\u001b[0m \u001b[0mself\u001b[0m\u001b[1;33m.\u001b[0m\u001b[0mtrace_dispatch\u001b[0m\u001b[1;33m\u001b[0m\u001b[1;33m\u001b[0m\u001b[0m\n\u001b[0;32m    115\u001b[0m \u001b[1;33m\u001b[0m\u001b[0m\n",
      "\u001b[1;31mBdbQuit\u001b[0m: "
     ]
    }
   ],
   "source": [
    "stations_belgium_excl_ukkel = [station for station in data.stations if station not in [\"KMI_6447\",\"KMI_FS3\"]]\n",
    "df_R=data.load_R(stations_belgium_excl_ukkel, i)\n",
    "print(np.mean(df_R[\"value\"]))\n",
    "len(stations_belgium_excl_ukkel)"
   ]
  },
  {
   "cell_type": "markdown",
   "metadata": {},
   "source": [
    "**All stations except Ukkel and Wallonia**"
   ]
  },
  {
   "cell_type": "code",
   "execution_count": 94,
   "metadata": {},
   "outputs": [
    {
     "name": "stdout",
     "output_type": "stream",
     "text": [
      "1235.2283858267717\n"
     ]
    },
    {
     "data": {
      "text/plain": [
       "49"
      ]
     },
     "execution_count": 94,
     "metadata": {},
     "output_type": "execute_result"
    }
   ],
   "source": [
    "stations_flanders_excl_ukkel = [station for station in data.stations if station not in  [\"KMI_6447\",\"KMI_FS3\",\"KMI_6455\",\"KMI_6459\",\"KMI_6472\",\"KMI_6494\",\"KMI_6484\"]]\n",
    "df_R=data.load_R(stations_flanders_excl_ukkel, i)\n",
    "print(np.mean(df_R[\"value\"]))\n",
    "len(stations_flanders_excl_ukkel)"
   ]
  },
  {
   "cell_type": "markdown",
   "metadata": {},
   "source": [
    "## Rainfall statistics"
   ]
  },
  {
   "cell_type": "code",
   "execution_count": 111,
   "metadata": {},
   "outputs": [
    {
     "name": "stderr",
     "output_type": "stream",
     "text": [
      "[autoreload of rfactor.process failed: Traceback (most recent call last):\n",
      "  File \"C:\\Users\\SachaGobeyn\\miniconda3\\envs\\rfactor\\lib\\site-packages\\IPython\\extensions\\autoreload.py\", line 245, in check\n",
      "  File \"C:\\Users\\SachaGobeyn\\miniconda3\\envs\\rfactor\\lib\\site-packages\\IPython\\extensions\\autoreload.py\", line 410, in superreload\n",
      "  File \"C:\\Users\\SachaGobeyn\\miniconda3\\envs\\rfactor\\lib\\site-packages\\IPython\\extensions\\autoreload.py\", line 347, in update_generic\n",
      "  File \"C:\\Users\\SachaGobeyn\\miniconda3\\envs\\rfactor\\lib\\site-packages\\IPython\\extensions\\autoreload.py\", line 292, in update_class\n",
      "  File \"C:\\Users\\SachaGobeyn\\miniconda3\\envs\\rfactor\\lib\\site-packages\\pandas\\core\\generic.py\", line 1442, in __nonzero__\n",
      "    raise ValueError(\n",
      "ValueError: The truth value of a DataFrame is ambiguous. Use a.empty, a.bool(), a.item(), a.any() or a.all().\n",
      "]\n"
     ]
    },
    {
     "name": "stdout",
     "output_type": "stream",
     "text": [
      "> \u001b[1;32mc:\\users\\sachagobeyn\\github\\rfactor\\src\\rfactor\\process.py\u001b[0m(394)\u001b[0;36mload_df_station\u001b[1;34m()\u001b[0m\n",
      "\u001b[1;32m    392 \u001b[1;33m                \u001b[0mdict_output\u001b[0m\u001b[1;33m[\u001b[0m\u001b[0myear\u001b[0m\u001b[1;33m]\u001b[0m \u001b[1;33m=\u001b[0m \u001b[0mget_EI30\u001b[0m\u001b[1;33m(\u001b[0m\u001b[0mdict_data\u001b[0m\u001b[1;33m,\u001b[0m \u001b[0myear\u001b[0m\u001b[1;33m,\u001b[0m \u001b[0mfrequency\u001b[0m\u001b[1;33m=\u001b[0m\u001b[0mfrequency\u001b[0m\u001b[1;33m)\u001b[0m\u001b[1;33m\u001b[0m\u001b[1;33m\u001b[0m\u001b[0m\n",
      "\u001b[0m\u001b[1;32m    393 \u001b[1;33m    \u001b[1;32mimport\u001b[0m \u001b[0mpdb\u001b[0m\u001b[1;33m;\u001b[0m\u001b[0mpdb\u001b[0m\u001b[1;33m.\u001b[0m\u001b[0mset_trace\u001b[0m\u001b[1;33m(\u001b[0m\u001b[1;33m)\u001b[0m\u001b[1;33m\u001b[0m\u001b[1;33m\u001b[0m\u001b[0m\n",
      "\u001b[0m\u001b[1;32m--> 394 \u001b[1;33m    \u001b[1;32mreturn\u001b[0m \u001b[0mdf\u001b[0m\u001b[1;33m\u001b[0m\u001b[1;33m\u001b[0m\u001b[0m\n",
      "\u001b[0m\u001b[1;32m    395 \u001b[1;33m\u001b[1;33m\u001b[0m\u001b[0m\n",
      "\u001b[0m\u001b[1;32m    396 \u001b[1;33m\u001b[1;33m\u001b[0m\u001b[0m\n",
      "\u001b[0m\n"
     ]
    },
    {
     "name": "stdin",
     "output_type": "stream",
     "text": [
      "ipdb>  df\n"
     ]
    },
    {
     "name": "stdout",
     "output_type": "stream",
     "text": [
      "                     timestamp  value  year   station                date\n",
      "date                                                                     \n",
      "2004-01-07 12:30:00     9390.0   1.00  2004  KMI_6414 2004-01-07 12:30:00\n",
      "2004-01-07 13:50:00     9470.0   0.20  2004  KMI_6414 2004-01-07 13:50:00\n",
      "2004-01-07 14:00:00     9480.0   0.50  2004  KMI_6414 2004-01-07 14:00:00\n",
      "2004-01-07 14:20:00     9500.0   0.30  2004  KMI_6414 2004-01-07 14:20:00\n",
      "2004-01-07 14:30:00     9510.0   0.10  2004  KMI_6414 2004-01-07 14:30:00\n",
      "...                        ...    ...   ...       ...                 ...\n",
      "2017-12-31 19:30:00   525330.0   0.03  2017  KMI_6414 2017-12-31 19:30:00\n",
      "2017-12-31 19:40:00   525340.0   0.14  2017  KMI_6414 2017-12-31 19:40:00\n",
      "2017-12-31 20:00:00   525360.0   0.03  2017  KMI_6414 2017-12-31 20:00:00\n",
      "2017-12-31 21:40:00   525460.0   0.38  2017  KMI_6414 2017-12-31 21:40:00\n",
      "2017-12-31 21:50:00   525470.0   0.07  2017  KMI_6414 2017-12-31 21:50:00\n",
      "\n",
      "[31506 rows x 5 columns]\n"
     ]
    },
    {
     "name": "stdin",
     "output_type": "stream",
     "text": [
      "ipdb>  exit\n"
     ]
    },
    {
     "ename": "BdbQuit",
     "evalue": "",
     "output_type": "error",
     "traceback": [
      "\u001b[1;31m---------------------------------------------------------------------------\u001b[0m",
      "\u001b[1;31mBdbQuit\u001b[0m                                   Traceback (most recent call last)",
      "\u001b[1;32m<ipython-input-111-6b2ef87fa398>\u001b[0m in \u001b[0;36m<module>\u001b[1;34m\u001b[0m\n\u001b[1;32m----> 1\u001b[1;33m \u001b[0mdf_rainfall\u001b[0m \u001b[1;33m=\u001b[0m \u001b[0mdata\u001b[0m\u001b[1;33m.\u001b[0m\u001b[0mload_rainfall\u001b[0m\u001b[1;33m(\u001b[0m\u001b[1;33m)\u001b[0m\u001b[1;33m\u001b[0m\u001b[1;33m\u001b[0m\u001b[0m\n\u001b[0m\u001b[0;32m      2\u001b[0m \u001b[0mdf_stations_metadata\u001b[0m \u001b[1;33m=\u001b[0m \u001b[0mpd\u001b[0m\u001b[1;33m.\u001b[0m\u001b[0mread_csv\u001b[0m\u001b[1;33m(\u001b[0m\u001b[0mpath_data_flanders\u001b[0m \u001b[1;33m/\u001b[0m \u001b[1;34m\"stations.csv\"\u001b[0m\u001b[1;33m)\u001b[0m\u001b[1;33m\u001b[0m\u001b[1;33m\u001b[0m\u001b[0m\n\u001b[0;32m      3\u001b[0m \u001b[0mdf_statistics\u001b[0m \u001b[1;33m=\u001b[0m \u001b[0mcompute_rainfall_statistics\u001b[0m\u001b[1;33m(\u001b[0m\u001b[0mdf_rainfall\u001b[0m\u001b[1;33m,\u001b[0m\u001b[0mdf_stations_metadata\u001b[0m\u001b[1;33m)\u001b[0m\u001b[1;33m\u001b[0m\u001b[1;33m\u001b[0m\u001b[0m\n",
      "\u001b[1;32mc:\\users\\sachagobeyn\\github\\rfactor\\src\\rfactor\\process.py\u001b[0m in \u001b[0;36mload_rainfall\u001b[1;34m(self, stations, years)\u001b[0m\n\u001b[0;32m    171\u001b[0m \u001b[1;33m\u001b[0m\u001b[0m\n\u001b[0;32m    172\u001b[0m     \u001b[1;32mdef\u001b[0m \u001b[0mload_R\u001b[0m\u001b[1;33m(\u001b[0m\u001b[0mself\u001b[0m\u001b[1;33m,\u001b[0m \u001b[0mstations\u001b[0m\u001b[1;33m=\u001b[0m\u001b[1;33m[\u001b[0m\u001b[1;33m]\u001b[0m\u001b[1;33m,\u001b[0m \u001b[0myears\u001b[0m\u001b[1;33m=\u001b[0m\u001b[1;33m[\u001b[0m\u001b[1;33m]\u001b[0m\u001b[1;33m)\u001b[0m\u001b[1;33m:\u001b[0m\u001b[1;33m\u001b[0m\u001b[1;33m\u001b[0m\u001b[0m\n\u001b[1;32m--> 173\u001b[1;33m         \"\"\"Load R-values for stations and years.\n\u001b[0m\u001b[0;32m    174\u001b[0m \u001b[1;33m\u001b[0m\u001b[0m\n\u001b[0;32m    175\u001b[0m         \u001b[0mParameters\u001b[0m\u001b[1;33m\u001b[0m\u001b[1;33m\u001b[0m\u001b[0m\n",
      "\u001b[1;32mc:\\users\\sachagobeyn\\github\\rfactor\\src\\rfactor\\process.py\u001b[0m in \u001b[0;36mload_dict_format\u001b[1;34m(dict_data, variable, stations, years, frequency)\u001b[0m\n\u001b[0;32m    350\u001b[0m         \u001b[0mList\u001b[0m \u001b[0mof\u001b[0m \u001b[0mstations\u001b[0m \u001b[0mto\u001b[0m \u001b[0mload\u001b[0m \u001b[0mdata\u001b[0m \u001b[1;32mfor\u001b[0m\u001b[1;33m.\u001b[0m \u001b[0mIf\u001b[0m \u001b[0mlist\u001b[0m \u001b[1;33m==\u001b[0m \u001b[1;33m[\u001b[0m\u001b[1;33m]\u001b[0m\u001b[1;33m,\u001b[0m \u001b[0mthen\u001b[0m \u001b[0mall\u001b[0m \u001b[0mdata\u001b[0m\u001b[1;33m\u001b[0m\u001b[1;33m\u001b[0m\u001b[0m\n\u001b[0;32m    351\u001b[0m         \u001b[1;32mfor\u001b[0m \u001b[0mall\u001b[0m \u001b[0mstations\u001b[0m \u001b[0mare\u001b[0m \u001b[0mloaded\u001b[0m\u001b[1;33m.\u001b[0m\u001b[1;33m\u001b[0m\u001b[1;33m\u001b[0m\u001b[0m\n\u001b[1;32m--> 352\u001b[1;33m     \u001b[0myears\u001b[0m\u001b[1;33m:\u001b[0m \u001b[0mlist\u001b[0m\u001b[1;33m,\u001b[0m \u001b[0mdefault\u001b[0m \u001b[1;33m[\u001b[0m\u001b[1;33m]\u001b[0m\u001b[1;33m\u001b[0m\u001b[1;33m\u001b[0m\u001b[0m\n\u001b[0m\u001b[0;32m    353\u001b[0m         \u001b[0mList\u001b[0m \u001b[0mof\u001b[0m \u001b[0myears\u001b[0m \u001b[0mto\u001b[0m \u001b[0mload\u001b[0m \u001b[0mdata\u001b[0m \u001b[1;32mfor\u001b[0m\u001b[1;33m.\u001b[0m \u001b[0mIf\u001b[0m \u001b[0myears\u001b[0m \u001b[1;33m==\u001b[0m \u001b[1;33m[\u001b[0m\u001b[1;33m]\u001b[0m\u001b[1;33m,\u001b[0m \u001b[0mthen\u001b[0m \u001b[0mall\u001b[0m \u001b[0mdata\u001b[0m \u001b[1;32mfor\u001b[0m\u001b[1;33m\u001b[0m\u001b[1;33m\u001b[0m\u001b[0m\n\u001b[0;32m    354\u001b[0m         \u001b[0mall\u001b[0m \u001b[0myears\u001b[0m \u001b[0mare\u001b[0m \u001b[0mloaded\u001b[0m\u001b[1;33m.\u001b[0m\u001b[1;33m\u001b[0m\u001b[1;33m\u001b[0m\u001b[0m\n",
      "\u001b[1;32mc:\\users\\sachagobeyn\\github\\rfactor\\src\\rfactor\\process.py\u001b[0m in \u001b[0;36mload_df_station\u001b[1;34m(dict_data, variable, years, frequency)\u001b[0m\n\u001b[0;32m    392\u001b[0m     \u001b[0mdf\u001b[0m\u001b[1;33m:\u001b[0m \u001b[0mpandas\u001b[0m\u001b[1;33m.\u001b[0m\u001b[0mDataFrame\u001b[0m\u001b[1;33m\u001b[0m\u001b[1;33m\u001b[0m\u001b[0m\n\u001b[0;32m    393\u001b[0m         \u001b[0mDataframe\u001b[0m \u001b[0mof\u001b[0m \u001b[0mR\u001b[0m\u001b[1;33m-\u001b[0m\u001b[0mvalue\u001b[0m\u001b[1;33m,\u001b[0m \u001b[0mEI30\u001b[0m \u001b[1;32mor\u001b[0m \u001b[0mrainfall\u001b[0m \u001b[0mdata\u001b[0m\u001b[1;33m.\u001b[0m\u001b[1;33m\u001b[0m\u001b[1;33m\u001b[0m\u001b[0m\n\u001b[1;32m--> 394\u001b[1;33m         \u001b[1;33m-\u001b[0m \u001b[1;33m*\u001b[0m\u001b[0myear\u001b[0m\u001b[1;33m*\u001b[0m \u001b[1;33m(\u001b[0m\u001b[0mint\u001b[0m\u001b[1;33m)\u001b[0m\u001b[1;33m:\u001b[0m \u001b[0mYear\u001b[0m \u001b[0mof\u001b[0m \u001b[0mregistration\u001b[0m\u001b[1;33m.\u001b[0m\u001b[1;33m\u001b[0m\u001b[1;33m\u001b[0m\u001b[0m\n\u001b[0m\u001b[0;32m    395\u001b[0m         \u001b[1;33m-\u001b[0m \u001b[1;33m*\u001b[0m\u001b[0mvalue\u001b[0m\u001b[1;33m*\u001b[0m \u001b[1;33m(\u001b[0m\u001b[0mfloat\u001b[0m\u001b[1;33m)\u001b[0m\u001b[1;33m:\u001b[0m \u001b[0mR\u001b[0m\u001b[1;33m-\u001b[0m\u001b[1;33m,\u001b[0m \u001b[0mEI30\u001b[0m\u001b[1;33m-\u001b[0m \u001b[1;32mor\u001b[0m \u001b[0mrainfall\u001b[0m \u001b[0mvalue\u001b[0m\u001b[1;33m\u001b[0m\u001b[1;33m\u001b[0m\u001b[0m\n\u001b[0;32m    396\u001b[0m     \"\"\"\n",
      "\u001b[1;32mc:\\users\\sachagobeyn\\github\\rfactor\\src\\rfactor\\process.py\u001b[0m in \u001b[0;36mload_df_station\u001b[1;34m(dict_data, variable, years, frequency)\u001b[0m\n\u001b[0;32m    392\u001b[0m     \u001b[0mdf\u001b[0m\u001b[1;33m:\u001b[0m \u001b[0mpandas\u001b[0m\u001b[1;33m.\u001b[0m\u001b[0mDataFrame\u001b[0m\u001b[1;33m\u001b[0m\u001b[1;33m\u001b[0m\u001b[0m\n\u001b[0;32m    393\u001b[0m         \u001b[0mDataframe\u001b[0m \u001b[0mof\u001b[0m \u001b[0mR\u001b[0m\u001b[1;33m-\u001b[0m\u001b[0mvalue\u001b[0m\u001b[1;33m,\u001b[0m \u001b[0mEI30\u001b[0m \u001b[1;32mor\u001b[0m \u001b[0mrainfall\u001b[0m \u001b[0mdata\u001b[0m\u001b[1;33m.\u001b[0m\u001b[1;33m\u001b[0m\u001b[1;33m\u001b[0m\u001b[0m\n\u001b[1;32m--> 394\u001b[1;33m         \u001b[1;33m-\u001b[0m \u001b[1;33m*\u001b[0m\u001b[0myear\u001b[0m\u001b[1;33m*\u001b[0m \u001b[1;33m(\u001b[0m\u001b[0mint\u001b[0m\u001b[1;33m)\u001b[0m\u001b[1;33m:\u001b[0m \u001b[0mYear\u001b[0m \u001b[0mof\u001b[0m \u001b[0mregistration\u001b[0m\u001b[1;33m.\u001b[0m\u001b[1;33m\u001b[0m\u001b[1;33m\u001b[0m\u001b[0m\n\u001b[0m\u001b[0;32m    395\u001b[0m         \u001b[1;33m-\u001b[0m \u001b[1;33m*\u001b[0m\u001b[0mvalue\u001b[0m\u001b[1;33m*\u001b[0m \u001b[1;33m(\u001b[0m\u001b[0mfloat\u001b[0m\u001b[1;33m)\u001b[0m\u001b[1;33m:\u001b[0m \u001b[0mR\u001b[0m\u001b[1;33m-\u001b[0m\u001b[1;33m,\u001b[0m \u001b[0mEI30\u001b[0m\u001b[1;33m-\u001b[0m \u001b[1;32mor\u001b[0m \u001b[0mrainfall\u001b[0m \u001b[0mvalue\u001b[0m\u001b[1;33m\u001b[0m\u001b[1;33m\u001b[0m\u001b[0m\n\u001b[0;32m    396\u001b[0m     \"\"\"\n",
      "\u001b[1;32m~\\miniconda3\\envs\\rfactor\\lib\\bdb.py\u001b[0m in \u001b[0;36mtrace_dispatch\u001b[1;34m(self, frame, event, arg)\u001b[0m\n\u001b[0;32m     86\u001b[0m             \u001b[1;32mreturn\u001b[0m \u001b[1;31m# None\u001b[0m\u001b[1;33m\u001b[0m\u001b[1;33m\u001b[0m\u001b[0m\n\u001b[0;32m     87\u001b[0m         \u001b[1;32mif\u001b[0m \u001b[0mevent\u001b[0m \u001b[1;33m==\u001b[0m \u001b[1;34m'line'\u001b[0m\u001b[1;33m:\u001b[0m\u001b[1;33m\u001b[0m\u001b[1;33m\u001b[0m\u001b[0m\n\u001b[1;32m---> 88\u001b[1;33m             \u001b[1;32mreturn\u001b[0m \u001b[0mself\u001b[0m\u001b[1;33m.\u001b[0m\u001b[0mdispatch_line\u001b[0m\u001b[1;33m(\u001b[0m\u001b[0mframe\u001b[0m\u001b[1;33m)\u001b[0m\u001b[1;33m\u001b[0m\u001b[1;33m\u001b[0m\u001b[0m\n\u001b[0m\u001b[0;32m     89\u001b[0m         \u001b[1;32mif\u001b[0m \u001b[0mevent\u001b[0m \u001b[1;33m==\u001b[0m \u001b[1;34m'call'\u001b[0m\u001b[1;33m:\u001b[0m\u001b[1;33m\u001b[0m\u001b[1;33m\u001b[0m\u001b[0m\n\u001b[0;32m     90\u001b[0m             \u001b[1;32mreturn\u001b[0m \u001b[0mself\u001b[0m\u001b[1;33m.\u001b[0m\u001b[0mdispatch_call\u001b[0m\u001b[1;33m(\u001b[0m\u001b[0mframe\u001b[0m\u001b[1;33m,\u001b[0m \u001b[0marg\u001b[0m\u001b[1;33m)\u001b[0m\u001b[1;33m\u001b[0m\u001b[1;33m\u001b[0m\u001b[0m\n",
      "\u001b[1;32m~\\miniconda3\\envs\\rfactor\\lib\\bdb.py\u001b[0m in \u001b[0;36mdispatch_line\u001b[1;34m(self, frame)\u001b[0m\n\u001b[0;32m    111\u001b[0m         \u001b[1;32mif\u001b[0m \u001b[0mself\u001b[0m\u001b[1;33m.\u001b[0m\u001b[0mstop_here\u001b[0m\u001b[1;33m(\u001b[0m\u001b[0mframe\u001b[0m\u001b[1;33m)\u001b[0m \u001b[1;32mor\u001b[0m \u001b[0mself\u001b[0m\u001b[1;33m.\u001b[0m\u001b[0mbreak_here\u001b[0m\u001b[1;33m(\u001b[0m\u001b[0mframe\u001b[0m\u001b[1;33m)\u001b[0m\u001b[1;33m:\u001b[0m\u001b[1;33m\u001b[0m\u001b[1;33m\u001b[0m\u001b[0m\n\u001b[0;32m    112\u001b[0m             \u001b[0mself\u001b[0m\u001b[1;33m.\u001b[0m\u001b[0muser_line\u001b[0m\u001b[1;33m(\u001b[0m\u001b[0mframe\u001b[0m\u001b[1;33m)\u001b[0m\u001b[1;33m\u001b[0m\u001b[1;33m\u001b[0m\u001b[0m\n\u001b[1;32m--> 113\u001b[1;33m             \u001b[1;32mif\u001b[0m \u001b[0mself\u001b[0m\u001b[1;33m.\u001b[0m\u001b[0mquitting\u001b[0m\u001b[1;33m:\u001b[0m \u001b[1;32mraise\u001b[0m \u001b[0mBdbQuit\u001b[0m\u001b[1;33m\u001b[0m\u001b[1;33m\u001b[0m\u001b[0m\n\u001b[0m\u001b[0;32m    114\u001b[0m         \u001b[1;32mreturn\u001b[0m \u001b[0mself\u001b[0m\u001b[1;33m.\u001b[0m\u001b[0mtrace_dispatch\u001b[0m\u001b[1;33m\u001b[0m\u001b[1;33m\u001b[0m\u001b[0m\n\u001b[0;32m    115\u001b[0m \u001b[1;33m\u001b[0m\u001b[0m\n",
      "\u001b[1;31mBdbQuit\u001b[0m: "
     ]
    }
   ],
   "source": [
    "df_rainfall = data.load_rainfall()\n",
    "df_stations_metadata = pd.read_csv(path_data_flanders / \"stations.csv\")\n",
    "df_statistics = compute_rainfall_statistics(df_rainfall,df_stations_metadata)"
   ]
  },
  {
   "cell_type": "markdown",
   "metadata": {},
   "source": [
    "**Compute statistics**  \n",
    "Compute general statistics with .describe() functions,  and couple x and y's. Only "
   ]
  },
  {
   "cell_type": "code",
   "execution_count": null,
   "metadata": {},
   "outputs": [],
   "source": [
    "resmap = \"results\"\n",
    "compute_statistics_inputdata(dict_inputdata, resmap, df_stations)"
   ]
  },
  {
   "cell_type": "markdown",
   "metadata": {},
   "source": [
    "## Compute R-factor"
   ]
  },
  {
   "cell_type": "markdown",
   "metadata": {},
   "source": [
    "Run model with Matlab in terminal (navigate to *C:\\Users\\$USERNAME\\GitHub\\rfactor\\rfactor\\src\\rfactor*, **see README.md**)\n",
    "    \n",
    "    matlab -nodisplay -r \"main('C:\\Users\\\\$USERNAME\\GitHub\\rfactor\\rfactor\\docs\\data\\example_inputdata')\"\n",
    "\n",
    "Results are saved in *C:\\Users\\\\$USERNAME\\GitHub\\rfactor\\rfactor\\src\\rfactor*"
   ]
  },
  {
   "cell_type": "code",
   "execution_count": null,
   "metadata": {},
   "outputs": [],
   "source": [
    "fmap = Path(r\"C:\\Users\\SachaGobeyn\\GitHub\\rfactor\\rfactor\\src\\rfactor\\results\")"
   ]
  },
  {
   "cell_type": "code",
   "execution_count": null,
   "metadata": {},
   "outputs": [],
   "source": [
    "fmap.exists()"
   ]
  },
  {
   "cell_type": "markdown",
   "metadata": {},
   "source": [
    "## Half Montlhy Values"
   ]
  },
  {
   "cell_type": "code",
   "execution_count": 108,
   "metadata": {},
   "outputs": [
    {
     "name": "stderr",
     "output_type": "stream",
     "text": [
      "[autoreload of rfactor.process failed: Traceback (most recent call last):\n",
      "  File \"C:\\Users\\SachaGobeyn\\miniconda3\\envs\\rfactor\\lib\\site-packages\\IPython\\extensions\\autoreload.py\", line 245, in check\n",
      "  File \"C:\\Users\\SachaGobeyn\\miniconda3\\envs\\rfactor\\lib\\site-packages\\IPython\\extensions\\autoreload.py\", line 410, in superreload\n",
      "  File \"C:\\Users\\SachaGobeyn\\miniconda3\\envs\\rfactor\\lib\\site-packages\\IPython\\extensions\\autoreload.py\", line 347, in update_generic\n",
      "  File \"C:\\Users\\SachaGobeyn\\miniconda3\\envs\\rfactor\\lib\\site-packages\\IPython\\extensions\\autoreload.py\", line 292, in update_class\n",
      "  File \"C:\\Users\\SachaGobeyn\\miniconda3\\envs\\rfactor\\lib\\site-packages\\pandas\\core\\generic.py\", line 1442, in __nonzero__\n",
      "    raise ValueError(\n",
      "ValueError: The truth value of a DataFrame is ambiguous. Use a.empty, a.bool(), a.item(), a.any() or a.all().\n",
      "]\n"
     ]
    },
    {
     "name": "stdout",
     "output_type": "stream",
     "text": [
      "> \u001b[1;32mc:\\users\\sachagobeyn\\github\\rfactor\\src\\rfactor\\process.py\u001b[0m(437)\u001b[0;36mget_EI30\u001b[1;34m()\u001b[0m\n",
      "\u001b[1;32m    435 \u001b[1;33m    \u001b[0mdf\u001b[0m\u001b[1;33m.\u001b[0m\u001b[0mloc\u001b[0m\u001b[1;33m[\u001b[0m\u001b[0mdf\u001b[0m\u001b[1;33m.\u001b[0m\u001b[0mindex\u001b[0m\u001b[1;33m[\u001b[0m\u001b[1;36m0\u001b[0m\u001b[1;33m]\u001b[0m\u001b[1;33m,\u001b[0m\u001b[1;34m\"EI30\"\u001b[0m\u001b[1;33m]\u001b[0m \u001b[1;33m=\u001b[0m \u001b[0mdf\u001b[0m\u001b[1;33m.\u001b[0m\u001b[0mloc\u001b[0m\u001b[1;33m[\u001b[0m\u001b[0mdf\u001b[0m\u001b[1;33m.\u001b[0m\u001b[0mindex\u001b[0m\u001b[1;33m[\u001b[0m\u001b[1;36m0\u001b[0m\u001b[1;33m]\u001b[0m\u001b[1;33m,\u001b[0m\u001b[1;34m\"cumEI30\"\u001b[0m\u001b[1;33m]\u001b[0m\u001b[1;33m\u001b[0m\u001b[1;33m\u001b[0m\u001b[0m\n",
      "\u001b[0m\u001b[1;32m    436 \u001b[1;33m    \u001b[1;32mimport\u001b[0m \u001b[0mpdb\u001b[0m\u001b[1;33m;\u001b[0m\u001b[0mpdb\u001b[0m\u001b[1;33m.\u001b[0m\u001b[0mset_trace\u001b[0m\u001b[1;33m(\u001b[0m\u001b[1;33m)\u001b[0m\u001b[1;33m\u001b[0m\u001b[1;33m\u001b[0m\u001b[0m\n",
      "\u001b[0m\u001b[1;32m--> 437 \u001b[1;33m    \u001b[1;32mreturn\u001b[0m \u001b[0mdf\u001b[0m\u001b[1;33m\u001b[0m\u001b[1;33m\u001b[0m\u001b[0m\n",
      "\u001b[0m\u001b[1;32m    438 \u001b[1;33m\u001b[1;33m\u001b[0m\u001b[0m\n",
      "\u001b[0m\u001b[1;32m    439 \u001b[1;33m\u001b[1;32mdef\u001b[0m \u001b[0mload_rainfall_data\u001b[0m\u001b[1;33m(\u001b[0m\u001b[0mfname\u001b[0m\u001b[1;33m,\u001b[0m \u001b[0mstation\u001b[0m\u001b[1;33m,\u001b[0m \u001b[0myear\u001b[0m\u001b[1;33m)\u001b[0m\u001b[1;33m:\u001b[0m\u001b[1;33m\u001b[0m\u001b[1;33m\u001b[0m\u001b[0m\n",
      "\u001b[0m\n"
     ]
    },
    {
     "name": "stdin",
     "output_type": "stream",
     "text": [
      "ipdb>  df\n"
     ]
    },
    {
     "name": "stdout",
     "output_type": "stream",
     "text": [
      "                                                        fname  cumEI30  \\\n",
      "date                                                                     \n",
      "2004-01-15  C:\\Users\\SachaGobeyn\\GitHub\\rfactor\\tests\\data...    83.73   \n",
      "2004-01-31  C:\\Users\\SachaGobeyn\\GitHub\\rfactor\\tests\\data...    99.65   \n",
      "2004-02-15  C:\\Users\\SachaGobeyn\\GitHub\\rfactor\\tests\\data...   123.47   \n",
      "2004-02-29  C:\\Users\\SachaGobeyn\\GitHub\\rfactor\\tests\\data...   125.07   \n",
      "2004-03-15  C:\\Users\\SachaGobeyn\\GitHub\\rfactor\\tests\\data...   137.62   \n",
      "2004-03-31  C:\\Users\\SachaGobeyn\\GitHub\\rfactor\\tests\\data...   166.65   \n",
      "2004-04-15  C:\\Users\\SachaGobeyn\\GitHub\\rfactor\\tests\\data...   174.82   \n",
      "2004-04-30  C:\\Users\\SachaGobeyn\\GitHub\\rfactor\\tests\\data...   207.01   \n",
      "2004-05-15  C:\\Users\\SachaGobeyn\\GitHub\\rfactor\\tests\\data...   216.74   \n",
      "2004-05-31  C:\\Users\\SachaGobeyn\\GitHub\\rfactor\\tests\\data...   222.19   \n",
      "2004-06-15  C:\\Users\\SachaGobeyn\\GitHub\\rfactor\\tests\\data...   265.42   \n",
      "2004-06-30  C:\\Users\\SachaGobeyn\\GitHub\\rfactor\\tests\\data...   358.02   \n",
      "2004-07-15  C:\\Users\\SachaGobeyn\\GitHub\\rfactor\\tests\\data...   404.23   \n",
      "2004-07-31  C:\\Users\\SachaGobeyn\\GitHub\\rfactor\\tests\\data...   509.93   \n",
      "2004-08-15  C:\\Users\\SachaGobeyn\\GitHub\\rfactor\\tests\\data...   697.70   \n",
      "2004-08-31  C:\\Users\\SachaGobeyn\\GitHub\\rfactor\\tests\\data...  1301.95   \n",
      "2004-09-15  C:\\Users\\SachaGobeyn\\GitHub\\rfactor\\tests\\data...  1309.88   \n",
      "2004-09-30  C:\\Users\\SachaGobeyn\\GitHub\\rfactor\\tests\\data...  1311.52   \n",
      "2004-10-15  C:\\Users\\SachaGobeyn\\GitHub\\rfactor\\tests\\data...  1318.39   \n",
      "2004-10-31  C:\\Users\\SachaGobeyn\\GitHub\\rfactor\\tests\\data...  1326.76   \n",
      "2004-11-15  C:\\Users\\SachaGobeyn\\GitHub\\rfactor\\tests\\data...  1331.60   \n",
      "2004-11-30  C:\\Users\\SachaGobeyn\\GitHub\\rfactor\\tests\\data...  1345.70   \n",
      "2004-12-15  C:\\Users\\SachaGobeyn\\GitHub\\rfactor\\tests\\data...  1345.70   \n",
      "2004-12-31  C:\\Users\\SachaGobeyn\\GitHub\\rfactor\\tests\\data...  1409.88   \n",
      "\n",
      "                day  year                    date  doy    EI30  \n",
      "date                                                            \n",
      "2004-01-15   13.438   0.0 2004-01-14 10:30:43.200   14   83.73  \n",
      "2004-01-31   27.764   0.0 2004-01-28 18:20:09.600   28   15.92  \n",
      "2004-02-15   40.965   0.0 2004-02-10 23:09:36.000   41   23.82  \n",
      "2004-02-29   57.722   0.0 2004-02-27 17:19:40.800   58    1.60  \n",
      "2004-03-15   71.639   0.0 2004-03-12 15:20:09.600   72   12.55  \n",
      "2004-03-31   84.479   0.0 2004-03-25 11:29:45.600   85   29.03  \n",
      "2004-04-15   98.333   0.0 2004-04-08 07:59:31.200   99    8.17  \n",
      "2004-04-30  118.847   0.0 2004-04-28 20:19:40.800  119   32.19  \n",
      "2004-05-15  127.681   0.0 2004-05-07 16:20:38.400  128    9.73  \n",
      "2004-05-31  150.299   0.0 2004-05-30 07:10:33.600  151    5.45  \n",
      "2004-06-15  161.194   0.0 2004-06-10 04:39:21.600  162   43.23  \n",
      "2004-06-30  173.882   0.0 2004-06-22 21:10:04.800  174   92.60  \n",
      "2004-07-15  193.812   0.0 2004-07-12 19:29:16.800  194   46.21  \n",
      "2004-07-31  203.840   0.0 2004-07-22 20:09:36.000  204  105.70  \n",
      "2004-08-15  225.507   0.0 2004-08-13 12:10:04.800  226  187.77  \n",
      "2004-08-31  239.451   0.0 2004-08-27 10:49:26.400  240  604.25  \n",
      "2004-09-15  257.604   0.0 2004-09-14 14:29:45.600  258    7.93  \n",
      "2004-09-30  266.132   0.0 2004-09-23 03:10:04.800  267    1.64  \n",
      "2004-10-15  287.410   0.0 2004-10-14 09:50:24.000  288    6.87  \n",
      "2004-10-31  300.861   0.0 2004-10-27 20:39:50.400  301    8.37  \n",
      "2004-11-15  317.361   0.0 2004-11-13 08:39:50.400  318    4.84  \n",
      "2004-11-30  332.264   0.0 2004-11-28 06:20:09.600  333   14.10  \n",
      "2004-12-15  332.264   0.0 2004-11-28 06:20:09.600  333    0.00  \n",
      "2004-12-31  362.215   0.0 2004-12-28 05:09:36.000  363   64.18  \n"
     ]
    },
    {
     "name": "stdin",
     "output_type": "stream",
     "text": [
      "ipdb>  df =df.rename(columns={\"EI30\":\"value\"})\n",
      "ipdb>  df\n"
     ]
    },
    {
     "name": "stdout",
     "output_type": "stream",
     "text": [
      "                                                        fname  cumEI30  \\\n",
      "date                                                                     \n",
      "2004-01-15  C:\\Users\\SachaGobeyn\\GitHub\\rfactor\\tests\\data...    83.73   \n",
      "2004-01-31  C:\\Users\\SachaGobeyn\\GitHub\\rfactor\\tests\\data...    99.65   \n",
      "2004-02-15  C:\\Users\\SachaGobeyn\\GitHub\\rfactor\\tests\\data...   123.47   \n",
      "2004-02-29  C:\\Users\\SachaGobeyn\\GitHub\\rfactor\\tests\\data...   125.07   \n",
      "2004-03-15  C:\\Users\\SachaGobeyn\\GitHub\\rfactor\\tests\\data...   137.62   \n",
      "2004-03-31  C:\\Users\\SachaGobeyn\\GitHub\\rfactor\\tests\\data...   166.65   \n",
      "2004-04-15  C:\\Users\\SachaGobeyn\\GitHub\\rfactor\\tests\\data...   174.82   \n",
      "2004-04-30  C:\\Users\\SachaGobeyn\\GitHub\\rfactor\\tests\\data...   207.01   \n",
      "2004-05-15  C:\\Users\\SachaGobeyn\\GitHub\\rfactor\\tests\\data...   216.74   \n",
      "2004-05-31  C:\\Users\\SachaGobeyn\\GitHub\\rfactor\\tests\\data...   222.19   \n",
      "2004-06-15  C:\\Users\\SachaGobeyn\\GitHub\\rfactor\\tests\\data...   265.42   \n",
      "2004-06-30  C:\\Users\\SachaGobeyn\\GitHub\\rfactor\\tests\\data...   358.02   \n",
      "2004-07-15  C:\\Users\\SachaGobeyn\\GitHub\\rfactor\\tests\\data...   404.23   \n",
      "2004-07-31  C:\\Users\\SachaGobeyn\\GitHub\\rfactor\\tests\\data...   509.93   \n",
      "2004-08-15  C:\\Users\\SachaGobeyn\\GitHub\\rfactor\\tests\\data...   697.70   \n",
      "2004-08-31  C:\\Users\\SachaGobeyn\\GitHub\\rfactor\\tests\\data...  1301.95   \n",
      "2004-09-15  C:\\Users\\SachaGobeyn\\GitHub\\rfactor\\tests\\data...  1309.88   \n",
      "2004-09-30  C:\\Users\\SachaGobeyn\\GitHub\\rfactor\\tests\\data...  1311.52   \n",
      "2004-10-15  C:\\Users\\SachaGobeyn\\GitHub\\rfactor\\tests\\data...  1318.39   \n",
      "2004-10-31  C:\\Users\\SachaGobeyn\\GitHub\\rfactor\\tests\\data...  1326.76   \n",
      "2004-11-15  C:\\Users\\SachaGobeyn\\GitHub\\rfactor\\tests\\data...  1331.60   \n",
      "2004-11-30  C:\\Users\\SachaGobeyn\\GitHub\\rfactor\\tests\\data...  1345.70   \n",
      "2004-12-15  C:\\Users\\SachaGobeyn\\GitHub\\rfactor\\tests\\data...  1345.70   \n",
      "2004-12-31  C:\\Users\\SachaGobeyn\\GitHub\\rfactor\\tests\\data...  1409.88   \n",
      "\n",
      "                day  year                    date  doy   value  \n",
      "date                                                            \n",
      "2004-01-15   13.438   0.0 2004-01-14 10:30:43.200   14   83.73  \n",
      "2004-01-31   27.764   0.0 2004-01-28 18:20:09.600   28   15.92  \n",
      "2004-02-15   40.965   0.0 2004-02-10 23:09:36.000   41   23.82  \n",
      "2004-02-29   57.722   0.0 2004-02-27 17:19:40.800   58    1.60  \n",
      "2004-03-15   71.639   0.0 2004-03-12 15:20:09.600   72   12.55  \n",
      "2004-03-31   84.479   0.0 2004-03-25 11:29:45.600   85   29.03  \n",
      "2004-04-15   98.333   0.0 2004-04-08 07:59:31.200   99    8.17  \n",
      "2004-04-30  118.847   0.0 2004-04-28 20:19:40.800  119   32.19  \n",
      "2004-05-15  127.681   0.0 2004-05-07 16:20:38.400  128    9.73  \n",
      "2004-05-31  150.299   0.0 2004-05-30 07:10:33.600  151    5.45  \n",
      "2004-06-15  161.194   0.0 2004-06-10 04:39:21.600  162   43.23  \n",
      "2004-06-30  173.882   0.0 2004-06-22 21:10:04.800  174   92.60  \n",
      "2004-07-15  193.812   0.0 2004-07-12 19:29:16.800  194   46.21  \n",
      "2004-07-31  203.840   0.0 2004-07-22 20:09:36.000  204  105.70  \n",
      "2004-08-15  225.507   0.0 2004-08-13 12:10:04.800  226  187.77  \n",
      "2004-08-31  239.451   0.0 2004-08-27 10:49:26.400  240  604.25  \n",
      "2004-09-15  257.604   0.0 2004-09-14 14:29:45.600  258    7.93  \n",
      "2004-09-30  266.132   0.0 2004-09-23 03:10:04.800  267    1.64  \n",
      "2004-10-15  287.410   0.0 2004-10-14 09:50:24.000  288    6.87  \n",
      "2004-10-31  300.861   0.0 2004-10-27 20:39:50.400  301    8.37  \n",
      "2004-11-15  317.361   0.0 2004-11-13 08:39:50.400  318    4.84  \n",
      "2004-11-30  332.264   0.0 2004-11-28 06:20:09.600  333   14.10  \n",
      "2004-12-15  332.264   0.0 2004-11-28 06:20:09.600  333    0.00  \n",
      "2004-12-31  362.215   0.0 2004-12-28 05:09:36.000  363   64.18  \n"
     ]
    },
    {
     "name": "stdin",
     "output_type": "stream",
     "text": [
      "ipdb>  exit\n"
     ]
    },
    {
     "ename": "BdbQuit",
     "evalue": "",
     "output_type": "error",
     "traceback": [
      "\u001b[1;31m---------------------------------------------------------------------------\u001b[0m",
      "\u001b[1;31mBdbQuit\u001b[0m                                   Traceback (most recent call last)",
      "\u001b[1;32m<ipython-input-108-edfa3390cf78>\u001b[0m in \u001b[0;36m<module>\u001b[1;34m\u001b[0m\n\u001b[1;32m----> 1\u001b[1;33m \u001b[0mdf_EI30\u001b[0m \u001b[1;33m=\u001b[0m \u001b[0mdata\u001b[0m\u001b[1;33m.\u001b[0m\u001b[0mload_EI30\u001b[0m\u001b[1;33m(\u001b[0m\u001b[1;33m)\u001b[0m\u001b[1;33m\u001b[0m\u001b[1;33m\u001b[0m\u001b[0m\n\u001b[0m",
      "\u001b[1;32mc:\\users\\sachagobeyn\\github\\rfactor\\src\\rfactor\\process.py\u001b[0m in \u001b[0;36mload_EI30\u001b[1;34m(self, stations, year, frequency)\u001b[0m\n\u001b[0;32m    200\u001b[0m             \u001b[1;32mraise\u001b[0m \u001b[0mIOError\u001b[0m\u001b[1;33m(\u001b[0m\u001b[0mmsg\u001b[0m\u001b[1;33m)\u001b[0m\u001b[1;33m\u001b[0m\u001b[1;33m\u001b[0m\u001b[0m\n\u001b[0;32m    201\u001b[0m \u001b[1;33m\u001b[0m\u001b[0m\n\u001b[1;32m--> 202\u001b[1;33m         \u001b[1;32mreturn\u001b[0m \u001b[0mload_dict_format\u001b[0m\u001b[1;33m(\u001b[0m\u001b[0mself\u001b[0m\u001b[1;33m.\u001b[0m\u001b[0mdict_erosivity_data\u001b[0m\u001b[1;33m,\u001b[0m \u001b[1;34m\"EI30\"\u001b[0m\u001b[1;33m,\u001b[0m\u001b[0mstations\u001b[0m\u001b[1;33m,\u001b[0m\u001b[0myear\u001b[0m\u001b[1;33m,\u001b[0m\u001b[0mfrequency\u001b[0m\u001b[1;33m=\u001b[0m\u001b[0mfrequency\u001b[0m\u001b[1;33m)\u001b[0m\u001b[1;33m\u001b[0m\u001b[1;33m\u001b[0m\u001b[0m\n\u001b[0m\u001b[0;32m    203\u001b[0m \u001b[1;33m\u001b[0m\u001b[0m\n\u001b[0;32m    204\u001b[0m \u001b[1;33m@\u001b[0m\u001b[0mdataclass\u001b[0m\u001b[1;33m\u001b[0m\u001b[1;33m\u001b[0m\u001b[0m\n",
      "\u001b[1;32mc:\\users\\sachagobeyn\\github\\rfactor\\src\\rfactor\\process.py\u001b[0m in \u001b[0;36mload_dict_format\u001b[1;34m(dict_data, variable, stations, years, frequency)\u001b[0m\n\u001b[0;32m    350\u001b[0m         \u001b[1;32mif\u001b[0m \u001b[0mstation\u001b[0m \u001b[1;33m==\u001b[0m \u001b[1;34m\"P10_042\"\u001b[0m\u001b[1;33m:\u001b[0m\u001b[1;33m\u001b[0m\u001b[1;33m\u001b[0m\u001b[0m\n\u001b[0;32m    351\u001b[0m             \u001b[1;32mimport\u001b[0m \u001b[0mpdb\u001b[0m\u001b[1;33m;\u001b[0m\u001b[0mpdb\u001b[0m\u001b[1;33m.\u001b[0m\u001b[0mset_trace\u001b[0m\u001b[1;33m(\u001b[0m\u001b[1;33m)\u001b[0m\u001b[1;33m\u001b[0m\u001b[1;33m\u001b[0m\u001b[0m\n\u001b[1;32m--> 352\u001b[1;33m         \u001b[0mdf\u001b[0m \u001b[1;33m=\u001b[0m \u001b[0mload_df_station\u001b[0m\u001b[1;33m(\u001b[0m\u001b[0mdict_data\u001b[0m\u001b[1;33m[\u001b[0m\u001b[0mstation\u001b[0m\u001b[1;33m]\u001b[0m\u001b[1;33m,\u001b[0m \u001b[0mvariable\u001b[0m\u001b[1;33m,\u001b[0m \u001b[0myears\u001b[0m\u001b[1;33m,\u001b[0m \u001b[0mfrequency\u001b[0m\u001b[1;33m=\u001b[0m\u001b[0mfrequency\u001b[0m\u001b[1;33m)\u001b[0m\u001b[1;33m\u001b[0m\u001b[1;33m\u001b[0m\u001b[0m\n\u001b[0m\u001b[0;32m    353\u001b[0m         \u001b[0mdf\u001b[0m\u001b[1;33m[\u001b[0m\u001b[1;34m\"station\"\u001b[0m\u001b[1;33m]\u001b[0m \u001b[1;33m=\u001b[0m \u001b[0mstation\u001b[0m\u001b[1;33m\u001b[0m\u001b[1;33m\u001b[0m\u001b[0m\n\u001b[0;32m    354\u001b[0m         \u001b[0mlst_df\u001b[0m\u001b[1;33m.\u001b[0m\u001b[0mappend\u001b[0m\u001b[1;33m(\u001b[0m\u001b[0mdf\u001b[0m\u001b[1;33m)\u001b[0m\u001b[1;33m\u001b[0m\u001b[1;33m\u001b[0m\u001b[0m\n",
      "\u001b[1;32mc:\\users\\sachagobeyn\\github\\rfactor\\src\\rfactor\\process.py\u001b[0m in \u001b[0;36mload_df_station\u001b[1;34m(dict_data, variable, years, frequency)\u001b[0m\n\u001b[0;32m    387\u001b[0m     \u001b[1;32melif\u001b[0m \u001b[0mvariable\u001b[0m\u001b[1;33m==\u001b[0m\u001b[1;34m\"EI30\"\u001b[0m\u001b[1;33m:\u001b[0m\u001b[1;33m\u001b[0m\u001b[1;33m\u001b[0m\u001b[0m\n\u001b[0;32m    388\u001b[0m         \u001b[1;32mfor\u001b[0m \u001b[0myear\u001b[0m \u001b[1;32min\u001b[0m \u001b[0mlst_years\u001b[0m\u001b[1;33m:\u001b[0m\u001b[1;33m\u001b[0m\u001b[1;33m\u001b[0m\u001b[0m\n\u001b[1;32m--> 389\u001b[1;33m             \u001b[1;32mif\u001b[0m \u001b[0myear\u001b[0m \u001b[1;32min\u001b[0m \u001b[0mdict_data\u001b[0m\u001b[1;33m.\u001b[0m\u001b[0mkeys\u001b[0m\u001b[1;33m(\u001b[0m\u001b[1;33m)\u001b[0m\u001b[1;33m:\u001b[0m\u001b[1;33m\u001b[0m\u001b[1;33m\u001b[0m\u001b[0m\n\u001b[0m\u001b[0;32m    390\u001b[0m                 \u001b[0mdict_output\u001b[0m\u001b[1;33m[\u001b[0m\u001b[0myear\u001b[0m\u001b[1;33m]\u001b[0m \u001b[1;33m=\u001b[0m \u001b[0mget_EI30\u001b[0m\u001b[1;33m(\u001b[0m\u001b[0mdict_data\u001b[0m\u001b[1;33m,\u001b[0m \u001b[0myear\u001b[0m\u001b[1;33m,\u001b[0m \u001b[0mfrequency\u001b[0m\u001b[1;33m=\u001b[0m\u001b[0mfrequency\u001b[0m\u001b[1;33m)\u001b[0m\u001b[1;33m\u001b[0m\u001b[1;33m\u001b[0m\u001b[0m\n\u001b[0;32m    391\u001b[0m     \u001b[1;32mreturn\u001b[0m \u001b[0mdf\u001b[0m\u001b[1;33m\u001b[0m\u001b[1;33m\u001b[0m\u001b[0m\n",
      "\u001b[1;32mc:\\users\\sachagobeyn\\github\\rfactor\\src\\rfactor\\process.py\u001b[0m in \u001b[0;36mget_EI30\u001b[1;34m(dict_df_erosivity, year, frequency)\u001b[0m\n\u001b[0;32m    435\u001b[0m     \u001b[0mdf\u001b[0m\u001b[1;33m[\u001b[0m\u001b[1;34m\"value\"\u001b[0m\u001b[1;33m]\u001b[0m \u001b[1;33m=\u001b[0m \u001b[0mdf\u001b[0m\u001b[1;33m[\u001b[0m\u001b[1;34m\"cumEI30\"\u001b[0m\u001b[1;33m]\u001b[0m\u001b[1;33m.\u001b[0m\u001b[0mdiff\u001b[0m\u001b[1;33m(\u001b[0m\u001b[1;33m)\u001b[0m\u001b[1;33m\u001b[0m\u001b[1;33m\u001b[0m\u001b[0m\n\u001b[0;32m    436\u001b[0m     \u001b[0mdf\u001b[0m\u001b[1;33m.\u001b[0m\u001b[0mloc\u001b[0m\u001b[1;33m[\u001b[0m\u001b[0mdf\u001b[0m\u001b[1;33m.\u001b[0m\u001b[0mindex\u001b[0m\u001b[1;33m[\u001b[0m\u001b[1;36m0\u001b[0m\u001b[1;33m]\u001b[0m\u001b[1;33m,\u001b[0m\u001b[1;34m\"value\"\u001b[0m\u001b[1;33m]\u001b[0m \u001b[1;33m=\u001b[0m \u001b[0mdf\u001b[0m\u001b[1;33m.\u001b[0m\u001b[0mloc\u001b[0m\u001b[1;33m[\u001b[0m\u001b[0mdf\u001b[0m\u001b[1;33m.\u001b[0m\u001b[0mindex\u001b[0m\u001b[1;33m[\u001b[0m\u001b[1;36m0\u001b[0m\u001b[1;33m]\u001b[0m\u001b[1;33m,\u001b[0m\u001b[1;34m\"cumEI30\"\u001b[0m\u001b[1;33m]\u001b[0m\u001b[1;33m\u001b[0m\u001b[1;33m\u001b[0m\u001b[0m\n\u001b[1;32m--> 437\u001b[1;33m \u001b[1;33m\u001b[0m\u001b[0m\n\u001b[0m\u001b[0;32m    438\u001b[0m     \u001b[1;32mreturn\u001b[0m \u001b[0mdf\u001b[0m\u001b[1;33m[\u001b[0m\u001b[1;33m[\u001b[0m\u001b[1;34m\"year\"\u001b[0m\u001b[1;33m,\u001b[0m\u001b[1;34m\"value\"\u001b[0m\u001b[1;33m]\u001b[0m\u001b[1;33m]\u001b[0m\u001b[1;33m\u001b[0m\u001b[1;33m\u001b[0m\u001b[0m\n\u001b[0;32m    439\u001b[0m \u001b[1;33m\u001b[0m\u001b[0m\n",
      "\u001b[1;32mc:\\users\\sachagobeyn\\github\\rfactor\\src\\rfactor\\process.py\u001b[0m in \u001b[0;36mget_EI30\u001b[1;34m(dict_df_erosivity, year, frequency)\u001b[0m\n\u001b[0;32m    435\u001b[0m     \u001b[0mdf\u001b[0m\u001b[1;33m[\u001b[0m\u001b[1;34m\"value\"\u001b[0m\u001b[1;33m]\u001b[0m \u001b[1;33m=\u001b[0m \u001b[0mdf\u001b[0m\u001b[1;33m[\u001b[0m\u001b[1;34m\"cumEI30\"\u001b[0m\u001b[1;33m]\u001b[0m\u001b[1;33m.\u001b[0m\u001b[0mdiff\u001b[0m\u001b[1;33m(\u001b[0m\u001b[1;33m)\u001b[0m\u001b[1;33m\u001b[0m\u001b[1;33m\u001b[0m\u001b[0m\n\u001b[0;32m    436\u001b[0m     \u001b[0mdf\u001b[0m\u001b[1;33m.\u001b[0m\u001b[0mloc\u001b[0m\u001b[1;33m[\u001b[0m\u001b[0mdf\u001b[0m\u001b[1;33m.\u001b[0m\u001b[0mindex\u001b[0m\u001b[1;33m[\u001b[0m\u001b[1;36m0\u001b[0m\u001b[1;33m]\u001b[0m\u001b[1;33m,\u001b[0m\u001b[1;34m\"value\"\u001b[0m\u001b[1;33m]\u001b[0m \u001b[1;33m=\u001b[0m \u001b[0mdf\u001b[0m\u001b[1;33m.\u001b[0m\u001b[0mloc\u001b[0m\u001b[1;33m[\u001b[0m\u001b[0mdf\u001b[0m\u001b[1;33m.\u001b[0m\u001b[0mindex\u001b[0m\u001b[1;33m[\u001b[0m\u001b[1;36m0\u001b[0m\u001b[1;33m]\u001b[0m\u001b[1;33m,\u001b[0m\u001b[1;34m\"cumEI30\"\u001b[0m\u001b[1;33m]\u001b[0m\u001b[1;33m\u001b[0m\u001b[1;33m\u001b[0m\u001b[0m\n\u001b[1;32m--> 437\u001b[1;33m \u001b[1;33m\u001b[0m\u001b[0m\n\u001b[0m\u001b[0;32m    438\u001b[0m     \u001b[1;32mreturn\u001b[0m \u001b[0mdf\u001b[0m\u001b[1;33m[\u001b[0m\u001b[1;33m[\u001b[0m\u001b[1;34m\"year\"\u001b[0m\u001b[1;33m,\u001b[0m\u001b[1;34m\"value\"\u001b[0m\u001b[1;33m]\u001b[0m\u001b[1;33m]\u001b[0m\u001b[1;33m\u001b[0m\u001b[1;33m\u001b[0m\u001b[0m\n\u001b[0;32m    439\u001b[0m \u001b[1;33m\u001b[0m\u001b[0m\n",
      "\u001b[1;32m~\\miniconda3\\envs\\rfactor\\lib\\bdb.py\u001b[0m in \u001b[0;36mtrace_dispatch\u001b[1;34m(self, frame, event, arg)\u001b[0m\n\u001b[0;32m     86\u001b[0m             \u001b[1;32mreturn\u001b[0m \u001b[1;31m# None\u001b[0m\u001b[1;33m\u001b[0m\u001b[1;33m\u001b[0m\u001b[0m\n\u001b[0;32m     87\u001b[0m         \u001b[1;32mif\u001b[0m \u001b[0mevent\u001b[0m \u001b[1;33m==\u001b[0m \u001b[1;34m'line'\u001b[0m\u001b[1;33m:\u001b[0m\u001b[1;33m\u001b[0m\u001b[1;33m\u001b[0m\u001b[0m\n\u001b[1;32m---> 88\u001b[1;33m             \u001b[1;32mreturn\u001b[0m \u001b[0mself\u001b[0m\u001b[1;33m.\u001b[0m\u001b[0mdispatch_line\u001b[0m\u001b[1;33m(\u001b[0m\u001b[0mframe\u001b[0m\u001b[1;33m)\u001b[0m\u001b[1;33m\u001b[0m\u001b[1;33m\u001b[0m\u001b[0m\n\u001b[0m\u001b[0;32m     89\u001b[0m         \u001b[1;32mif\u001b[0m \u001b[0mevent\u001b[0m \u001b[1;33m==\u001b[0m \u001b[1;34m'call'\u001b[0m\u001b[1;33m:\u001b[0m\u001b[1;33m\u001b[0m\u001b[1;33m\u001b[0m\u001b[0m\n\u001b[0;32m     90\u001b[0m             \u001b[1;32mreturn\u001b[0m \u001b[0mself\u001b[0m\u001b[1;33m.\u001b[0m\u001b[0mdispatch_call\u001b[0m\u001b[1;33m(\u001b[0m\u001b[0mframe\u001b[0m\u001b[1;33m,\u001b[0m \u001b[0marg\u001b[0m\u001b[1;33m)\u001b[0m\u001b[1;33m\u001b[0m\u001b[1;33m\u001b[0m\u001b[0m\n",
      "\u001b[1;32m~\\miniconda3\\envs\\rfactor\\lib\\bdb.py\u001b[0m in \u001b[0;36mdispatch_line\u001b[1;34m(self, frame)\u001b[0m\n\u001b[0;32m    111\u001b[0m         \u001b[1;32mif\u001b[0m \u001b[0mself\u001b[0m\u001b[1;33m.\u001b[0m\u001b[0mstop_here\u001b[0m\u001b[1;33m(\u001b[0m\u001b[0mframe\u001b[0m\u001b[1;33m)\u001b[0m \u001b[1;32mor\u001b[0m \u001b[0mself\u001b[0m\u001b[1;33m.\u001b[0m\u001b[0mbreak_here\u001b[0m\u001b[1;33m(\u001b[0m\u001b[0mframe\u001b[0m\u001b[1;33m)\u001b[0m\u001b[1;33m:\u001b[0m\u001b[1;33m\u001b[0m\u001b[1;33m\u001b[0m\u001b[0m\n\u001b[0;32m    112\u001b[0m             \u001b[0mself\u001b[0m\u001b[1;33m.\u001b[0m\u001b[0muser_line\u001b[0m\u001b[1;33m(\u001b[0m\u001b[0mframe\u001b[0m\u001b[1;33m)\u001b[0m\u001b[1;33m\u001b[0m\u001b[1;33m\u001b[0m\u001b[0m\n\u001b[1;32m--> 113\u001b[1;33m             \u001b[1;32mif\u001b[0m \u001b[0mself\u001b[0m\u001b[1;33m.\u001b[0m\u001b[0mquitting\u001b[0m\u001b[1;33m:\u001b[0m \u001b[1;32mraise\u001b[0m \u001b[0mBdbQuit\u001b[0m\u001b[1;33m\u001b[0m\u001b[1;33m\u001b[0m\u001b[0m\n\u001b[0m\u001b[0;32m    114\u001b[0m         \u001b[1;32mreturn\u001b[0m \u001b[0mself\u001b[0m\u001b[1;33m.\u001b[0m\u001b[0mtrace_dispatch\u001b[0m\u001b[1;33m\u001b[0m\u001b[1;33m\u001b[0m\u001b[0m\n\u001b[0;32m    115\u001b[0m \u001b[1;33m\u001b[0m\u001b[0m\n",
      "\u001b[1;31mBdbQuit\u001b[0m: "
     ]
    }
   ],
   "source": [
    "df_EI30 = data.load_EI30()"
   ]
  },
  {
   "cell_type": "markdown",
   "metadata": {},
   "source": [
    "## Figure"
   ]
  },
  {
   "cell_type": "code",
   "execution_count": null,
   "metadata": {},
   "outputs": [],
   "source": [
    "out = dict_df_output_hm[\"Ukkel_samen\"]\n",
    "plt.figure(figsize=[12,7.5])\n",
    "col = np.arange(1898,2003,1)\n",
    "col = [i for i in col if i in dict_df_output_hm[\"Ukkel_samen\"].columns]\n",
    "plt.plot(col,out[col].iloc[-1],label=\"KMI_FS3 (1898-2002)\")\n",
    "col = np.arange(2002,2019,1)\n",
    "col = [i for i in col if i in dict_df_output_hm[\"Ukkel_samen\"].columns]\n",
    "plt.plot(col,out[col].iloc[-1],label=\"KMI_6447 (2003-2019)\")\n",
    "\n",
    "# rolling mean\n",
    "y = out.iloc[-1].rolling(10).mean()\n",
    "x = y.index\n",
    "plt.plot(x,y,ls=':',lw=3,label='voortschrijdend gemiddelde (10 jaar)')\n",
    "y = out.iloc[-1].rolling(20).mean()\n",
    "x = y.index\n",
    "plt.plot(x,y,ls='--',lw=3,label='voortschrijdend gemiddelde (20 jaar)')\n",
    "y = out.iloc[-1].rolling(30).mean()\n",
    "x = y.index\n",
    "plt.plot(x,y,ls='-.',lw=3,label='voortschrijdend gemiddelde (30 jaar)')\n",
    "plt.ylim([0,3500])\n",
    "plt.xlim([1890,2020])\n",
    "plt.tick_params(axis='both', which='major', labelsize=14)\n",
    "plt.xlabel(r'Jaar (-)',fontsize=16)\n",
    "plt.ylabel(r'Jaarlijkse R [MJ mm ha$^{-1}$ h$^{-1}$ jaar$^{-1}$]',fontsize=16)\n",
    "plt.legend(prop={'size':16})"
   ]
  },
  {
   "cell_type": "markdown",
   "metadata": {},
   "source": [
    "Compare results of Ukkel with other average of other stations"
   ]
  },
  {
   "cell_type": "code",
   "execution_count": null,
   "metadata": {},
   "outputs": [],
   "source": [
    "coldf = [\"station\",\"rc\",\"offset\",\"afstand\",\"p\",\"r_value\",\"n\",\"dR\",\"meanR\"]\n",
    "out = pd.DataFrame(data = np.zeros([len(dict_df_output_hm)-3,len(coldf)]),columns=coldf)\n",
    "ind = 0\n",
    "\n",
    "for i in dict_df_output_hm.keys():\n",
    "    \n",
    "    if (i!=\"Ukkel_samen\") & (i!=\"KMI_FS3\") & (i!=\"KMI_6447\"):\n",
    "        col = dict_df_output_hm[\"Ukkel_samen\"].columns\n",
    "        col_fill_nan = [j for j in col if j not in dict_df_output_hm[i].columns]\n",
    "        for j in col_fill_nan:\n",
    "            dict_df_output_hm[i][j] = np.nan\n",
    "        y = dict_df_output_hm[i][col].iloc[-1]\n",
    "        x = dict_df_output_hm[\"Ukkel_samen\"][col].iloc[-1]\n",
    "        x = x[~np.isnan(y)]        \n",
    "        y = y[~np.isnan(y)]\n",
    "        df_i = pd.DataFrame()\n",
    "        df_i[i] = x.values.flatten()\n",
    "        df_i[\"Ukkel (KMI_FS3 & KMI_6447)\"] = y.values.flatten()\n",
    "        df_i = df_i.sort_values(\"Ukkel (KMI_FS3 & KMI_6447)\")\n",
    "        \n",
    "        out[\"dR\"].loc[ind] = np.mean(dict_df_output_hm[i].iloc[-1])-np.mean(dict_df_output_hm[\"Ukkel_samen\"].iloc[-1])\n",
    "        out[\"meanR\"].loc[ind] = np.mean(dict_df_output_hm[i].iloc[-1])\n",
    "        ind += 1\n",
    "\n",
    "out.to_csv(Path(resmap) / \"stat_allstations_res.csv\")"
   ]
  },
  {
   "cell_type": "code",
   "execution_count": null,
   "metadata": {},
   "outputs": [],
   "source": []
  }
 ],
 "metadata": {
  "kernelspec": {
   "display_name": "rfactor",
   "language": "python",
   "name": "rfactor"
  },
  "language_info": {
   "codemirror_mode": {
    "name": "ipython",
    "version": 3
   },
   "file_extension": ".py",
   "mimetype": "text/x-python",
   "name": "python",
   "nbconvert_exporter": "python",
   "pygments_lexer": "ipython3",
   "version": "3.9.2"
  },
  "toc": {
   "base_numbering": 1,
   "nav_menu": {},
   "number_sections": true,
   "sideBar": true,
   "skip_h1_title": false,
   "title_cell": "Table of Contents",
   "title_sidebar": "Contents",
   "toc_cell": false,
   "toc_position": {},
   "toc_section_display": true,
   "toc_window_display": false
  },
  "varInspector": {
   "cols": {
    "lenName": 16,
    "lenType": 16,
    "lenVar": 40
   },
   "kernels_config": {
    "python": {
     "delete_cmd_postfix": "",
     "delete_cmd_prefix": "del ",
     "library": "var_list.py",
     "varRefreshCmd": "print(var_dic_list())"
    },
    "r": {
     "delete_cmd_postfix": ") ",
     "delete_cmd_prefix": "rm(",
     "library": "var_list.r",
     "varRefreshCmd": "cat(var_dic_list()) "
    }
   },
   "types_to_exclude": [
    "module",
    "function",
    "builtin_function_or_method",
    "instance",
    "_Feature"
   ],
   "window_display": false
  }
 },
 "nbformat": 4,
 "nbformat_minor": 4
}
