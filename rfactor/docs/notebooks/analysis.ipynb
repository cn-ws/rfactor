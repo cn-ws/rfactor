{
 "cells": [
  {
   "cell_type": "code",
   "execution_count": 39,
   "metadata": {},
   "outputs": [
    {
     "name": "stdout",
     "output_type": "stream",
     "text": [
      "The autoreload extension is already loaded. To reload it, use:\n",
      "  %reload_ext autoreload\n"
     ]
    }
   ],
   "source": [
    "%load_ext autoreload\n",
    "%autoreload 2"
   ]
  },
  {
   "cell_type": "markdown",
   "metadata": {},
   "source": [
    "## Aim"
   ]
  },
  {
   "cell_type": "markdown",
   "metadata": {},
   "source": [
    "## Imports\n",
    "Main imports"
   ]
  },
  {
   "cell_type": "code",
   "execution_count": 40,
   "metadata": {},
   "outputs": [],
   "source": [
    "import matplotlib.pyplot as plt \n",
    "import pandas as pd\n",
    "import numpy as np\n",
    "from pathlib import Path\n",
    "import sys"
   ]
  },
  {
   "cell_type": "markdown",
   "metadata": {},
   "source": [
    "Package imports"
   ]
  },
  {
   "cell_type": "code",
   "execution_count": 130,
   "metadata": {},
   "outputs": [],
   "source": [
    "sys.path.append(r\"C:\\Users\\SachaGobeyn\\GitHub\\rfactor\")\n",
    "from rfactor.src.flanders.data_processing import (load_input_data,\n",
    "                                                  reformat_resolution,\n",
    "                                                  compute_statistics_inputdata,\n",
    "                                                  get_files_rfactor_script,\n",
    "                                                  load_cumulative_erosivity,\n",
    "                                                  load_data_completeness_file) "
   ]
  },
  {
   "cell_type": "markdown",
   "metadata": {},
   "source": [
    "Load completeness per station\n",
    "Compute completeness for every station for every year\n",
    "1. Remove each set (year, station) if no data are reported for December or Januari (value: -1)\n",
    "2. Compute the number of non-NA-values on the non-zero data series (%) (value in [0,1])\n",
    "\n",
    "__NOTE__: These values are computed based on the original rainfall timeseries of KMI and VMM"
   ]
  },
  {
   "cell_type": "code",
   "execution_count": 42,
   "metadata": {},
   "outputs": [],
   "source": [
    "path_data_flanders = Path(\"..\",\"..\",\"src\",\"flanders\",\"data\")\n",
    "txt_completeness = path_data_flanders / \"datafiles_completeness.csv\"\n",
    "df_completeness = load_data_completeness_file(txt_completeness)"
   ]
  },
  {
   "cell_type": "markdown",
   "metadata": {},
   "source": [
    "## Input data"
   ]
  },
  {
   "cell_type": "markdown",
   "metadata": {},
   "source": [
    "**Load data**  \n",
    "Non-zero rainfall data are loaded. stations for years that are incomplete (no data for januari and december, begin and ends of dataseries per station are not loaded, as these are not computed with the scripts of GV). Stations/year with data with a high amount of na values (<95 % completeness) are ommited."
   ]
  },
  {
   "cell_type": "code",
   "execution_count": 43,
   "metadata": {
    "scrolled": true
   },
   "outputs": [],
   "source": [
    "fmap =  Path(r\"C:\\Users\\SachaGobeyn\\Dropbox (Fluves)\\FLUVES\\PROJECTS\\FL_P_2020_DepO_CNWSMod_1\\08_reports\\2019_rapportering_rfactor\\versie_2020\\elektronische_appendixB_Inputdata\")"
   ]
  },
  {
   "cell_type": "code",
   "execution_count": 44,
   "metadata": {},
   "outputs": [
    {
     "data": {
      "text/plain": [
       "True"
      ]
     },
     "execution_count": 44,
     "metadata": {},
     "output_type": "execute_result"
    }
   ],
   "source": [
    "fmap.exists()"
   ]
  },
  {
   "cell_type": "code",
   "execution_count": 45,
   "metadata": {},
   "outputs": [],
   "source": [
    "dict_inputdata = load_input_data(fmap, df_completeness)"
   ]
  },
  {
   "cell_type": "markdown",
   "metadata": {},
   "source": [
    "**Station geodata informations**\n"
   ]
  },
  {
   "cell_type": "code",
   "execution_count": 46,
   "metadata": {},
   "outputs": [],
   "source": [
    "df_stations_KMI= pd.read_csv(path_data_flanders / \"geoinfo_KMI.csv\", delimiter=\";\")\n",
    "df_stations_VMM = pd.read_csv(path_data_flanders / \"geoinfo_VMM.csv\", delimiter=\",\")\n",
    "df_stations = df_stations_KMI.append(df_stations_VMM)"
   ]
  },
  {
   "cell_type": "markdown",
   "metadata": {},
   "source": [
    "**Compute statistics**  \n",
    "Compute general statistics with .describe() functions,  and couple x and y's. Only "
   ]
  },
  {
   "cell_type": "code",
   "execution_count": 47,
   "metadata": {},
   "outputs": [],
   "source": [
    "resmap = \"results\"\n",
    "compute_statistics_inputdata(dict_inputdata, resmap, df_stations)"
   ]
  },
  {
   "cell_type": "markdown",
   "metadata": {},
   "source": [
    "## Compute R-factor"
   ]
  },
  {
   "cell_type": "markdown",
   "metadata": {},
   "source": [
    "Run model with Matlab in terminal (navigate to *C:\\Users\\$USERNAME\\GitHub\\rfactor\\rfactor\\src\\rfactor*, **see README.md**)\n",
    "    \n",
    "    matlab -nodisplay -r \"main('C:\\Users\\\\$USERNAME\\GitHub\\rfactor\\rfactor\\docs\\data\\example_inputdata')\"\n",
    "\n",
    "Results are saved in *C:\\Users\\\\$USERNAME\\GitHub\\rfactor\\rfactor\\src\\rfactor*"
   ]
  },
  {
   "cell_type": "code",
   "execution_count": 48,
   "metadata": {},
   "outputs": [],
   "source": [
    "fmap = Path(r\"C:\\Users\\SachaGobeyn\\GitHub\\rfactor\\rfactor\\src\\rfactor\\results\")"
   ]
  },
  {
   "cell_type": "code",
   "execution_count": 49,
   "metadata": {},
   "outputs": [
    {
     "data": {
      "text/plain": [
       "True"
      ]
     },
     "execution_count": 49,
     "metadata": {},
     "output_type": "execute_result"
    }
   ],
   "source": [
    "fmap.exists()"
   ]
  },
  {
   "cell_type": "markdown",
   "metadata": {},
   "source": [
    "## Process results"
   ]
  },
  {
   "cell_type": "markdown",
   "metadata": {},
   "source": [
    "**Get files**"
   ]
  },
  {
   "cell_type": "code",
   "execution_count": 126,
   "metadata": {},
   "outputs": [],
   "source": [
    "dict_output_files = get_files_rfactor_script(fmap,dict_inputdata,df_completeness)"
   ]
  },
  {
   "cell_type": "markdown",
   "metadata": {},
   "source": [
    "**Create dataframes**\n",
    "One dataframe for each station.  \n",
    "__NOTE__: Results from incomplete datasets (<0.95 coverage) are not loaded as these have not been computed! "
   ]
  },
  {
   "cell_type": "code",
   "execution_count": 127,
   "metadata": {
    "scrolled": true
   },
   "outputs": [],
   "source": [
    "dict_df_output = load_cumulative_erosivity(dict_output_files)"
   ]
  },
  {
   "cell_type": "markdown",
   "metadata": {},
   "source": [
    "**Reformat for half-monthly analysis**"
   ]
  },
  {
   "cell_type": "code",
   "execution_count": 134,
   "metadata": {},
   "outputs": [],
   "source": [
    "dict_df_output_hm = reformat_resolution(dict_df_output)"
   ]
  },
  {
   "cell_type": "markdown",
   "metadata": {},
   "source": [
    "**Generate table output**"
   ]
  },
  {
   "cell_type": "code",
   "execution_count": 120,
   "metadata": {},
   "outputs": [],
   "source": [
    "n_records = np.sum([len(dict_df_output_hm [i].columns) for i in dict_df_output_hm.keys()])\n",
    "columns = [\"station\",\"year\",\"value\",\"Flanders\",\"Belgium\"]\n",
    "df_R_yearly =  pd.DataFrame(data=np.zeros([n_records,len(columns)]),columns=columns)\n",
    "\n",
    "ind = 0\n",
    "\n",
    "for station in dict_df_output_hm.keys():\n",
    "    \n",
    "    for year in dict_df_output_hm[station].columns:\n",
    "        \n",
    "        value = dict_df_output_hm[station][year].iloc[-1]\n",
    "        \n",
    "        if station in [\"KMI_6447\",\"KMI_FS3\"]:\n",
    "            Belgium = 0\n",
    "            Flanders = 0\n",
    "            Ukkel = 1\n",
    "        elif station in [\"KMI_6455\",\"KMI_6459\",\"KMI_6472\",\"KMI_6494\"]:\n",
    "            Flanders = 0\n",
    "            Belgium = 1\n",
    "            Ukkel = 0\n",
    "        else:\n",
    "            Belgium = 1\n",
    "            Flanders = 1\n",
    "            Ukkel = 0\n",
    "        df_R_yearly.loc[ind, [\"station\",\"year\",\"value\",\"Ukkel\",\"Flanders\",\"Belgium\"]] = [station, year, value, Ukkel, Flanders, Belgium]        \n",
    "        \n",
    "        ind += 1\n",
    "        \n",
    "df_R_yearly.to_csv(Path(resmap) / \"Ryearly_allstations_filtereddata.csv\")"
   ]
  },
  {
   "cell_type": "markdown",
   "metadata": {},
   "source": [
    "## Analysis"
   ]
  },
  {
   "cell_type": "markdown",
   "metadata": {},
   "source": [
    "**Values for Flanders and Belgium**  \n",
    "Average value for Flanders (excl. Ukkel)"
   ]
  },
  {
   "cell_type": "code",
   "execution_count": 136,
   "metadata": {},
   "outputs": [
    {
     "data": {
      "text/plain": [
       "1230.5252586206896"
      ]
     },
     "execution_count": 136,
     "metadata": {},
     "output_type": "execute_result"
    }
   ],
   "source": [
    "np.mean(df_R_yearly.loc[df_R_yearly[\"Flanders\"]==1,\"value\"])"
   ]
  },
  {
   "cell_type": "markdown",
   "metadata": {},
   "source": [
    "Average value for Belgium (excl. Ukkel)"
   ]
  },
  {
   "cell_type": "code",
   "execution_count": 137,
   "metadata": {},
   "outputs": [
    {
     "data": {
      "text/plain": [
       "1256.2069003690037"
      ]
     },
     "execution_count": 137,
     "metadata": {},
     "output_type": "execute_result"
    }
   ],
   "source": [
    "np.mean(df_R_yearly.loc[df_R_yearly[\"Belgium\"]==1,\"value\"])"
   ]
  },
  {
   "cell_type": "markdown",
   "metadata": {},
   "source": [
    "**Ukkel: long term**   \n",
    "Two timeseries: \n",
    " - KMI_FS from 1989 to 2002  \n",
    " - KMI_6447 from 2003 to 2017  "
   ]
  },
  {
   "cell_type": "code",
   "execution_count": 138,
   "metadata": {},
   "outputs": [],
   "source": [
    "dict_df_output_hm[\"Ukkel_samen\"] = pd.concat([dict_df_output_hm[\"KMI_FS3\"],dict_df_output_hm[\"KMI_6447\"]], axis=1)\n",
    "dict_df_output_hm[\"Ukkel_samen\"].to_csv(Path(resmap) / \"Ryearly_Ukkel_filtereddata.csv\")"
   ]
  },
  {
   "cell_type": "markdown",
   "metadata": {},
   "source": [
    "Compute different values for Ukkel, for different time periods"
   ]
  },
  {
   "cell_type": "code",
   "execution_count": 139,
   "metadata": {},
   "outputs": [],
   "source": [
    "a= [[1898,2002],\n",
    "    [1898,2019],\n",
    "    [2003,2019],\n",
    "    [1996,2019],\n",
    "    [1990,2019],\n",
    "    [1990,2000],\n",
    "    [2000,2019]]\n",
    "pres = {}\n",
    "for j in a:\n",
    "    col = np.arange(j[0],j[1]+1,1)\n",
    "    col = [i for i in col if i in dict_df_output_hm[\"Ukkel_samen\"].columns]\n",
    "    col_fill_nan = [i for i in col if i not in dict_df_output_hm[\"Ukkel_samen\"].columns]\n",
    "    for i in col_fill_nan:\n",
    "        dict_df_output_hm[\"Ukkel_samen\"][i] = np.nan\n",
    "    pres[str(j)] = {\"mean\":np.nanmean(dict_df_output_hm[\"Ukkel_samen\"][col].iloc[-1]),\"median\":np.nanmedian(dict_df_output_hm[\"Ukkel_samen\"][col].iloc[-1])}\n",
    "df_summary = pd.DataFrame.from_dict(pres).T    "
   ]
  },
  {
   "cell_type": "code",
   "execution_count": 140,
   "metadata": {},
   "outputs": [
    {
     "data": {
      "text/html": [
       "<div>\n",
       "<style scoped>\n",
       "    .dataframe tbody tr th:only-of-type {\n",
       "        vertical-align: middle;\n",
       "    }\n",
       "\n",
       "    .dataframe tbody tr th {\n",
       "        vertical-align: top;\n",
       "    }\n",
       "\n",
       "    .dataframe thead th {\n",
       "        text-align: right;\n",
       "    }\n",
       "</style>\n",
       "<table border=\"1\" class=\"dataframe\">\n",
       "  <thead>\n",
       "    <tr style=\"text-align: right;\">\n",
       "      <th></th>\n",
       "      <th>mean</th>\n",
       "      <th>median</th>\n",
       "    </tr>\n",
       "  </thead>\n",
       "  <tbody>\n",
       "    <tr>\n",
       "      <th>[1898, 2002]</th>\n",
       "      <td>958.105810</td>\n",
       "      <td>927.27</td>\n",
       "    </tr>\n",
       "    <tr>\n",
       "      <th>[1898, 2019]</th>\n",
       "      <td>1005.035702</td>\n",
       "      <td>941.02</td>\n",
       "    </tr>\n",
       "    <tr>\n",
       "      <th>[2003, 2019]</th>\n",
       "      <td>1313.013125</td>\n",
       "      <td>1094.68</td>\n",
       "    </tr>\n",
       "    <tr>\n",
       "      <th>[1996, 2019]</th>\n",
       "      <td>1260.633043</td>\n",
       "      <td>1095.00</td>\n",
       "    </tr>\n",
       "    <tr>\n",
       "      <th>[1990, 2019]</th>\n",
       "      <td>1244.897586</td>\n",
       "      <td>1095.00</td>\n",
       "    </tr>\n",
       "    <tr>\n",
       "      <th>[1990, 2000]</th>\n",
       "      <td>1094.643636</td>\n",
       "      <td>1073.07</td>\n",
       "    </tr>\n",
       "    <tr>\n",
       "      <th>[2000, 2019]</th>\n",
       "      <td>1302.779474</td>\n",
       "      <td>1146.81</td>\n",
       "    </tr>\n",
       "  </tbody>\n",
       "</table>\n",
       "</div>"
      ],
      "text/plain": [
       "                     mean   median\n",
       "[1898, 2002]   958.105810   927.27\n",
       "[1898, 2019]  1005.035702   941.02\n",
       "[2003, 2019]  1313.013125  1094.68\n",
       "[1996, 2019]  1260.633043  1095.00\n",
       "[1990, 2019]  1244.897586  1095.00\n",
       "[1990, 2000]  1094.643636  1073.07\n",
       "[2000, 2019]  1302.779474  1146.81"
      ]
     },
     "execution_count": 140,
     "metadata": {},
     "output_type": "execute_result"
    }
   ],
   "source": [
    "df_summary"
   ]
  },
  {
   "cell_type": "markdown",
   "metadata": {},
   "source": [
    "Figure"
   ]
  },
  {
   "cell_type": "code",
   "execution_count": null,
   "metadata": {},
   "outputs": [],
   "source": [
    "out = dict_df_output_hm[\"Ukkel_samen\"]\n",
    "plt.figure(figsize=[12,7.5])\n",
    "col = np.arange(1898,2003,1)\n",
    "col = [i for i in col if i in dict_df_output_hm[\"Ukkel_samen\"].columns]\n",
    "plt.plot(col,out[col].iloc[-1],label=\"KMI_FS3 (1898-2002)\")\n",
    "col = np.arange(2002,2019,1)\n",
    "col = [i for i in col if i in dict_df_output_hm[\"Ukkel_samen\"].columns]\n",
    "plt.plot(col,out[col].iloc[-1],label=\"KMI_6447 (2003-2019)\")\n",
    "\n",
    "# rolling mean\n",
    "y = out.iloc[-1].rolling(10).mean()\n",
    "x = y.index\n",
    "plt.plot(x,y,ls=':',lw=3,label='voortschrijdend gemiddelde (10 jaar)')\n",
    "y = out.iloc[-1].rolling(20).mean()\n",
    "x = y.index\n",
    "plt.plot(x,y,ls='--',lw=3,label='voortschrijdend gemiddelde (20 jaar)')\n",
    "y = out.iloc[-1].rolling(30).mean()\n",
    "x = y.index\n",
    "plt.plot(x,y,ls='-.',lw=3,label='voortschrijdend gemiddelde (30 jaar)')\n",
    "plt.ylim([0,3500])\n",
    "plt.xlim([1890,2020])\n",
    "plt.tick_params(axis='both', which='major', labelsize=14)\n",
    "plt.xlabel(r'Jaar (-)',fontsize=16)\n",
    "plt.ylabel(r'Jaarlijkse R [MJ mm ha$^{-1}$ h$^{-1}$ jaar$^{-1}$]',fontsize=16)\n",
    "plt.legend(prop={'size':16})"
   ]
  },
  {
   "cell_type": "markdown",
   "metadata": {},
   "source": [
    "Compare results of Ukkel with other average of other stations"
   ]
  },
  {
   "cell_type": "code",
   "execution_count": null,
   "metadata": {},
   "outputs": [],
   "source": [
    "coldf = [\"station\",\"rc\",\"offset\",\"afstand\",\"p\",\"r_value\",\"n\",\"dR\",\"meanR\"]\n",
    "out = pd.DataFrame(data = np.zeros([len(dict_df_output_hm)-3,len(coldf)]),columns=coldf)\n",
    "ind = 0\n",
    "\n",
    "for i in dict_df_output_hm.keys():\n",
    "    \n",
    "    if (i!=\"Ukkel_samen\") & (i!=\"KMI_FS3\") & (i!=\"KMI_6447\"):\n",
    "        col = dict_df_output_hm[\"Ukkel_samen\"].columns\n",
    "        col_fill_nan = [j for j in col if j not in dict_df_output_hm[i].columns]\n",
    "        for j in col_fill_nan:\n",
    "            dict_df_output_hm[i][j] = np.nan\n",
    "        y = dict_df_output_hm[i][col].iloc[-1]\n",
    "        x = dict_df_output_hm[\"Ukkel_samen\"][col].iloc[-1]\n",
    "        x = x[~np.isnan(y)]        \n",
    "        y = y[~np.isnan(y)]\n",
    "        df_i = pd.DataFrame()\n",
    "        df_i[i] = x.values.flatten()\n",
    "        df_i[\"Ukkel (KMI_FS3 & KMI_6447)\"] = y.values.flatten()\n",
    "        df_i = df_i.sort_values(\"Ukkel (KMI_FS3 & KMI_6447)\")\n",
    "        \n",
    "        out[\"dR\"].loc[ind] = np.mean(dict_df_output_hm[i].iloc[-1])-np.mean(dict_df_output_hm[\"Ukkel_samen\"].iloc[-1])\n",
    "        out[\"meanR\"].loc[ind] = np.mean(dict_df_output_hm[i].iloc[-1])\n",
    "        ind += 1\n",
    "\n",
    "out.to_csv(Path(resmap) / \"stat_allstations_res.csv\")"
   ]
  },
  {
   "cell_type": "code",
   "execution_count": null,
   "metadata": {},
   "outputs": [],
   "source": []
  }
 ],
 "metadata": {
  "kernelspec": {
   "display_name": "Python [conda env:ronnie]",
   "language": "python",
   "name": "conda-env-ronnie-py"
  },
  "language_info": {
   "codemirror_mode": {
    "name": "ipython",
    "version": 3
   },
   "file_extension": ".py",
   "mimetype": "text/x-python",
   "name": "python",
   "nbconvert_exporter": "python",
   "pygments_lexer": "ipython3",
   "version": "3.8.6"
  },
  "toc": {
   "base_numbering": 1,
   "nav_menu": {},
   "number_sections": true,
   "sideBar": true,
   "skip_h1_title": false,
   "title_cell": "Table of Contents",
   "title_sidebar": "Contents",
   "toc_cell": false,
   "toc_position": {},
   "toc_section_display": true,
   "toc_window_display": false
  },
  "varInspector": {
   "cols": {
    "lenName": 16,
    "lenType": 16,
    "lenVar": 40
   },
   "kernels_config": {
    "python": {
     "delete_cmd_postfix": "",
     "delete_cmd_prefix": "del ",
     "library": "var_list.py",
     "varRefreshCmd": "print(var_dic_list())"
    },
    "r": {
     "delete_cmd_postfix": ") ",
     "delete_cmd_prefix": "rm(",
     "library": "var_list.r",
     "varRefreshCmd": "cat(var_dic_list()) "
    }
   },
   "types_to_exclude": [
    "module",
    "function",
    "builtin_function_or_method",
    "instance",
    "_Feature"
   ],
   "window_display": false
  }
 },
 "nbformat": 4,
 "nbformat_minor": 4
}
